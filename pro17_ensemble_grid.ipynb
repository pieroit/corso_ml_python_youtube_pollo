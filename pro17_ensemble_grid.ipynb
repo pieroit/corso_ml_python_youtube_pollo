{
 "cells": [
  {
   "cell_type": "code",
   "execution_count": 3,
   "metadata": {},
   "outputs": [],
   "source": [
    "\n",
    "import pandas as pd\n",
    "import seaborn as sns\n",
    "from sklearn.datasets import fetch_california_housing\n",
    "from sklearn.model_selection import train_test_split\n",
    "from sklearn.tree import DecisionTreeRegressor\n",
    "from sklearn.neighbors import KNeighborsRegressor\n",
    "\n",
    "from sklearn.ensemble import VotingRegressor\n",
    "from sklearn.pipeline import Pipeline\n",
    "from sklearn.model_selection import GridSearchCV\n",
    "\n",
    "from sklearn.preprocessing import QuantileTransformer"
   ]
  },
  {
   "cell_type": "code",
   "execution_count": 4,
   "metadata": {},
   "outputs": [],
   "source": [
    "X, y = fetch_california_housing(return_X_y=True)"
   ]
  },
  {
   "cell_type": "code",
   "execution_count": 5,
   "metadata": {},
   "outputs": [],
   "source": [
    "X_train, X_test, y_train, y_test = train_test_split(X, y)"
   ]
  },
  {
   "cell_type": "code",
   "execution_count": 6,
   "metadata": {},
   "outputs": [],
   "source": [
    "models = [\n",
    "    ['tree', DecisionTreeRegressor()],\n",
    "    ['knn', KNeighborsRegressor()]\n",
    "]\n",
    "\n",
    "voter = VotingRegressor(models)"
   ]
  },
  {
   "cell_type": "code",
   "execution_count": 7,
   "metadata": {},
   "outputs": [],
   "source": [
    "steps = [\n",
    "    [ 'scaler', QuantileTransformer() ],\n",
    "    [ 'voter', voter]\n",
    "]\n",
    "\n",
    "pipe = Pipeline(steps)"
   ]
  },
  {
   "cell_type": "code",
   "execution_count": 8,
   "metadata": {},
   "outputs": [],
   "source": [
    "params = {\n",
    "    'voter__tree__max_depth'  : [10, 100, 1000],\n",
    "    'voter__knn__n_neighbors' : [2, 10, 100]\n",
    "}\n",
    "\n",
    "grid = GridSearchCV(pipe, param_grid=params, cv=2)"
   ]
  },
  {
   "cell_type": "code",
   "execution_count": 9,
   "metadata": {},
   "outputs": [
    {
     "data": {
      "text/plain": [
       "GridSearchCV(cv=2,\n",
       "             estimator=Pipeline(steps=[['scaler', QuantileTransformer()],\n",
       "                                       ['voter',\n",
       "                                        VotingRegressor(estimators=[['tree',\n",
       "                                                                     DecisionTreeRegressor()],\n",
       "                                                                    ['knn',\n",
       "                                                                     KNeighborsRegressor()]])]]),\n",
       "             param_grid={'voter__knn__n_neighbors': [2, 10, 100],\n",
       "                         'voter__tree__max_depth': [10, 100, 1000]})"
      ]
     },
     "execution_count": 9,
     "metadata": {},
     "output_type": "execute_result"
    }
   ],
   "source": [
    "grid.fit(X_train, y_train)"
   ]
  },
  {
   "cell_type": "code",
   "execution_count": 10,
   "metadata": {},
   "outputs": [
    {
     "data": {
      "text/html": [
       "<div>\n",
       "<style scoped>\n",
       "    .dataframe tbody tr th:only-of-type {\n",
       "        vertical-align: middle;\n",
       "    }\n",
       "\n",
       "    .dataframe tbody tr th {\n",
       "        vertical-align: top;\n",
       "    }\n",
       "\n",
       "    .dataframe thead th {\n",
       "        text-align: right;\n",
       "    }\n",
       "</style>\n",
       "<table border=\"1\" class=\"dataframe\">\n",
       "  <thead>\n",
       "    <tr style=\"text-align: right;\">\n",
       "      <th></th>\n",
       "      <th>mean_fit_time</th>\n",
       "      <th>std_fit_time</th>\n",
       "      <th>mean_score_time</th>\n",
       "      <th>std_score_time</th>\n",
       "      <th>param_voter__knn__n_neighbors</th>\n",
       "      <th>param_voter__tree__max_depth</th>\n",
       "      <th>params</th>\n",
       "      <th>split0_test_score</th>\n",
       "      <th>split1_test_score</th>\n",
       "      <th>mean_test_score</th>\n",
       "      <th>std_test_score</th>\n",
       "      <th>rank_test_score</th>\n",
       "    </tr>\n",
       "  </thead>\n",
       "  <tbody>\n",
       "    <tr>\n",
       "      <td>0</td>\n",
       "      <td>0.098233</td>\n",
       "      <td>0.010440</td>\n",
       "      <td>0.225434</td>\n",
       "      <td>0.008052</td>\n",
       "      <td>2</td>\n",
       "      <td>10</td>\n",
       "      <td>{'voter__knn__n_neighbors': 2, 'voter__tree__m...</td>\n",
       "      <td>0.723573</td>\n",
       "      <td>0.717356</td>\n",
       "      <td>0.720465</td>\n",
       "      <td>0.003108</td>\n",
       "      <td>4</td>\n",
       "    </tr>\n",
       "    <tr>\n",
       "      <td>1</td>\n",
       "      <td>0.119216</td>\n",
       "      <td>0.007480</td>\n",
       "      <td>0.228866</td>\n",
       "      <td>0.006463</td>\n",
       "      <td>2</td>\n",
       "      <td>100</td>\n",
       "      <td>{'voter__knn__n_neighbors': 2, 'voter__tree__m...</td>\n",
       "      <td>0.710346</td>\n",
       "      <td>0.700704</td>\n",
       "      <td>0.705525</td>\n",
       "      <td>0.004821</td>\n",
       "      <td>7</td>\n",
       "    </tr>\n",
       "    <tr>\n",
       "      <td>2</td>\n",
       "      <td>0.109694</td>\n",
       "      <td>0.001989</td>\n",
       "      <td>0.223407</td>\n",
       "      <td>0.000974</td>\n",
       "      <td>2</td>\n",
       "      <td>1000</td>\n",
       "      <td>{'voter__knn__n_neighbors': 2, 'voter__tree__m...</td>\n",
       "      <td>0.710239</td>\n",
       "      <td>0.701543</td>\n",
       "      <td>0.705891</td>\n",
       "      <td>0.004348</td>\n",
       "      <td>6</td>\n",
       "    </tr>\n",
       "    <tr>\n",
       "      <td>3</td>\n",
       "      <td>0.100235</td>\n",
       "      <td>0.010472</td>\n",
       "      <td>0.389455</td>\n",
       "      <td>0.000498</td>\n",
       "      <td>10</td>\n",
       "      <td>10</td>\n",
       "      <td>{'voter__knn__n_neighbors': 10, 'voter__tree__...</td>\n",
       "      <td>0.739115</td>\n",
       "      <td>0.736573</td>\n",
       "      <td>0.737844</td>\n",
       "      <td>0.001271</td>\n",
       "      <td>1</td>\n",
       "    </tr>\n",
       "    <tr>\n",
       "      <td>4</td>\n",
       "      <td>0.128158</td>\n",
       "      <td>0.005485</td>\n",
       "      <td>0.445309</td>\n",
       "      <td>0.015459</td>\n",
       "      <td>10</td>\n",
       "      <td>100</td>\n",
       "      <td>{'voter__knn__n_neighbors': 10, 'voter__tree__...</td>\n",
       "      <td>0.732494</td>\n",
       "      <td>0.724636</td>\n",
       "      <td>0.728565</td>\n",
       "      <td>0.003929</td>\n",
       "      <td>2</td>\n",
       "    </tr>\n",
       "    <tr>\n",
       "      <td>5</td>\n",
       "      <td>0.148106</td>\n",
       "      <td>0.001493</td>\n",
       "      <td>0.399429</td>\n",
       "      <td>0.029423</td>\n",
       "      <td>10</td>\n",
       "      <td>1000</td>\n",
       "      <td>{'voter__knn__n_neighbors': 10, 'voter__tree__...</td>\n",
       "      <td>0.731967</td>\n",
       "      <td>0.720501</td>\n",
       "      <td>0.726234</td>\n",
       "      <td>0.005733</td>\n",
       "      <td>3</td>\n",
       "    </tr>\n",
       "    <tr>\n",
       "      <td>6</td>\n",
       "      <td>0.096757</td>\n",
       "      <td>0.001020</td>\n",
       "      <td>1.068623</td>\n",
       "      <td>0.028405</td>\n",
       "      <td>100</td>\n",
       "      <td>10</td>\n",
       "      <td>{'voter__knn__n_neighbors': 100, 'voter__tree_...</td>\n",
       "      <td>0.713158</td>\n",
       "      <td>0.713674</td>\n",
       "      <td>0.713416</td>\n",
       "      <td>0.000258</td>\n",
       "      <td>5</td>\n",
       "    </tr>\n",
       "    <tr>\n",
       "      <td>7</td>\n",
       "      <td>0.140606</td>\n",
       "      <td>0.009989</td>\n",
       "      <td>1.032738</td>\n",
       "      <td>0.004488</td>\n",
       "      <td>100</td>\n",
       "      <td>100</td>\n",
       "      <td>{'voter__knn__n_neighbors': 100, 'voter__tree_...</td>\n",
       "      <td>0.707579</td>\n",
       "      <td>0.695383</td>\n",
       "      <td>0.701481</td>\n",
       "      <td>0.006098</td>\n",
       "      <td>9</td>\n",
       "    </tr>\n",
       "    <tr>\n",
       "      <td>8</td>\n",
       "      <td>0.115193</td>\n",
       "      <td>0.003492</td>\n",
       "      <td>1.041713</td>\n",
       "      <td>0.020448</td>\n",
       "      <td>100</td>\n",
       "      <td>1000</td>\n",
       "      <td>{'voter__knn__n_neighbors': 100, 'voter__tree_...</td>\n",
       "      <td>0.707017</td>\n",
       "      <td>0.698742</td>\n",
       "      <td>0.702879</td>\n",
       "      <td>0.004137</td>\n",
       "      <td>8</td>\n",
       "    </tr>\n",
       "  </tbody>\n",
       "</table>\n",
       "</div>"
      ],
      "text/plain": [
       "   mean_fit_time  std_fit_time  mean_score_time  std_score_time  \\\n",
       "0       0.098233      0.010440         0.225434        0.008052   \n",
       "1       0.119216      0.007480         0.228866        0.006463   \n",
       "2       0.109694      0.001989         0.223407        0.000974   \n",
       "3       0.100235      0.010472         0.389455        0.000498   \n",
       "4       0.128158      0.005485         0.445309        0.015459   \n",
       "5       0.148106      0.001493         0.399429        0.029423   \n",
       "6       0.096757      0.001020         1.068623        0.028405   \n",
       "7       0.140606      0.009989         1.032738        0.004488   \n",
       "8       0.115193      0.003492         1.041713        0.020448   \n",
       "\n",
       "  param_voter__knn__n_neighbors param_voter__tree__max_depth  \\\n",
       "0                             2                           10   \n",
       "1                             2                          100   \n",
       "2                             2                         1000   \n",
       "3                            10                           10   \n",
       "4                            10                          100   \n",
       "5                            10                         1000   \n",
       "6                           100                           10   \n",
       "7                           100                          100   \n",
       "8                           100                         1000   \n",
       "\n",
       "                                              params  split0_test_score  \\\n",
       "0  {'voter__knn__n_neighbors': 2, 'voter__tree__m...           0.723573   \n",
       "1  {'voter__knn__n_neighbors': 2, 'voter__tree__m...           0.710346   \n",
       "2  {'voter__knn__n_neighbors': 2, 'voter__tree__m...           0.710239   \n",
       "3  {'voter__knn__n_neighbors': 10, 'voter__tree__...           0.739115   \n",
       "4  {'voter__knn__n_neighbors': 10, 'voter__tree__...           0.732494   \n",
       "5  {'voter__knn__n_neighbors': 10, 'voter__tree__...           0.731967   \n",
       "6  {'voter__knn__n_neighbors': 100, 'voter__tree_...           0.713158   \n",
       "7  {'voter__knn__n_neighbors': 100, 'voter__tree_...           0.707579   \n",
       "8  {'voter__knn__n_neighbors': 100, 'voter__tree_...           0.707017   \n",
       "\n",
       "   split1_test_score  mean_test_score  std_test_score  rank_test_score  \n",
       "0           0.717356         0.720465        0.003108                4  \n",
       "1           0.700704         0.705525        0.004821                7  \n",
       "2           0.701543         0.705891        0.004348                6  \n",
       "3           0.736573         0.737844        0.001271                1  \n",
       "4           0.724636         0.728565        0.003929                2  \n",
       "5           0.720501         0.726234        0.005733                3  \n",
       "6           0.713674         0.713416        0.000258                5  \n",
       "7           0.695383         0.701481        0.006098                9  \n",
       "8           0.698742         0.702879        0.004137                8  "
      ]
     },
     "execution_count": 10,
     "metadata": {},
     "output_type": "execute_result"
    }
   ],
   "source": [
    "results = pd.DataFrame(grid.cv_results_)\n",
    "results"
   ]
  },
  {
   "cell_type": "code",
   "execution_count": 11,
   "metadata": {},
   "outputs": [
    {
     "data": {
      "text/plain": [
       "Pipeline(steps=[('scaler', QuantileTransformer()),\n",
       "                ['voter',\n",
       "                 VotingRegressor(estimators=[['tree',\n",
       "                                              DecisionTreeRegressor(max_depth=10)],\n",
       "                                             ['knn',\n",
       "                                              KNeighborsRegressor(n_neighbors=10)]])]])"
      ]
     },
     "execution_count": 11,
     "metadata": {},
     "output_type": "execute_result"
    }
   ],
   "source": [
    "grid.best_estimator_"
   ]
  },
  {
   "cell_type": "code",
   "execution_count": 12,
   "metadata": {},
   "outputs": [
    {
     "data": {
      "text/plain": [
       "array([1.8633    , 2.65825329])"
      ]
     },
     "execution_count": 12,
     "metadata": {},
     "output_type": "execute_result"
    }
   ],
   "source": [
    "grid.predict(X_test[:2])"
   ]
  },
  {
   "cell_type": "code",
   "execution_count": null,
   "metadata": {},
   "outputs": [],
   "source": []
  }
 ],
 "metadata": {
  "kernelspec": {
   "display_name": "Python 3",
   "language": "python",
   "name": "python3"
  },
  "language_info": {
   "codemirror_mode": {
    "name": "ipython",
    "version": 3
   },
   "file_extension": ".py",
   "mimetype": "text/x-python",
   "name": "python",
   "nbconvert_exporter": "python",
   "pygments_lexer": "ipython3",
   "version": "3.7.4"
  }
 },
 "nbformat": 4,
 "nbformat_minor": 4
}
