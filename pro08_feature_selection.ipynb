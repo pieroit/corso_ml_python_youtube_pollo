{
 "cells": [
  {
   "cell_type": "code",
   "execution_count": 2,
   "metadata": {},
   "outputs": [],
   "source": [
    "import pandas as pd\n",
    "import seaborn as sns\n",
    "\n",
    "from sklearn.datasets import load_boston\n",
    "from sklearn import SelectKBest, mutual_info_regression, RFE\n",
    "\n",
    "from sklearn.model_selection import train_test_split, GridSearchCV\n",
    "\n",
    "from sklearn.linear_model import LinearRegression\n",
    "from sklearn.pipeline import Pipeline"
   ]
  },
  {
   "cell_type": "code",
   "execution_count": 3,
   "metadata": {},
   "outputs": [],
   "source": [
    "X, y = load_boston(return_X_y=True)"
   ]
  },
  {
   "cell_type": "code",
   "execution_count": 4,
   "metadata": {},
   "outputs": [],
   "source": [
    "X_train, X_test, y_train, y_test = train_test_split(X, y)"
   ]
  },
  {
   "cell_type": "code",
   "execution_count": 5,
   "metadata": {},
   "outputs": [],
   "source": [
    "selector = SelectKBest(mutual_info_regression, k=5)"
   ]
  },
  {
   "cell_type": "code",
   "execution_count": 6,
   "metadata": {},
   "outputs": [
    {
     "data": {
      "text/plain": [
       "SelectKBest(k=5,\n",
       "            score_func=<function mutual_info_regression at 0x0000028DD45118B8>)"
      ]
     },
     "execution_count": 6,
     "metadata": {},
     "output_type": "execute_result"
    }
   ],
   "source": [
    "selector.fit(X_train, y_train)"
   ]
  },
  {
   "cell_type": "code",
   "execution_count": 7,
   "metadata": {},
   "outputs": [],
   "source": [
    "X_selected = selector.transform(X_train)"
   ]
  },
  {
   "cell_type": "code",
   "execution_count": 8,
   "metadata": {},
   "outputs": [
    {
     "data": {
      "text/plain": [
       "(379, 13)"
      ]
     },
     "execution_count": 8,
     "metadata": {},
     "output_type": "execute_result"
    }
   ],
   "source": [
    "X_train.shape"
   ]
  },
  {
   "cell_type": "code",
   "execution_count": 9,
   "metadata": {},
   "outputs": [
    {
     "data": {
      "text/plain": [
       "(379, 5)"
      ]
     },
     "execution_count": 9,
     "metadata": {},
     "output_type": "execute_result"
    }
   ],
   "source": [
    "X_selected.shape"
   ]
  },
  {
   "cell_type": "code",
   "execution_count": 10,
   "metadata": {},
   "outputs": [
    {
     "data": {
      "text/plain": [
       "array([False, False,  True, False,  True,  True, False, False, False,\n",
       "       False,  True, False,  True])"
      ]
     },
     "execution_count": 10,
     "metadata": {},
     "output_type": "execute_result"
    }
   ],
   "source": [
    "selector.get_support()"
   ]
  },
  {
   "cell_type": "code",
   "execution_count": 12,
   "metadata": {},
   "outputs": [
    {
     "data": {
      "text/plain": [
       "array([0.33006498, 0.14050759, 0.4212873 , 0.02643299, 0.34927251,\n",
       "       0.49501182, 0.31060529, 0.28273715, 0.13905462, 0.27103692,\n",
       "       0.37684657, 0.16901088, 0.63348413])"
      ]
     },
     "execution_count": 12,
     "metadata": {},
     "output_type": "execute_result"
    }
   ],
   "source": [
    "selector.scores_"
   ]
  },
  {
   "cell_type": "code",
   "execution_count": 13,
   "metadata": {},
   "outputs": [],
   "source": [
    "selector.pvalues_"
   ]
  },
  {
   "cell_type": "code",
   "execution_count": 15,
   "metadata": {},
   "outputs": [],
   "source": [
    "steps = [\n",
    "    ( 'selection', SelectKBest(mutual_info_regression, k=5) ),\n",
    "    ( 'model', LinearRegression() )\n",
    "]\n",
    "pipeline = Pipeline(steps)"
   ]
  },
  {
   "cell_type": "code",
   "execution_count": 17,
   "metadata": {},
   "outputs": [],
   "source": [
    "param_space = {\n",
    "    'selection__k': [ 3, 5, 7, 9, 11 ],\n",
    "    'model__fit_intercept': [True, False]\n",
    "}\n",
    "\n",
    "grid = GridSearchCV(pipeline, param_grid=param_space)"
   ]
  },
  {
   "cell_type": "code",
   "execution_count": 18,
   "metadata": {},
   "outputs": [
    {
     "data": {
      "text/plain": [
       "GridSearchCV(estimator=Pipeline(steps=[('selection',\n",
       "                                        SelectKBest(k=5,\n",
       "                                                    score_func=<function mutual_info_regression at 0x0000028DD45118B8>)),\n",
       "                                       ('model', LinearRegression())]),\n",
       "             param_grid={'model__fit_intercept': [True, False],\n",
       "                         'selection__k': [3, 5, 7, 9, 11]})"
      ]
     },
     "execution_count": 18,
     "metadata": {},
     "output_type": "execute_result"
    }
   ],
   "source": [
    "grid.fit(X_train, y_train)"
   ]
  },
  {
   "cell_type": "code",
   "execution_count": 19,
   "metadata": {},
   "outputs": [
    {
     "data": {
      "text/plain": [
       "{'model__fit_intercept': True, 'selection__k': 11}"
      ]
     },
     "execution_count": 19,
     "metadata": {},
     "output_type": "execute_result"
    }
   ],
   "source": [
    "grid.best_params_"
   ]
  },
  {
   "cell_type": "code",
   "execution_count": 20,
   "metadata": {},
   "outputs": [],
   "source": [
    "res = pd.DataFrame(grid.cv_results_)"
   ]
  },
  {
   "cell_type": "code",
   "execution_count": 21,
   "metadata": {},
   "outputs": [
    {
     "data": {
      "text/html": [
       "<div>\n",
       "<style scoped>\n",
       "    .dataframe tbody tr th:only-of-type {\n",
       "        vertical-align: middle;\n",
       "    }\n",
       "\n",
       "    .dataframe tbody tr th {\n",
       "        vertical-align: top;\n",
       "    }\n",
       "\n",
       "    .dataframe thead th {\n",
       "        text-align: right;\n",
       "    }\n",
       "</style>\n",
       "<table border=\"1\" class=\"dataframe\">\n",
       "  <thead>\n",
       "    <tr style=\"text-align: right;\">\n",
       "      <th></th>\n",
       "      <th>mean_fit_time</th>\n",
       "      <th>std_fit_time</th>\n",
       "      <th>mean_score_time</th>\n",
       "      <th>std_score_time</th>\n",
       "      <th>param_model__fit_intercept</th>\n",
       "      <th>param_selection__k</th>\n",
       "      <th>params</th>\n",
       "      <th>split0_test_score</th>\n",
       "      <th>split1_test_score</th>\n",
       "      <th>split2_test_score</th>\n",
       "      <th>split3_test_score</th>\n",
       "      <th>split4_test_score</th>\n",
       "      <th>mean_test_score</th>\n",
       "      <th>std_test_score</th>\n",
       "      <th>rank_test_score</th>\n",
       "    </tr>\n",
       "  </thead>\n",
       "  <tbody>\n",
       "    <tr>\n",
       "      <td>0</td>\n",
       "      <td>0.120868</td>\n",
       "      <td>0.035586</td>\n",
       "      <td>0.002416</td>\n",
       "      <td>0.003860</td>\n",
       "      <td>True</td>\n",
       "      <td>3</td>\n",
       "      <td>{'model__fit_intercept': True, 'selection__k': 3}</td>\n",
       "      <td>0.628937</td>\n",
       "      <td>0.688469</td>\n",
       "      <td>0.758612</td>\n",
       "      <td>0.525168</td>\n",
       "      <td>0.718779</td>\n",
       "      <td>0.663993</td>\n",
       "      <td>0.081307</td>\n",
       "      <td>9</td>\n",
       "    </tr>\n",
       "    <tr>\n",
       "      <td>1</td>\n",
       "      <td>0.094365</td>\n",
       "      <td>0.013616</td>\n",
       "      <td>0.000793</td>\n",
       "      <td>0.000397</td>\n",
       "      <td>True</td>\n",
       "      <td>5</td>\n",
       "      <td>{'model__fit_intercept': True, 'selection__k': 5}</td>\n",
       "      <td>0.676769</td>\n",
       "      <td>0.714435</td>\n",
       "      <td>0.767554</td>\n",
       "      <td>0.515714</td>\n",
       "      <td>0.755907</td>\n",
       "      <td>0.686076</td>\n",
       "      <td>0.091027</td>\n",
       "      <td>8</td>\n",
       "    </tr>\n",
       "    <tr>\n",
       "      <td>2</td>\n",
       "      <td>0.082986</td>\n",
       "      <td>0.001458</td>\n",
       "      <td>0.000194</td>\n",
       "      <td>0.000389</td>\n",
       "      <td>True</td>\n",
       "      <td>7</td>\n",
       "      <td>{'model__fit_intercept': True, 'selection__k': 7}</td>\n",
       "      <td>0.694580</td>\n",
       "      <td>0.718548</td>\n",
       "      <td>0.767812</td>\n",
       "      <td>0.548056</td>\n",
       "      <td>0.736154</td>\n",
       "      <td>0.693030</td>\n",
       "      <td>0.076319</td>\n",
       "      <td>5</td>\n",
       "    </tr>\n",
       "    <tr>\n",
       "      <td>3</td>\n",
       "      <td>0.089957</td>\n",
       "      <td>0.012435</td>\n",
       "      <td>0.000399</td>\n",
       "      <td>0.000489</td>\n",
       "      <td>True</td>\n",
       "      <td>9</td>\n",
       "      <td>{'model__fit_intercept': True, 'selection__k': 9}</td>\n",
       "      <td>0.701426</td>\n",
       "      <td>0.721156</td>\n",
       "      <td>0.770848</td>\n",
       "      <td>0.575434</td>\n",
       "      <td>0.760931</td>\n",
       "      <td>0.705959</td>\n",
       "      <td>0.070030</td>\n",
       "      <td>3</td>\n",
       "    </tr>\n",
       "    <tr>\n",
       "      <td>4</td>\n",
       "      <td>0.084767</td>\n",
       "      <td>0.002273</td>\n",
       "      <td>0.000798</td>\n",
       "      <td>0.001166</td>\n",
       "      <td>True</td>\n",
       "      <td>11</td>\n",
       "      <td>{'model__fit_intercept': True, 'selection__k':...</td>\n",
       "      <td>0.725167</td>\n",
       "      <td>0.740223</td>\n",
       "      <td>0.767751</td>\n",
       "      <td>0.580974</td>\n",
       "      <td>0.784455</td>\n",
       "      <td>0.719714</td>\n",
       "      <td>0.072385</td>\n",
       "      <td>1</td>\n",
       "    </tr>\n",
       "    <tr>\n",
       "      <td>5</td>\n",
       "      <td>0.082791</td>\n",
       "      <td>0.003347</td>\n",
       "      <td>0.001185</td>\n",
       "      <td>0.001460</td>\n",
       "      <td>False</td>\n",
       "      <td>3</td>\n",
       "      <td>{'model__fit_intercept': False, 'selection__k'...</td>\n",
       "      <td>0.630220</td>\n",
       "      <td>0.681353</td>\n",
       "      <td>0.688284</td>\n",
       "      <td>0.538418</td>\n",
       "      <td>0.713194</td>\n",
       "      <td>0.650294</td>\n",
       "      <td>0.062102</td>\n",
       "      <td>10</td>\n",
       "    </tr>\n",
       "    <tr>\n",
       "      <td>6</td>\n",
       "      <td>0.082787</td>\n",
       "      <td>0.001776</td>\n",
       "      <td>0.000198</td>\n",
       "      <td>0.000395</td>\n",
       "      <td>False</td>\n",
       "      <td>5</td>\n",
       "      <td>{'model__fit_intercept': False, 'selection__k'...</td>\n",
       "      <td>0.667790</td>\n",
       "      <td>0.730032</td>\n",
       "      <td>0.748363</td>\n",
       "      <td>0.532270</td>\n",
       "      <td>0.770817</td>\n",
       "      <td>0.689855</td>\n",
       "      <td>0.085921</td>\n",
       "      <td>7</td>\n",
       "    </tr>\n",
       "    <tr>\n",
       "      <td>7</td>\n",
       "      <td>0.082584</td>\n",
       "      <td>0.001169</td>\n",
       "      <td>0.000601</td>\n",
       "      <td>0.000491</td>\n",
       "      <td>False</td>\n",
       "      <td>7</td>\n",
       "      <td>{'model__fit_intercept': False, 'selection__k'...</td>\n",
       "      <td>0.674829</td>\n",
       "      <td>0.739612</td>\n",
       "      <td>0.760982</td>\n",
       "      <td>0.527590</td>\n",
       "      <td>0.760337</td>\n",
       "      <td>0.692670</td>\n",
       "      <td>0.088339</td>\n",
       "      <td>6</td>\n",
       "    </tr>\n",
       "    <tr>\n",
       "      <td>8</td>\n",
       "      <td>0.084777</td>\n",
       "      <td>0.002101</td>\n",
       "      <td>0.000397</td>\n",
       "      <td>0.000486</td>\n",
       "      <td>False</td>\n",
       "      <td>9</td>\n",
       "      <td>{'model__fit_intercept': False, 'selection__k'...</td>\n",
       "      <td>0.658902</td>\n",
       "      <td>0.747454</td>\n",
       "      <td>0.772090</td>\n",
       "      <td>0.526598</td>\n",
       "      <td>0.785360</td>\n",
       "      <td>0.698081</td>\n",
       "      <td>0.096409</td>\n",
       "      <td>4</td>\n",
       "    </tr>\n",
       "    <tr>\n",
       "      <td>9</td>\n",
       "      <td>0.095744</td>\n",
       "      <td>0.005334</td>\n",
       "      <td>0.000590</td>\n",
       "      <td>0.000482</td>\n",
       "      <td>False</td>\n",
       "      <td>11</td>\n",
       "      <td>{'model__fit_intercept': False, 'selection__k'...</td>\n",
       "      <td>0.701930</td>\n",
       "      <td>0.770366</td>\n",
       "      <td>0.761492</td>\n",
       "      <td>0.555139</td>\n",
       "      <td>0.797747</td>\n",
       "      <td>0.717335</td>\n",
       "      <td>0.086917</td>\n",
       "      <td>2</td>\n",
       "    </tr>\n",
       "  </tbody>\n",
       "</table>\n",
       "</div>"
      ],
      "text/plain": [
       "   mean_fit_time  std_fit_time  mean_score_time  std_score_time  \\\n",
       "0       0.120868      0.035586         0.002416        0.003860   \n",
       "1       0.094365      0.013616         0.000793        0.000397   \n",
       "2       0.082986      0.001458         0.000194        0.000389   \n",
       "3       0.089957      0.012435         0.000399        0.000489   \n",
       "4       0.084767      0.002273         0.000798        0.001166   \n",
       "5       0.082791      0.003347         0.001185        0.001460   \n",
       "6       0.082787      0.001776         0.000198        0.000395   \n",
       "7       0.082584      0.001169         0.000601        0.000491   \n",
       "8       0.084777      0.002101         0.000397        0.000486   \n",
       "9       0.095744      0.005334         0.000590        0.000482   \n",
       "\n",
       "  param_model__fit_intercept param_selection__k  \\\n",
       "0                       True                  3   \n",
       "1                       True                  5   \n",
       "2                       True                  7   \n",
       "3                       True                  9   \n",
       "4                       True                 11   \n",
       "5                      False                  3   \n",
       "6                      False                  5   \n",
       "7                      False                  7   \n",
       "8                      False                  9   \n",
       "9                      False                 11   \n",
       "\n",
       "                                              params  split0_test_score  \\\n",
       "0  {'model__fit_intercept': True, 'selection__k': 3}           0.628937   \n",
       "1  {'model__fit_intercept': True, 'selection__k': 5}           0.676769   \n",
       "2  {'model__fit_intercept': True, 'selection__k': 7}           0.694580   \n",
       "3  {'model__fit_intercept': True, 'selection__k': 9}           0.701426   \n",
       "4  {'model__fit_intercept': True, 'selection__k':...           0.725167   \n",
       "5  {'model__fit_intercept': False, 'selection__k'...           0.630220   \n",
       "6  {'model__fit_intercept': False, 'selection__k'...           0.667790   \n",
       "7  {'model__fit_intercept': False, 'selection__k'...           0.674829   \n",
       "8  {'model__fit_intercept': False, 'selection__k'...           0.658902   \n",
       "9  {'model__fit_intercept': False, 'selection__k'...           0.701930   \n",
       "\n",
       "   split1_test_score  split2_test_score  split3_test_score  split4_test_score  \\\n",
       "0           0.688469           0.758612           0.525168           0.718779   \n",
       "1           0.714435           0.767554           0.515714           0.755907   \n",
       "2           0.718548           0.767812           0.548056           0.736154   \n",
       "3           0.721156           0.770848           0.575434           0.760931   \n",
       "4           0.740223           0.767751           0.580974           0.784455   \n",
       "5           0.681353           0.688284           0.538418           0.713194   \n",
       "6           0.730032           0.748363           0.532270           0.770817   \n",
       "7           0.739612           0.760982           0.527590           0.760337   \n",
       "8           0.747454           0.772090           0.526598           0.785360   \n",
       "9           0.770366           0.761492           0.555139           0.797747   \n",
       "\n",
       "   mean_test_score  std_test_score  rank_test_score  \n",
       "0         0.663993        0.081307                9  \n",
       "1         0.686076        0.091027                8  \n",
       "2         0.693030        0.076319                5  \n",
       "3         0.705959        0.070030                3  \n",
       "4         0.719714        0.072385                1  \n",
       "5         0.650294        0.062102               10  \n",
       "6         0.689855        0.085921                7  \n",
       "7         0.692670        0.088339                6  \n",
       "8         0.698081        0.096409                4  \n",
       "9         0.717335        0.086917                2  "
      ]
     },
     "execution_count": 21,
     "metadata": {},
     "output_type": "execute_result"
    }
   ],
   "source": [
    "res"
   ]
  },
  {
   "cell_type": "code",
   "execution_count": 23,
   "metadata": {},
   "outputs": [
    {
     "data": {
      "text/plain": [
       "<matplotlib.axes._subplots.AxesSubplot at 0x28dd8f9c2c8>"
      ]
     },
     "execution_count": 23,
     "metadata": {},
     "output_type": "execute_result"
    },
    {
     "data": {
      "image/png": "[encoded data removed]",
      "text/plain": [
       "<Figure size 432x288 with 1 Axes>"
      ]
     },
     "metadata": {
      "needs_background": "light"
     },
     "output_type": "display_data"
    }
   ],
   "source": [
    "sns.lineplot(data=res, x='param_selection__k', y='mean_test_score')"
   ]
  },
  {
   "cell_type": "code",
   "execution_count": 24,
   "metadata": {},
   "outputs": [],
   "source": [
    "model = LinearRegression()"
   ]
  },
  {
   "cell_type": "code",
   "execution_count": 25,
   "metadata": {},
   "outputs": [],
   "source": [
    "selector = RFE(model, n_features_to_select=5, step=1)"
   ]
  },
  {
   "cell_type": "code",
   "execution_count": 26,
   "metadata": {},
   "outputs": [
    {
     "data": {
      "text/plain": [
       "RFE(estimator=LinearRegression(), n_features_to_select=5)"
      ]
     },
     "execution_count": 26,
     "metadata": {},
     "output_type": "execute_result"
    }
   ],
   "source": [
    "selector.fit(X_train, y_train)"
   ]
  },
  {
   "cell_type": "code",
   "execution_count": 27,
   "metadata": {},
   "outputs": [],
   "source": [
    "X_selected = selector.transform(X_train)"
   ]
  },
  {
   "cell_type": "code",
   "execution_count": 30,
   "metadata": {},
   "outputs": [
    {
     "data": {
      "text/plain": [
       "((379, 13), (379, 5))"
      ]
     },
     "execution_count": 30,
     "metadata": {},
     "output_type": "execute_result"
    }
   ],
   "source": [
    "X_train.shape, X_selected.shape"
   ]
  },
  {
   "cell_type": "code",
   "execution_count": 33,
   "metadata": {},
   "outputs": [
    {
     "data": {
      "text/plain": [
       "LinearRegression()"
      ]
     },
     "execution_count": 33,
     "metadata": {},
     "output_type": "execute_result"
    }
   ],
   "source": [
    "model.fit(X_train, y_train)"
   ]
  },
  {
   "cell_type": "code",
   "execution_count": 36,
   "metadata": {},
   "outputs": [
    {
     "data": {
      "text/plain": [
       "array([-1.00073589e-01,  4.42624983e-02,  5.84394133e-03,  2.66527238e+00,\n",
       "       -1.63577601e+01,  4.48131793e+00, -1.44922085e-02, -1.45243354e+00,\n",
       "        2.84849406e-01, -1.36313460e-02, -9.79820415e-01,  1.01913214e-02,\n",
       "       -3.91036917e-01])"
      ]
     },
     "execution_count": 36,
     "metadata": {},
     "output_type": "execute_result"
    }
   ],
   "source": [
    "model.coef_"
   ]
  },
  {
   "cell_type": "code",
   "execution_count": 37,
   "metadata": {},
   "outputs": [
    {
     "data": {
      "text/plain": [
       "array([3, 5, 9, 1, 1, 1, 7, 1, 4, 6, 1, 8, 2])"
      ]
     },
     "execution_count": 37,
     "metadata": {},
     "output_type": "execute_result"
    }
   ],
   "source": [
    "selector.ranking_"
   ]
  },
  {
   "cell_type": "code",
   "execution_count": 39,
   "metadata": {},
   "outputs": [
    {
     "data": {
      "text/plain": [
       "<matplotlib.axes._subplots.AxesSubplot at 0x28dd82eb208>"
      ]
     },
     "execution_count": 39,
     "metadata": {},
     "output_type": "execute_result"
    },
    {
     "data": {
      "image/png": "[encoded data removed]",
      "text/plain": [
       "<Figure size 432x288 with 1 Axes>"
      ]
     },
     "metadata": {
      "needs_background": "light"
     },
     "output_type": "display_data"
    }
   ],
   "source": [
    "rank = pd.Series(selector.ranking_)\n",
    "rank.plot.bar()"
   ]
  },
  {
   "cell_type": "code",
   "execution_count": null,
   "metadata": {},
   "outputs": [],
   "source": []
  }
 ],
 "metadata": {
  "kernelspec": {
   "display_name": "Python 3",
   "language": "python",
   "name": "python3"
  },
  "language_info": {
   "codemirror_mode": {
    "name": "ipython",
    "version": 3
   },
   "file_extension": ".py",
   "mimetype": "text/x-python",
   "name": "python",
   "nbconvert_exporter": "python",
   "pygments_lexer": "ipython3",
   "version": "3.7.4"
  }
 },
 "nbformat": 4,
 "nbformat_minor": 4
}
