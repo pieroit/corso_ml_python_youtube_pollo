{
 "cells": [
  {
   "cell_type": "code",
   "execution_count": 1,
   "metadata": {},
   "outputs": [],
   "source": [
    "import pandas as pd\n",
    "import matplotlib.pyplot as plt\n",
    "\n",
    "from sklearn.datasets import load_breast_cancer\n",
    "from sklearn.model_selection import train_test_split\n",
    "from sklearn.metrics import classification_report, plot_confusion_matrix, plot_roc_curve, plot_precision_recall_curve\n",
    "\n",
    "from sklearn.linear_model import LogisticRegression"
   ]
  },
  {
   "cell_type": "code",
   "execution_count": 2,
   "metadata": {},
   "outputs": [],
   "source": [
    "X, y = load_breast_cancer(return_X_y=True)"
   ]
  },
  {
   "cell_type": "code",
   "execution_count": 3,
   "metadata": {},
   "outputs": [],
   "source": [
    "X_train, X_test, y_train, y_test = train_test_split(X, y)"
   ]
  },
  {
   "cell_type": "code",
   "execution_count": 4,
   "metadata": {},
   "outputs": [
    {
     "name": "stderr",
     "output_type": "stream",
     "text": [
      "C:\\Users\\Piero\\Anaconda3\\lib\\site-packages\\sklearn\\linear_model\\_logistic.py:764: ConvergenceWarning: lbfgs failed to converge (status=1):\n",
      "STOP: TOTAL NO. of ITERATIONS REACHED LIMIT.\n",
      "\n",
      "Increase the number of iterations (max_iter) or scale the data as shown in:\n",
      "    https://scikit-learn.org/stable/modules/preprocessing.html\n",
      "Please also refer to the documentation for alternative solver options:\n",
      "    https://scikit-learn.org/stable/modules/linear_model.html#logistic-regression\n",
      "  extra_warning_msg=_LOGISTIC_SOLVER_CONVERGENCE_MSG)\n"
     ]
    },
    {
     "data": {
      "text/plain": [
       "LogisticRegression()"
      ]
     },
     "execution_count": 4,
     "metadata": {},
     "output_type": "execute_result"
    }
   ],
   "source": [
    "model = LogisticRegression()\n",
    "model.fit(X_train, y_train)"
   ]
  },
  {
   "cell_type": "code",
   "execution_count": 5,
   "metadata": {},
   "outputs": [
    {
     "data": {
      "text/plain": [
       "array([[9.99999978e-01, 2.15627628e-08],\n",
       "       [3.01117797e-03, 9.96988822e-01],\n",
       "       [5.95502047e-03, 9.94044980e-01],\n",
       "       [1.55996438e-03, 9.98440036e-01],\n",
       "       [9.99992739e-01, 7.26113297e-06],\n",
       "       [2.24941307e-02, 9.77505869e-01],\n",
       "       [2.79541492e-02, 9.72045851e-01],\n",
       "       [2.99019599e-02, 9.70098040e-01],\n",
       "       [6.94014365e-04, 9.99305986e-01],\n",
       "       [3.74126146e-01, 6.25873854e-01],\n",
       "       [9.99999998e-01, 2.12956894e-09],\n",
       "       [1.74577114e-02, 9.82542289e-01],\n",
       "       [1.00000000e+00, 1.19249376e-12],\n",
       "       [5.28909957e-03, 9.94710900e-01],\n",
       "       [5.21699808e-03, 9.94783002e-01],\n",
       "       [5.83128745e-03, 9.94168713e-01],\n",
       "       [9.25575903e-04, 9.99074424e-01],\n",
       "       [7.09655207e-02, 9.29034479e-01],\n",
       "       [3.06710243e-03, 9.96932898e-01],\n",
       "       [5.94008831e-02, 9.40599117e-01],\n",
       "       [1.98389897e-02, 9.80161010e-01],\n",
       "       [1.33693281e-02, 9.86630672e-01],\n",
       "       [1.79639394e-01, 8.20360606e-01],\n",
       "       [8.89488126e-02, 9.11051187e-01],\n",
       "       [3.44353434e-03, 9.96556466e-01],\n",
       "       [9.99999954e-01, 4.60525057e-08],\n",
       "       [9.99999994e-01, 6.37692199e-09],\n",
       "       [9.99991347e-01, 8.65250656e-06],\n",
       "       [2.91732803e-02, 9.70826720e-01],\n",
       "       [7.43472278e-02, 9.25652772e-01],\n",
       "       [3.79205555e-01, 6.20794445e-01],\n",
       "       [3.12564859e-04, 9.99687435e-01],\n",
       "       [3.96421616e-03, 9.96035784e-01],\n",
       "       [9.08747779e-04, 9.99091252e-01],\n",
       "       [1.43052205e-03, 9.98569478e-01],\n",
       "       [1.88414635e-03, 9.98115854e-01],\n",
       "       [1.44637645e-03, 9.98553624e-01],\n",
       "       [1.00000000e+00, 1.13612267e-29],\n",
       "       [3.43575346e-02, 9.65642465e-01],\n",
       "       [1.00000000e+00, 2.01158157e-10],\n",
       "       [4.05254807e-03, 9.95947452e-01],\n",
       "       [1.09796197e-02, 9.89020380e-01],\n",
       "       [1.31028166e-03, 9.98689718e-01],\n",
       "       [9.99998555e-01, 1.44501571e-06],\n",
       "       [4.14025094e-03, 9.95859749e-01],\n",
       "       [9.99999998e-01, 1.54845828e-09],\n",
       "       [3.82281171e-02, 9.61771883e-01],\n",
       "       [3.46909000e-03, 9.96530910e-01],\n",
       "       [3.43153504e-02, 9.65684650e-01],\n",
       "       [9.99914266e-01, 8.57340031e-05],\n",
       "       [9.99981763e-01, 1.82367724e-05],\n",
       "       [5.13506013e-03, 9.94864940e-01],\n",
       "       [9.61513108e-01, 3.84868918e-02],\n",
       "       [1.25891468e-02, 9.87410853e-01],\n",
       "       [9.23015977e-03, 9.90769840e-01],\n",
       "       [9.27454894e-03, 9.90725451e-01],\n",
       "       [4.70445752e-03, 9.95295542e-01],\n",
       "       [2.42999977e-02, 9.75700002e-01],\n",
       "       [6.63909454e-02, 9.33609055e-01],\n",
       "       [4.16196846e-03, 9.95838032e-01],\n",
       "       [2.23589911e-03, 9.97764101e-01],\n",
       "       [9.99921635e-01, 7.83646848e-05],\n",
       "       [9.97149070e-01, 2.85092981e-03],\n",
       "       [3.71019941e-02, 9.62898006e-01],\n",
       "       [9.99999938e-01, 6.18038652e-08],\n",
       "       [3.11429639e-04, 9.99688570e-01],\n",
       "       [4.10957702e-03, 9.95890423e-01],\n",
       "       [8.53069083e-03, 9.91469309e-01],\n",
       "       [1.00000000e+00, 4.80536815e-21],\n",
       "       [2.95769252e-04, 9.99704231e-01],\n",
       "       [1.16838217e-01, 8.83161783e-01],\n",
       "       [4.86024416e-04, 9.99513976e-01],\n",
       "       [9.99999741e-01, 2.58912965e-07],\n",
       "       [1.00000000e+00, 6.92876641e-12],\n",
       "       [2.18351236e-02, 9.78164876e-01],\n",
       "       [1.13927500e-01, 8.86072500e-01],\n",
       "       [9.99999304e-01, 6.96170963e-07],\n",
       "       [9.99999363e-01, 6.36654877e-07],\n",
       "       [9.00087135e-02, 9.09991286e-01],\n",
       "       [2.66683885e-03, 9.97333161e-01],\n",
       "       [9.21451260e-01, 7.85487402e-02],\n",
       "       [1.35126407e-02, 9.86487359e-01],\n",
       "       [3.58053877e-04, 9.99641946e-01],\n",
       "       [2.29581597e-03, 9.97704184e-01],\n",
       "       [7.25331608e-02, 9.27466839e-01],\n",
       "       [6.65733084e-03, 9.93342669e-01],\n",
       "       [3.24800718e-04, 9.99675199e-01],\n",
       "       [9.99988007e-01, 1.19926620e-05],\n",
       "       [1.54594382e-03, 9.98454056e-01],\n",
       "       [9.99964124e-01, 3.58755672e-05],\n",
       "       [6.70753401e-02, 9.32924660e-01],\n",
       "       [1.75454230e-03, 9.98245458e-01],\n",
       "       [9.99999867e-01, 1.33365377e-07],\n",
       "       [3.46202419e-02, 9.65379758e-01],\n",
       "       [9.24553581e-01, 7.54464194e-02],\n",
       "       [1.48967412e-03, 9.98510326e-01],\n",
       "       [9.99999985e-01, 1.47922775e-08],\n",
       "       [1.38817280e-02, 9.86118272e-01],\n",
       "       [9.84279843e-01, 1.57201567e-02],\n",
       "       [3.66537031e-02, 9.63346297e-01],\n",
       "       [9.88861522e-01, 1.11384778e-02],\n",
       "       [5.41607379e-04, 9.99458393e-01],\n",
       "       [3.10851086e-02, 9.68914891e-01],\n",
       "       [2.23258245e-02, 9.77674176e-01],\n",
       "       [1.21152679e-03, 9.98788473e-01],\n",
       "       [9.94645782e-01, 5.35421803e-03],\n",
       "       [6.29251280e-02, 9.37074872e-01],\n",
       "       [3.02650992e-02, 9.69734901e-01],\n",
       "       [2.09842499e-03, 9.97901575e-01],\n",
       "       [6.33420486e-02, 9.36657951e-01],\n",
       "       [9.99984396e-01, 1.56038199e-05],\n",
       "       [2.09883888e-03, 9.97901161e-01],\n",
       "       [3.68967123e-01, 6.31032877e-01],\n",
       "       [3.83452293e-04, 9.99616548e-01],\n",
       "       [9.99966726e-01, 3.32738883e-05],\n",
       "       [9.86205605e-01, 1.37943953e-02],\n",
       "       [1.35979567e-01, 8.64020433e-01],\n",
       "       [1.00000000e+00, 1.21585211e-19],\n",
       "       [3.09323450e-01, 6.90676550e-01],\n",
       "       [9.99999983e-01, 1.72088419e-08],\n",
       "       [4.32018218e-02, 9.56798178e-01],\n",
       "       [4.03442773e-01, 5.96557227e-01],\n",
       "       [2.65617612e-03, 9.97343824e-01],\n",
       "       [1.13943205e-02, 9.88605680e-01],\n",
       "       [9.99999998e-01, 1.98168415e-09],\n",
       "       [4.48006867e-01, 5.51993133e-01],\n",
       "       [2.41994538e-03, 9.97580055e-01],\n",
       "       [2.00983896e-04, 9.99799016e-01],\n",
       "       [4.81848711e-01, 5.18151289e-01],\n",
       "       [9.96304481e-01, 3.69551867e-03],\n",
       "       [8.15558619e-02, 9.18444138e-01],\n",
       "       [5.15068508e-03, 9.94849315e-01],\n",
       "       [9.98781957e-01, 1.21804323e-03],\n",
       "       [1.38041894e-03, 9.98619581e-01],\n",
       "       [9.48818594e-03, 9.90511814e-01],\n",
       "       [4.61782279e-04, 9.99538218e-01],\n",
       "       [7.80344958e-03, 9.92196550e-01],\n",
       "       [7.62219827e-01, 2.37780173e-01],\n",
       "       [3.18838993e-01, 6.81161007e-01],\n",
       "       [4.34777184e-03, 9.95652228e-01],\n",
       "       [8.34625052e-03, 9.91653749e-01],\n",
       "       [1.00000000e+00, 4.27349628e-16],\n",
       "       [7.08290949e-03, 9.92917091e-01]])"
      ]
     },
     "execution_count": 5,
     "metadata": {},
     "output_type": "execute_result"
    }
   ],
   "source": [
    "model.predict_proba(X_test)"
   ]
  },
  {
   "cell_type": "code",
   "execution_count": 15,
   "metadata": {},
   "outputs": [],
   "source": [
    "p = model.predict(X_test)"
   ]
  },
  {
   "cell_type": "code",
   "execution_count": 16,
   "metadata": {},
   "outputs": [
    {
     "data": {
      "text/html": [
       "<div>\n",
       "<style scoped>\n",
       "    .dataframe tbody tr th:only-of-type {\n",
       "        vertical-align: middle;\n",
       "    }\n",
       "\n",
       "    .dataframe tbody tr th {\n",
       "        vertical-align: top;\n",
       "    }\n",
       "\n",
       "    .dataframe thead th {\n",
       "        text-align: right;\n",
       "    }\n",
       "</style>\n",
       "<table border=\"1\" class=\"dataframe\">\n",
       "  <thead>\n",
       "    <tr style=\"text-align: right;\">\n",
       "      <th></th>\n",
       "      <th>0</th>\n",
       "      <th>1</th>\n",
       "      <th>accuracy</th>\n",
       "      <th>macro avg</th>\n",
       "      <th>weighted avg</th>\n",
       "    </tr>\n",
       "  </thead>\n",
       "  <tbody>\n",
       "    <tr>\n",
       "      <td>precision</td>\n",
       "      <td>0.975610</td>\n",
       "      <td>0.921569</td>\n",
       "      <td>0.937063</td>\n",
       "      <td>0.948589</td>\n",
       "      <td>0.939708</td>\n",
       "    </tr>\n",
       "    <tr>\n",
       "      <td>recall</td>\n",
       "      <td>0.833333</td>\n",
       "      <td>0.989474</td>\n",
       "      <td>0.937063</td>\n",
       "      <td>0.911404</td>\n",
       "      <td>0.937063</td>\n",
       "    </tr>\n",
       "    <tr>\n",
       "      <td>f1-score</td>\n",
       "      <td>0.898876</td>\n",
       "      <td>0.954315</td>\n",
       "      <td>0.937063</td>\n",
       "      <td>0.926596</td>\n",
       "      <td>0.935706</td>\n",
       "    </tr>\n",
       "    <tr>\n",
       "      <td>support</td>\n",
       "      <td>48.000000</td>\n",
       "      <td>95.000000</td>\n",
       "      <td>0.937063</td>\n",
       "      <td>143.000000</td>\n",
       "      <td>143.000000</td>\n",
       "    </tr>\n",
       "  </tbody>\n",
       "</table>\n",
       "</div>"
      ],
      "text/plain": [
       "                   0          1  accuracy   macro avg  weighted avg\n",
       "precision   0.975610   0.921569  0.937063    0.948589      0.939708\n",
       "recall      0.833333   0.989474  0.937063    0.911404      0.937063\n",
       "f1-score    0.898876   0.954315  0.937063    0.926596      0.935706\n",
       "support    48.000000  95.000000  0.937063  143.000000    143.000000"
      ]
     },
     "execution_count": 16,
     "metadata": {},
     "output_type": "execute_result"
    }
   ],
   "source": [
    "df = classification_report(y_test, p, output_dict=True)\n",
    "pd.DataFrame(df)\n"
   ]
  },
  {
   "cell_type": "code",
   "execution_count": 18,
   "metadata": {},
   "outputs": [
    {
     "data": {
      "text/plain": [
       "<sklearn.metrics._plot.confusion_matrix.ConfusionMatrixDisplay at 0x1f98508d208>"
      ]
     },
     "execution_count": 18,
     "metadata": {},
     "output_type": "execute_result"
    },
    {
     "data": {
      "image/png": "[encoded data removed]",
      "text/plain": [
       "<Figure size 432x288 with 2 Axes>"
      ]
     },
     "metadata": {
      "needs_background": "light"
     },
     "output_type": "display_data"
    }
   ],
   "source": [
    "plot_confusion_matrix( model, X_test, y_test )"
   ]
  },
  {
   "cell_type": "code",
   "execution_count": 19,
   "metadata": {},
   "outputs": [
    {
     "data": {
      "text/plain": [
       "<sklearn.metrics._plot.roc_curve.RocCurveDisplay at 0x1f984f8fa48>"
      ]
     },
     "execution_count": 19,
     "metadata": {},
     "output_type": "execute_result"
    },
    {
     "data": {
      "image/png": "[encoded data removed]",
      "text/plain": [
       "<Figure size 432x288 with 1 Axes>"
      ]
     },
     "metadata": {
      "needs_background": "light"
     },
     "output_type": "display_data"
    }
   ],
   "source": [
    "plot_roc_curve( model, X_test, y_test )"
   ]
  },
  {
   "cell_type": "code",
   "execution_count": 20,
   "metadata": {},
   "outputs": [
    {
     "data": {
      "text/plain": [
       "<sklearn.metrics._plot.precision_recall_curve.PrecisionRecallDisplay at 0x1f984fbed08>"
      ]
     },
     "execution_count": 20,
     "metadata": {},
     "output_type": "execute_result"
    },
    {
     "data": {
      "image/png": "[encoded data removed]",
      "text/plain": [
       "<Figure size 432x288 with 1 Axes>"
      ]
     },
     "metadata": {
      "needs_background": "light"
     },
     "output_type": "display_data"
    }
   ],
   "source": [
    "plot_precision_recall_curve( model, X_test, y_test )"
   ]
  },
  {
   "cell_type": "code",
   "execution_count": null,
   "metadata": {},
   "outputs": [],
   "source": []
  }
 ],
 "metadata": {
  "kernelspec": {
   "display_name": "Python 3",
   "language": "python",
   "name": "python3"
  },
  "language_info": {
   "codemirror_mode": {
    "name": "ipython",
    "version": 3
   },
   "file_extension": ".py",
   "mimetype": "text/x-python",
   "name": "python",
   "nbconvert_exporter": "python",
   "pygments_lexer": "ipython3",
   "version": "3.7.4"
  }
 },
 "nbformat": 4,
 "nbformat_minor": 4
}
