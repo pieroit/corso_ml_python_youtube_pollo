{
 "cells": [
  {
   "cell_type": "code",
   "execution_count": 1,
   "metadata": {},
   "outputs": [],
   "source": [
    "import pandas as pd\n",
    "import seaborn as sns\n",
    "import matplotlib.pyplot as plt\n",
    "\n",
    "from sklearn.compose import ColumnTransformer\n",
    "from sklearn.pipeline import Pipeline\n",
    "from sklearn.preprocessing import QuantileTransformer, Normalizer, OneHotEncoder\n",
    "\n",
    "from sklearn.model_selection import train_test_split\n",
    "from sklearn.model_selection import GridSearchCV\n",
    "from sklearn.neural_network import MLPRegressor\n",
    "\n",
    "from sklearn import set_config\n",
    "set_config(display='diagram')\n",
    "\n",
    "from joblib import dump, load"
   ]
  },
  {
   "cell_type": "code",
   "execution_count": 2,
   "metadata": {},
   "outputs": [],
   "source": [
    "df = pd.read_csv('hour.csv')"
   ]
  },
  {
   "cell_type": "code",
   "execution_count": 3,
   "metadata": {},
   "outputs": [
    {
     "data": {
      "text/html": [
       "<div>\n",
       "<style scoped>\n",
       "    .dataframe tbody tr th:only-of-type {\n",
       "        vertical-align: middle;\n",
       "    }\n",
       "\n",
       "    .dataframe tbody tr th {\n",
       "        vertical-align: top;\n",
       "    }\n",
       "\n",
       "    .dataframe thead th {\n",
       "        text-align: right;\n",
       "    }\n",
       "</style>\n",
       "<table border=\"1\" class=\"dataframe\">\n",
       "  <thead>\n",
       "    <tr style=\"text-align: right;\">\n",
       "      <th></th>\n",
       "      <th>instant</th>\n",
       "      <th>dteday</th>\n",
       "      <th>season</th>\n",
       "      <th>yr</th>\n",
       "      <th>mnth</th>\n",
       "      <th>hr</th>\n",
       "      <th>holiday</th>\n",
       "      <th>weekday</th>\n",
       "      <th>workingday</th>\n",
       "      <th>weathersit</th>\n",
       "      <th>temp</th>\n",
       "      <th>atemp</th>\n",
       "      <th>hum</th>\n",
       "      <th>windspeed</th>\n",
       "      <th>casual</th>\n",
       "      <th>registered</th>\n",
       "      <th>cnt</th>\n",
       "    </tr>\n",
       "  </thead>\n",
       "  <tbody>\n",
       "    <tr>\n",
       "      <td>11516</td>\n",
       "      <td>11517</td>\n",
       "      <td>2012-04-30</td>\n",
       "      <td>2</td>\n",
       "      <td>1</td>\n",
       "      <td>4</td>\n",
       "      <td>1</td>\n",
       "      <td>0</td>\n",
       "      <td>1</td>\n",
       "      <td>1</td>\n",
       "      <td>1</td>\n",
       "      <td>0.42</td>\n",
       "      <td>0.4242</td>\n",
       "      <td>0.77</td>\n",
       "      <td>0.0896</td>\n",
       "      <td>9</td>\n",
       "      <td>15</td>\n",
       "      <td>24</td>\n",
       "    </tr>\n",
       "    <tr>\n",
       "      <td>7938</td>\n",
       "      <td>7939</td>\n",
       "      <td>2011-12-02</td>\n",
       "      <td>4</td>\n",
       "      <td>0</td>\n",
       "      <td>12</td>\n",
       "      <td>10</td>\n",
       "      <td>0</td>\n",
       "      <td>5</td>\n",
       "      <td>1</td>\n",
       "      <td>1</td>\n",
       "      <td>0.30</td>\n",
       "      <td>0.2879</td>\n",
       "      <td>0.75</td>\n",
       "      <td>0.2239</td>\n",
       "      <td>16</td>\n",
       "      <td>89</td>\n",
       "      <td>105</td>\n",
       "    </tr>\n",
       "    <tr>\n",
       "      <td>14474</td>\n",
       "      <td>14475</td>\n",
       "      <td>2012-08-31</td>\n",
       "      <td>3</td>\n",
       "      <td>1</td>\n",
       "      <td>8</td>\n",
       "      <td>7</td>\n",
       "      <td>0</td>\n",
       "      <td>5</td>\n",
       "      <td>1</td>\n",
       "      <td>2</td>\n",
       "      <td>0.64</td>\n",
       "      <td>0.5758</td>\n",
       "      <td>0.89</td>\n",
       "      <td>0.0896</td>\n",
       "      <td>21</td>\n",
       "      <td>400</td>\n",
       "      <td>421</td>\n",
       "    </tr>\n",
       "    <tr>\n",
       "      <td>13590</td>\n",
       "      <td>13591</td>\n",
       "      <td>2012-07-25</td>\n",
       "      <td>3</td>\n",
       "      <td>1</td>\n",
       "      <td>7</td>\n",
       "      <td>11</td>\n",
       "      <td>0</td>\n",
       "      <td>3</td>\n",
       "      <td>1</td>\n",
       "      <td>1</td>\n",
       "      <td>0.76</td>\n",
       "      <td>0.6667</td>\n",
       "      <td>0.33</td>\n",
       "      <td>0.0000</td>\n",
       "      <td>79</td>\n",
       "      <td>202</td>\n",
       "      <td>281</td>\n",
       "    </tr>\n",
       "    <tr>\n",
       "      <td>13330</td>\n",
       "      <td>13331</td>\n",
       "      <td>2012-07-14</td>\n",
       "      <td>3</td>\n",
       "      <td>1</td>\n",
       "      <td>7</td>\n",
       "      <td>15</td>\n",
       "      <td>0</td>\n",
       "      <td>6</td>\n",
       "      <td>0</td>\n",
       "      <td>1</td>\n",
       "      <td>0.80</td>\n",
       "      <td>0.7576</td>\n",
       "      <td>0.55</td>\n",
       "      <td>0.1642</td>\n",
       "      <td>243</td>\n",
       "      <td>317</td>\n",
       "      <td>560</td>\n",
       "    </tr>\n",
       "  </tbody>\n",
       "</table>\n",
       "</div>"
      ],
      "text/plain": [
       "       instant      dteday  season  yr  mnth  hr  holiday  weekday  \\\n",
       "11516    11517  2012-04-30       2   1     4   1        0        1   \n",
       "7938      7939  2011-12-02       4   0    12  10        0        5   \n",
       "14474    14475  2012-08-31       3   1     8   7        0        5   \n",
       "13590    13591  2012-07-25       3   1     7  11        0        3   \n",
       "13330    13331  2012-07-14       3   1     7  15        0        6   \n",
       "\n",
       "       workingday  weathersit  temp   atemp   hum  windspeed  casual  \\\n",
       "11516           1           1  0.42  0.4242  0.77     0.0896       9   \n",
       "7938            1           1  0.30  0.2879  0.75     0.2239      16   \n",
       "14474           1           2  0.64  0.5758  0.89     0.0896      21   \n",
       "13590           1           1  0.76  0.6667  0.33     0.0000      79   \n",
       "13330           0           1  0.80  0.7576  0.55     0.1642     243   \n",
       "\n",
       "       registered  cnt  \n",
       "11516          15   24  \n",
       "7938           89  105  \n",
       "14474         400  421  \n",
       "13590         202  281  \n",
       "13330         317  560  "
      ]
     },
     "execution_count": 3,
     "metadata": {},
     "output_type": "execute_result"
    }
   ],
   "source": [
    "df.sample(5)"
   ]
  },
  {
   "cell_type": "code",
   "execution_count": 4,
   "metadata": {},
   "outputs": [],
   "source": [
    "categorical_features = [\n",
    "    'season', 'yr', 'mnth', 'hr', 'holiday', 'weekday', 'workingday', 'weathersit'\n",
    "]\n",
    "\n",
    "numerical_features = [\n",
    "    'temp', 'atemp', 'hum', 'windspeed'\n",
    "]"
   ]
  },
  {
   "cell_type": "code",
   "execution_count": 5,
   "metadata": {},
   "outputs": [
    {
     "data": {
      "text/plain": [
       "['season',\n",
       " 'yr',\n",
       " 'mnth',\n",
       " 'hr',\n",
       " 'holiday',\n",
       " 'weekday',\n",
       " 'workingday',\n",
       " 'weathersit',\n",
       " 'temp',\n",
       " 'atemp',\n",
       " 'hum',\n",
       " 'windspeed']"
      ]
     },
     "execution_count": 5,
     "metadata": {},
     "output_type": "execute_result"
    }
   ],
   "source": [
    "all_features = categorical_features + numerical_features\n",
    "all_features"
   ]
  },
  {
   "cell_type": "code",
   "execution_count": 6,
   "metadata": {},
   "outputs": [],
   "source": [
    "transformerzz = [\n",
    "    ( 'one_hot', OneHotEncoder(handle_unknown='ignore'), categorical_features ),\n",
    "    ( 'scaler', QuantileTransformer(), numerical_features),\n",
    "    ( 'normalizer', Normalizer(), all_features )\n",
    "]\n",
    "\n",
    "ct = ColumnTransformer(transformers=transformerzz)"
   ]
  },
  {
   "cell_type": "code",
   "execution_count": 7,
   "metadata": {},
   "outputs": [
    {
     "data": {
      "text/html": [
       "<style>div.sk-top-container {color: black;background-color: white;}div.sk-toggleable {background-color: white;}label.sk-toggleable__label {cursor: pointer;display: block;width: 100%;margin-bottom: 0;padding: 0.2em 0.3em;box-sizing: border-box;text-align: center;}div.sk-toggleable__content {max-height: 0;max-width: 0;overflow: hidden;text-align: left;background-color: #f0f8ff;}div.sk-toggleable__content pre {margin: 0.2em;color: black;border-radius: 0.25em;background-color: #f0f8ff;}input.sk-toggleable__control:checked~div.sk-toggleable__content {max-height: 200px;max-width: 100%;overflow: auto;}div.sk-estimator input.sk-toggleable__control:checked~label.sk-toggleable__label {background-color: #d4ebff;}div.sk-label input.sk-toggleable__control:checked~label.sk-toggleable__label {background-color: #d4ebff;}input.sk-hidden--visually {border: 0;clip: rect(1px 1px 1px 1px);clip: rect(1px, 1px, 1px, 1px);height: 1px;margin: -1px;overflow: hidden;padding: 0;position: absolute;width: 1px;}div.sk-estimator {font-family: monospace;background-color: #f0f8ff;margin: 0.25em 0.25em;border: 1px dotted black;border-radius: 0.25em;box-sizing: border-box;}div.sk-estimator:hover {background-color: #d4ebff;}div.sk-parallel-item::after {content: \"\";width: 100%;border-bottom: 1px solid gray;flex-grow: 1;}div.sk-label:hover label.sk-toggleable__label {background-color: #d4ebff;}div.sk-serial::before {content: \"\";position: absolute;border-left: 1px solid gray;box-sizing: border-box;top: 2em;bottom: 0;left: 50%;}div.sk-serial {display: flex;flex-direction: column;align-items: center;background-color: white;}div.sk-item {z-index: 1;}div.sk-parallel {display: flex;align-items: stretch;justify-content: center;background-color: white;}div.sk-parallel-item {display: flex;flex-direction: column;position: relative;background-color: white;}div.sk-parallel-item:first-child::after {align-self: flex-end;width: 50%;}div.sk-parallel-item:last-child::after {align-self: flex-start;width: 50%;}div.sk-parallel-item:only-child::after {width: 0;}div.sk-dashed-wrapped {border: 1px dashed gray;margin: 0.2em;box-sizing: border-box;padding-bottom: 0.1em;background-color: white;position: relative;}div.sk-label label {font-family: monospace;font-weight: bold;background-color: white;display: inline-block;line-height: 1.2em;}div.sk-label-container {position: relative;z-index: 2;text-align: center;}div.sk-container {display: inline-block;position: relative;}</style><div class=\"sk-top-container\"><div class=\"sk-container\"><div class=\"sk-item sk-dashed-wrapped\"><div class=\"sk-label-container\"><div class=\"sk-label sk-toggleable\"><input class=\"sk-toggleable__control sk-hidden--visually\" id=\"53bb4dff-84c3-484c-b768-f5cd7a0abe58\" type=\"checkbox\" ><label class=\"sk-toggleable__label\" for=\"53bb4dff-84c3-484c-b768-f5cd7a0abe58\">ColumnTransformer</label><div class=\"sk-toggleable__content\"><pre>ColumnTransformer(transformers=[('one_hot',\n",
       "                                 OneHotEncoder(handle_unknown='ignore'),\n",
       "                                 ['season', 'yr', 'mnth', 'hr', 'holiday',\n",
       "                                  'weekday', 'workingday', 'weathersit']),\n",
       "                                ('scaler', QuantileTransformer(),\n",
       "                                 ['temp', 'atemp', 'hum', 'windspeed']),\n",
       "                                ('normalizer', Normalizer(),\n",
       "                                 ['season', 'yr', 'mnth', 'hr', 'holiday',\n",
       "                                  'weekday', 'workingday', 'weathersit', 'temp',\n",
       "                                  'atemp', 'hum', 'windspeed'])])</pre></div></div></div><div class=\"sk-parallel\"><div class=\"sk-parallel-item\"><div class=\"sk-item\"><div class=\"sk-label-container\"><div class=\"sk-label sk-toggleable\"><input class=\"sk-toggleable__control sk-hidden--visually\" id=\"502bdd0b-320e-436e-ba39-a9030ad8bd29\" type=\"checkbox\" ><label class=\"sk-toggleable__label\" for=\"502bdd0b-320e-436e-ba39-a9030ad8bd29\">one_hot</label><div class=\"sk-toggleable__content\"><pre>['season', 'yr', 'mnth', 'hr', 'holiday', 'weekday', 'workingday', 'weathersit']</pre></div></div></div><div class=\"sk-serial\"><div class=\"sk-item\"><div class=\"sk-estimator sk-toggleable\"><input class=\"sk-toggleable__control sk-hidden--visually\" id=\"02af049f-9237-4ca4-be14-016ffec1bac6\" type=\"checkbox\" ><label class=\"sk-toggleable__label\" for=\"02af049f-9237-4ca4-be14-016ffec1bac6\">OneHotEncoder</label><div class=\"sk-toggleable__content\"><pre>OneHotEncoder(handle_unknown='ignore')</pre></div></div></div></div></div></div><div class=\"sk-parallel-item\"><div class=\"sk-item\"><div class=\"sk-label-container\"><div class=\"sk-label sk-toggleable\"><input class=\"sk-toggleable__control sk-hidden--visually\" id=\"1e5df3e1-83ae-4015-a9a1-2490854073ab\" type=\"checkbox\" ><label class=\"sk-toggleable__label\" for=\"1e5df3e1-83ae-4015-a9a1-2490854073ab\">scaler</label><div class=\"sk-toggleable__content\"><pre>['temp', 'atemp', 'hum', 'windspeed']</pre></div></div></div><div class=\"sk-serial\"><div class=\"sk-item\"><div class=\"sk-estimator sk-toggleable\"><input class=\"sk-toggleable__control sk-hidden--visually\" id=\"178c04b7-d95d-4416-a4e6-f81dc9acb093\" type=\"checkbox\" ><label class=\"sk-toggleable__label\" for=\"178c04b7-d95d-4416-a4e6-f81dc9acb093\">QuantileTransformer</label><div class=\"sk-toggleable__content\"><pre>QuantileTransformer()</pre></div></div></div></div></div></div><div class=\"sk-parallel-item\"><div class=\"sk-item\"><div class=\"sk-label-container\"><div class=\"sk-label sk-toggleable\"><input class=\"sk-toggleable__control sk-hidden--visually\" id=\"82e5ddb4-ce6b-4e05-ba33-e42e276a8c8a\" type=\"checkbox\" ><label class=\"sk-toggleable__label\" for=\"82e5ddb4-ce6b-4e05-ba33-e42e276a8c8a\">normalizer</label><div class=\"sk-toggleable__content\"><pre>['season', 'yr', 'mnth', 'hr', 'holiday', 'weekday', 'workingday', 'weathersit', 'temp', 'atemp', 'hum', 'windspeed']</pre></div></div></div><div class=\"sk-serial\"><div class=\"sk-item\"><div class=\"sk-estimator sk-toggleable\"><input class=\"sk-toggleable__control sk-hidden--visually\" id=\"3b514aba-8464-4030-afcd-17ccdb7b5318\" type=\"checkbox\" ><label class=\"sk-toggleable__label\" for=\"3b514aba-8464-4030-afcd-17ccdb7b5318\">Normalizer</label><div class=\"sk-toggleable__content\"><pre>Normalizer()</pre></div></div></div></div></div></div></div></div></div></div>"
      ],
      "text/plain": [
       "ColumnTransformer(transformers=[('one_hot',\n",
       "                                 OneHotEncoder(handle_unknown='ignore'),\n",
       "                                 ['season', 'yr', 'mnth', 'hr', 'holiday',\n",
       "                                  'weekday', 'workingday', 'weathersit']),\n",
       "                                ('scaler', QuantileTransformer(),\n",
       "                                 ['temp', 'atemp', 'hum', 'windspeed']),\n",
       "                                ('normalizer', Normalizer(),\n",
       "                                 ['season', 'yr', 'mnth', 'hr', 'holiday',\n",
       "                                  'weekday', 'workingday', 'weathersit', 'temp',\n",
       "                                  'atemp', 'hum', 'windspeed'])])"
      ]
     },
     "execution_count": 7,
     "metadata": {},
     "output_type": "execute_result"
    }
   ],
   "source": [
    "ct"
   ]
  },
  {
   "cell_type": "code",
   "execution_count": 8,
   "metadata": {},
   "outputs": [],
   "source": [
    "steps = [\n",
    "    ( 'column_transformer', ct ),\n",
    "    ( 'model', MLPRegressor() )\n",
    "]\n",
    "\n",
    "pipeline = Pipeline(steps)"
   ]
  },
  {
   "cell_type": "code",
   "execution_count": 9,
   "metadata": {},
   "outputs": [
    {
     "data": {
      "text/html": [
       "<style>div.sk-top-container {color: black;background-color: white;}div.sk-toggleable {background-color: white;}label.sk-toggleable__label {cursor: pointer;display: block;width: 100%;margin-bottom: 0;padding: 0.2em 0.3em;box-sizing: border-box;text-align: center;}div.sk-toggleable__content {max-height: 0;max-width: 0;overflow: hidden;text-align: left;background-color: #f0f8ff;}div.sk-toggleable__content pre {margin: 0.2em;color: black;border-radius: 0.25em;background-color: #f0f8ff;}input.sk-toggleable__control:checked~div.sk-toggleable__content {max-height: 200px;max-width: 100%;overflow: auto;}div.sk-estimator input.sk-toggleable__control:checked~label.sk-toggleable__label {background-color: #d4ebff;}div.sk-label input.sk-toggleable__control:checked~label.sk-toggleable__label {background-color: #d4ebff;}input.sk-hidden--visually {border: 0;clip: rect(1px 1px 1px 1px);clip: rect(1px, 1px, 1px, 1px);height: 1px;margin: -1px;overflow: hidden;padding: 0;position: absolute;width: 1px;}div.sk-estimator {font-family: monospace;background-color: #f0f8ff;margin: 0.25em 0.25em;border: 1px dotted black;border-radius: 0.25em;box-sizing: border-box;}div.sk-estimator:hover {background-color: #d4ebff;}div.sk-parallel-item::after {content: \"\";width: 100%;border-bottom: 1px solid gray;flex-grow: 1;}div.sk-label:hover label.sk-toggleable__label {background-color: #d4ebff;}div.sk-serial::before {content: \"\";position: absolute;border-left: 1px solid gray;box-sizing: border-box;top: 2em;bottom: 0;left: 50%;}div.sk-serial {display: flex;flex-direction: column;align-items: center;background-color: white;}div.sk-item {z-index: 1;}div.sk-parallel {display: flex;align-items: stretch;justify-content: center;background-color: white;}div.sk-parallel-item {display: flex;flex-direction: column;position: relative;background-color: white;}div.sk-parallel-item:first-child::after {align-self: flex-end;width: 50%;}div.sk-parallel-item:last-child::after {align-self: flex-start;width: 50%;}div.sk-parallel-item:only-child::after {width: 0;}div.sk-dashed-wrapped {border: 1px dashed gray;margin: 0.2em;box-sizing: border-box;padding-bottom: 0.1em;background-color: white;position: relative;}div.sk-label label {font-family: monospace;font-weight: bold;background-color: white;display: inline-block;line-height: 1.2em;}div.sk-label-container {position: relative;z-index: 2;text-align: center;}div.sk-container {display: inline-block;position: relative;}</style><div class=\"sk-top-container\"><div class=\"sk-container\"><div class=\"sk-item sk-dashed-wrapped\"><div class=\"sk-label-container\"><div class=\"sk-label sk-toggleable\"><input class=\"sk-toggleable__control sk-hidden--visually\" id=\"5d3acf01-2354-4399-a2dd-bbbf06a5b072\" type=\"checkbox\" ><label class=\"sk-toggleable__label\" for=\"5d3acf01-2354-4399-a2dd-bbbf06a5b072\">Pipeline</label><div class=\"sk-toggleable__content\"><pre>Pipeline(steps=[('column_transformer',\n",
       "                 ColumnTransformer(transformers=[('one_hot',\n",
       "                                                  OneHotEncoder(handle_unknown='ignore'),\n",
       "                                                  ['season', 'yr', 'mnth', 'hr',\n",
       "                                                   'holiday', 'weekday',\n",
       "                                                   'workingday',\n",
       "                                                   'weathersit']),\n",
       "                                                 ('scaler',\n",
       "                                                  QuantileTransformer(),\n",
       "                                                  ['temp', 'atemp', 'hum',\n",
       "                                                   'windspeed']),\n",
       "                                                 ('normalizer', Normalizer(),\n",
       "                                                  ['season', 'yr', 'mnth', 'hr',\n",
       "                                                   'holiday', 'weekday',\n",
       "                                                   'workingday', 'weathersit',\n",
       "                                                   'temp', 'atemp', 'hum',\n",
       "                                                   'windspeed'])])),\n",
       "                ('model', MLPRegressor())])</pre></div></div></div><div class=\"sk-serial\"><div class=\"sk-item sk-dashed-wrapped\"><div class=\"sk-label-container\"><div class=\"sk-label sk-toggleable\"><input class=\"sk-toggleable__control sk-hidden--visually\" id=\"95c5640a-e004-4feb-a56f-422579bab67d\" type=\"checkbox\" ><label class=\"sk-toggleable__label\" for=\"95c5640a-e004-4feb-a56f-422579bab67d\">column_transformer: ColumnTransformer</label><div class=\"sk-toggleable__content\"><pre>ColumnTransformer(transformers=[('one_hot',\n",
       "                                 OneHotEncoder(handle_unknown='ignore'),\n",
       "                                 ['season', 'yr', 'mnth', 'hr', 'holiday',\n",
       "                                  'weekday', 'workingday', 'weathersit']),\n",
       "                                ('scaler', QuantileTransformer(),\n",
       "                                 ['temp', 'atemp', 'hum', 'windspeed']),\n",
       "                                ('normalizer', Normalizer(),\n",
       "                                 ['season', 'yr', 'mnth', 'hr', 'holiday',\n",
       "                                  'weekday', 'workingday', 'weathersit', 'temp',\n",
       "                                  'atemp', 'hum', 'windspeed'])])</pre></div></div></div><div class=\"sk-parallel\"><div class=\"sk-parallel-item\"><div class=\"sk-item\"><div class=\"sk-label-container\"><div class=\"sk-label sk-toggleable\"><input class=\"sk-toggleable__control sk-hidden--visually\" id=\"d8283f58-a500-4bbf-83e1-e9e7c1c77c6d\" type=\"checkbox\" ><label class=\"sk-toggleable__label\" for=\"d8283f58-a500-4bbf-83e1-e9e7c1c77c6d\">one_hot</label><div class=\"sk-toggleable__content\"><pre>['season', 'yr', 'mnth', 'hr', 'holiday', 'weekday', 'workingday', 'weathersit']</pre></div></div></div><div class=\"sk-serial\"><div class=\"sk-item\"><div class=\"sk-estimator sk-toggleable\"><input class=\"sk-toggleable__control sk-hidden--visually\" id=\"c3cb89de-b8a2-46e4-835c-15d5fc7ae17f\" type=\"checkbox\" ><label class=\"sk-toggleable__label\" for=\"c3cb89de-b8a2-46e4-835c-15d5fc7ae17f\">OneHotEncoder</label><div class=\"sk-toggleable__content\"><pre>OneHotEncoder(handle_unknown='ignore')</pre></div></div></div></div></div></div><div class=\"sk-parallel-item\"><div class=\"sk-item\"><div class=\"sk-label-container\"><div class=\"sk-label sk-toggleable\"><input class=\"sk-toggleable__control sk-hidden--visually\" id=\"679b12fb-683a-4557-8f6b-3c0fcfe79c18\" type=\"checkbox\" ><label class=\"sk-toggleable__label\" for=\"679b12fb-683a-4557-8f6b-3c0fcfe79c18\">scaler</label><div class=\"sk-toggleable__content\"><pre>['temp', 'atemp', 'hum', 'windspeed']</pre></div></div></div><div class=\"sk-serial\"><div class=\"sk-item\"><div class=\"sk-estimator sk-toggleable\"><input class=\"sk-toggleable__control sk-hidden--visually\" id=\"4916aa55-1378-4e46-bf2b-4776f6f08e82\" type=\"checkbox\" ><label class=\"sk-toggleable__label\" for=\"4916aa55-1378-4e46-bf2b-4776f6f08e82\">QuantileTransformer</label><div class=\"sk-toggleable__content\"><pre>QuantileTransformer()</pre></div></div></div></div></div></div><div class=\"sk-parallel-item\"><div class=\"sk-item\"><div class=\"sk-label-container\"><div class=\"sk-label sk-toggleable\"><input class=\"sk-toggleable__control sk-hidden--visually\" id=\"3038163d-dfbb-4441-aaac-3e698ae33358\" type=\"checkbox\" ><label class=\"sk-toggleable__label\" for=\"3038163d-dfbb-4441-aaac-3e698ae33358\">normalizer</label><div class=\"sk-toggleable__content\"><pre>['season', 'yr', 'mnth', 'hr', 'holiday', 'weekday', 'workingday', 'weathersit', 'temp', 'atemp', 'hum', 'windspeed']</pre></div></div></div><div class=\"sk-serial\"><div class=\"sk-item\"><div class=\"sk-estimator sk-toggleable\"><input class=\"sk-toggleable__control sk-hidden--visually\" id=\"2af5e1ac-b77d-4b0b-9f0c-cd5d840fc48d\" type=\"checkbox\" ><label class=\"sk-toggleable__label\" for=\"2af5e1ac-b77d-4b0b-9f0c-cd5d840fc48d\">Normalizer</label><div class=\"sk-toggleable__content\"><pre>Normalizer()</pre></div></div></div></div></div></div></div></div><div class=\"sk-item\"><div class=\"sk-estimator sk-toggleable\"><input class=\"sk-toggleable__control sk-hidden--visually\" id=\"03669522-eaac-4022-89ce-190ef3cfdc23\" type=\"checkbox\" ><label class=\"sk-toggleable__label\" for=\"03669522-eaac-4022-89ce-190ef3cfdc23\">MLPRegressor</label><div class=\"sk-toggleable__content\"><pre>MLPRegressor()</pre></div></div></div></div></div></div></div>"
      ],
      "text/plain": [
       "Pipeline(steps=[('column_transformer',\n",
       "                 ColumnTransformer(transformers=[('one_hot',\n",
       "                                                  OneHotEncoder(handle_unknown='ignore'),\n",
       "                                                  ['season', 'yr', 'mnth', 'hr',\n",
       "                                                   'holiday', 'weekday',\n",
       "                                                   'workingday',\n",
       "                                                   'weathersit']),\n",
       "                                                 ('scaler',\n",
       "                                                  QuantileTransformer(),\n",
       "                                                  ['temp', 'atemp', 'hum',\n",
       "                                                   'windspeed']),\n",
       "                                                 ('normalizer', Normalizer(),\n",
       "                                                  ['season', 'yr', 'mnth', 'hr',\n",
       "                                                   'holiday', 'weekday',\n",
       "                                                   'workingday', 'weathersit',\n",
       "                                                   'temp', 'atemp', 'hum',\n",
       "                                                   'windspeed'])])),\n",
       "                ('model', MLPRegressor())])"
      ]
     },
     "execution_count": 9,
     "metadata": {},
     "output_type": "execute_result"
    }
   ],
   "source": [
    "pipeline"
   ]
  },
  {
   "cell_type": "code",
   "execution_count": 10,
   "metadata": {},
   "outputs": [],
   "source": [
    "param_space = {\n",
    "    'column_transformer__scaler__n_quantiles': [10, 100],\n",
    "    'column_transformer__normalizer'         : [ Normalizer(), 'passthrough' ],\n",
    "    'model__hidden_layer_sizes'              : [ (20, 20), (50, 50) ],\n",
    "    'model__alpha'                           : [ 0.01, 0.001 ]\n",
    "}\n",
    "\n",
    "grid = GridSearchCV(pipeline, param_grid=param_space, cv=3, verbose=2)"
   ]
  },
  {
   "cell_type": "code",
   "execution_count": 11,
   "metadata": {},
   "outputs": [],
   "source": [
    "X = df[all_features]\n",
    "y = df['cnt']"
   ]
  },
  {
   "cell_type": "code",
   "execution_count": 12,
   "metadata": {},
   "outputs": [],
   "source": [
    "X_train, X_test, y_train, y_test = train_test_split(X, y)"
   ]
  },
  {
   "cell_type": "code",
   "execution_count": 13,
   "metadata": {},
   "outputs": [
    {
     "name": "stdout",
     "output_type": "stream",
     "text": [
      "Fitting 3 folds for each of 16 candidates, totalling 48 fits\n",
      "[CV] column_transformer__normalizer=Normalizer(), column_transformer__scaler__n_quantiles=10, model__alpha=0.01, model__hidden_layer_sizes=(20, 20) \n"
     ]
    },
    {
     "name": "stderr",
     "output_type": "stream",
     "text": [
      "[Parallel(n_jobs=1)]: Using backend SequentialBackend with 1 concurrent workers.\n",
      "C:\\Users\\Piero\\Anaconda3\\lib\\site-packages\\sklearn\\neural_network\\_multilayer_perceptron.py:585: ConvergenceWarning: Stochastic Optimizer: Maximum iterations (200) reached and the optimization hasn't converged yet.\n",
      "  % self.max_iter, ConvergenceWarning)\n",
      "[Parallel(n_jobs=1)]: Done   1 out of   1 | elapsed:    9.8s remaining:    0.0s\n"
     ]
    },
    {
     "name": "stdout",
     "output_type": "stream",
     "text": [
      "[CV]  column_transformer__normalizer=Normalizer(), column_transformer__scaler__n_quantiles=10, model__alpha=0.01, model__hidden_layer_sizes=(20, 20), total=   9.9s\n",
      "[CV] column_transformer__normalizer=Normalizer(), column_transformer__scaler__n_quantiles=10, model__alpha=0.01, model__hidden_layer_sizes=(20, 20) \n"
     ]
    },
    {
     "name": "stderr",
     "output_type": "stream",
     "text": [
      "C:\\Users\\Piero\\Anaconda3\\lib\\site-packages\\sklearn\\neural_network\\_multilayer_perceptron.py:585: ConvergenceWarning: Stochastic Optimizer: Maximum iterations (200) reached and the optimization hasn't converged yet.\n",
      "  % self.max_iter, ConvergenceWarning)\n"
     ]
    },
    {
     "name": "stdout",
     "output_type": "stream",
     "text": [
      "[CV]  column_transformer__normalizer=Normalizer(), column_transformer__scaler__n_quantiles=10, model__alpha=0.01, model__hidden_layer_sizes=(20, 20), total=  11.7s\n",
      "[CV] column_transformer__normalizer=Normalizer(), column_transformer__scaler__n_quantiles=10, model__alpha=0.01, model__hidden_layer_sizes=(20, 20) \n"
     ]
    },
    {
     "name": "stderr",
     "output_type": "stream",
     "text": [
      "C:\\Users\\Piero\\Anaconda3\\lib\\site-packages\\sklearn\\neural_network\\_multilayer_perceptron.py:585: ConvergenceWarning: Stochastic Optimizer: Maximum iterations (200) reached and the optimization hasn't converged yet.\n",
      "  % self.max_iter, ConvergenceWarning)\n"
     ]
    },
    {
     "name": "stdout",
     "output_type": "stream",
     "text": [
      "[CV]  column_transformer__normalizer=Normalizer(), column_transformer__scaler__n_quantiles=10, model__alpha=0.01, model__hidden_layer_sizes=(20, 20), total=  14.9s\n",
      "[CV] column_transformer__normalizer=Normalizer(), column_transformer__scaler__n_quantiles=10, model__alpha=0.01, model__hidden_layer_sizes=(50, 50) \n"
     ]
    },
    {
     "name": "stderr",
     "output_type": "stream",
     "text": [
      "C:\\Users\\Piero\\Anaconda3\\lib\\site-packages\\sklearn\\neural_network\\_multilayer_perceptron.py:585: ConvergenceWarning: Stochastic Optimizer: Maximum iterations (200) reached and the optimization hasn't converged yet.\n",
      "  % self.max_iter, ConvergenceWarning)\n"
     ]
    },
    {
     "name": "stdout",
     "output_type": "stream",
     "text": [
      "[CV]  column_transformer__normalizer=Normalizer(), column_transformer__scaler__n_quantiles=10, model__alpha=0.01, model__hidden_layer_sizes=(50, 50), total=  19.7s\n",
      "[CV] column_transformer__normalizer=Normalizer(), column_transformer__scaler__n_quantiles=10, model__alpha=0.01, model__hidden_layer_sizes=(50, 50) \n"
     ]
    },
    {
     "name": "stderr",
     "output_type": "stream",
     "text": [
      "C:\\Users\\Piero\\Anaconda3\\lib\\site-packages\\sklearn\\neural_network\\_multilayer_perceptron.py:585: ConvergenceWarning: Stochastic Optimizer: Maximum iterations (200) reached and the optimization hasn't converged yet.\n",
      "  % self.max_iter, ConvergenceWarning)\n"
     ]
    },
    {
     "name": "stdout",
     "output_type": "stream",
     "text": [
      "[CV]  column_transformer__normalizer=Normalizer(), column_transformer__scaler__n_quantiles=10, model__alpha=0.01, model__hidden_layer_sizes=(50, 50), total=  11.8s\n",
      "[CV] column_transformer__normalizer=Normalizer(), column_transformer__scaler__n_quantiles=10, model__alpha=0.01, model__hidden_layer_sizes=(50, 50) \n"
     ]
    },
    {
     "name": "stderr",
     "output_type": "stream",
     "text": [
      "C:\\Users\\Piero\\Anaconda3\\lib\\site-packages\\sklearn\\neural_network\\_multilayer_perceptron.py:585: ConvergenceWarning: Stochastic Optimizer: Maximum iterations (200) reached and the optimization hasn't converged yet.\n",
      "  % self.max_iter, ConvergenceWarning)\n"
     ]
    },
    {
     "name": "stdout",
     "output_type": "stream",
     "text": [
      "[CV]  column_transformer__normalizer=Normalizer(), column_transformer__scaler__n_quantiles=10, model__alpha=0.01, model__hidden_layer_sizes=(50, 50), total=  12.4s\n",
      "[CV] column_transformer__normalizer=Normalizer(), column_transformer__scaler__n_quantiles=10, model__alpha=0.001, model__hidden_layer_sizes=(20, 20) \n"
     ]
    },
    {
     "name": "stderr",
     "output_type": "stream",
     "text": [
      "C:\\Users\\Piero\\Anaconda3\\lib\\site-packages\\sklearn\\neural_network\\_multilayer_perceptron.py:585: ConvergenceWarning: Stochastic Optimizer: Maximum iterations (200) reached and the optimization hasn't converged yet.\n",
      "  % self.max_iter, ConvergenceWarning)\n"
     ]
    },
    {
     "name": "stdout",
     "output_type": "stream",
     "text": [
      "[CV]  column_transformer__normalizer=Normalizer(), column_transformer__scaler__n_quantiles=10, model__alpha=0.001, model__hidden_layer_sizes=(20, 20), total=   8.1s\n",
      "[CV] column_transformer__normalizer=Normalizer(), column_transformer__scaler__n_quantiles=10, model__alpha=0.001, model__hidden_layer_sizes=(20, 20) \n"
     ]
    },
    {
     "name": "stderr",
     "output_type": "stream",
     "text": [
      "C:\\Users\\Piero\\Anaconda3\\lib\\site-packages\\sklearn\\neural_network\\_multilayer_perceptron.py:585: ConvergenceWarning: Stochastic Optimizer: Maximum iterations (200) reached and the optimization hasn't converged yet.\n",
      "  % self.max_iter, ConvergenceWarning)\n"
     ]
    },
    {
     "name": "stdout",
     "output_type": "stream",
     "text": [
      "[CV]  column_transformer__normalizer=Normalizer(), column_transformer__scaler__n_quantiles=10, model__alpha=0.001, model__hidden_layer_sizes=(20, 20), total=   7.5s\n",
      "[CV] column_transformer__normalizer=Normalizer(), column_transformer__scaler__n_quantiles=10, model__alpha=0.001, model__hidden_layer_sizes=(20, 20) \n"
     ]
    },
    {
     "name": "stderr",
     "output_type": "stream",
     "text": [
      "C:\\Users\\Piero\\Anaconda3\\lib\\site-packages\\sklearn\\neural_network\\_multilayer_perceptron.py:585: ConvergenceWarning: Stochastic Optimizer: Maximum iterations (200) reached and the optimization hasn't converged yet.\n",
      "  % self.max_iter, ConvergenceWarning)\n"
     ]
    },
    {
     "name": "stdout",
     "output_type": "stream",
     "text": [
      "[CV]  column_transformer__normalizer=Normalizer(), column_transformer__scaler__n_quantiles=10, model__alpha=0.001, model__hidden_layer_sizes=(20, 20), total=   7.8s\n",
      "[CV] column_transformer__normalizer=Normalizer(), column_transformer__scaler__n_quantiles=10, model__alpha=0.001, model__hidden_layer_sizes=(50, 50) \n"
     ]
    },
    {
     "name": "stderr",
     "output_type": "stream",
     "text": [
      "C:\\Users\\Piero\\Anaconda3\\lib\\site-packages\\sklearn\\neural_network\\_multilayer_perceptron.py:585: ConvergenceWarning: Stochastic Optimizer: Maximum iterations (200) reached and the optimization hasn't converged yet.\n",
      "  % self.max_iter, ConvergenceWarning)\n"
     ]
    },
    {
     "name": "stdout",
     "output_type": "stream",
     "text": [
      "[CV]  column_transformer__normalizer=Normalizer(), column_transformer__scaler__n_quantiles=10, model__alpha=0.001, model__hidden_layer_sizes=(50, 50), total=  12.1s\n",
      "[CV] column_transformer__normalizer=Normalizer(), column_transformer__scaler__n_quantiles=10, model__alpha=0.001, model__hidden_layer_sizes=(50, 50) \n"
     ]
    },
    {
     "name": "stderr",
     "output_type": "stream",
     "text": [
      "C:\\Users\\Piero\\Anaconda3\\lib\\site-packages\\sklearn\\neural_network\\_multilayer_perceptron.py:585: ConvergenceWarning: Stochastic Optimizer: Maximum iterations (200) reached and the optimization hasn't converged yet.\n",
      "  % self.max_iter, ConvergenceWarning)\n"
     ]
    },
    {
     "name": "stdout",
     "output_type": "stream",
     "text": [
      "[CV]  column_transformer__normalizer=Normalizer(), column_transformer__scaler__n_quantiles=10, model__alpha=0.001, model__hidden_layer_sizes=(50, 50), total=  12.4s\n",
      "[CV] column_transformer__normalizer=Normalizer(), column_transformer__scaler__n_quantiles=10, model__alpha=0.001, model__hidden_layer_sizes=(50, 50) \n"
     ]
    },
    {
     "name": "stderr",
     "output_type": "stream",
     "text": [
      "C:\\Users\\Piero\\Anaconda3\\lib\\site-packages\\sklearn\\neural_network\\_multilayer_perceptron.py:585: ConvergenceWarning: Stochastic Optimizer: Maximum iterations (200) reached and the optimization hasn't converged yet.\n",
      "  % self.max_iter, ConvergenceWarning)\n"
     ]
    },
    {
     "name": "stdout",
     "output_type": "stream",
     "text": [
      "[CV]  column_transformer__normalizer=Normalizer(), column_transformer__scaler__n_quantiles=10, model__alpha=0.001, model__hidden_layer_sizes=(50, 50), total=  12.1s\n",
      "[CV] column_transformer__normalizer=Normalizer(), column_transformer__scaler__n_quantiles=100, model__alpha=0.01, model__hidden_layer_sizes=(20, 20) \n"
     ]
    },
    {
     "name": "stderr",
     "output_type": "stream",
     "text": [
      "C:\\Users\\Piero\\Anaconda3\\lib\\site-packages\\sklearn\\neural_network\\_multilayer_perceptron.py:585: ConvergenceWarning: Stochastic Optimizer: Maximum iterations (200) reached and the optimization hasn't converged yet.\n",
      "  % self.max_iter, ConvergenceWarning)\n"
     ]
    },
    {
     "name": "stdout",
     "output_type": "stream",
     "text": [
      "[CV]  column_transformer__normalizer=Normalizer(), column_transformer__scaler__n_quantiles=100, model__alpha=0.01, model__hidden_layer_sizes=(20, 20), total=   7.9s\n",
      "[CV] column_transformer__normalizer=Normalizer(), column_transformer__scaler__n_quantiles=100, model__alpha=0.01, model__hidden_layer_sizes=(20, 20) \n"
     ]
    },
    {
     "name": "stderr",
     "output_type": "stream",
     "text": [
      "C:\\Users\\Piero\\Anaconda3\\lib\\site-packages\\sklearn\\neural_network\\_multilayer_perceptron.py:585: ConvergenceWarning: Stochastic Optimizer: Maximum iterations (200) reached and the optimization hasn't converged yet.\n",
      "  % self.max_iter, ConvergenceWarning)\n"
     ]
    },
    {
     "name": "stdout",
     "output_type": "stream",
     "text": [
      "[CV]  column_transformer__normalizer=Normalizer(), column_transformer__scaler__n_quantiles=100, model__alpha=0.01, model__hidden_layer_sizes=(20, 20), total=   7.8s\n",
      "[CV] column_transformer__normalizer=Normalizer(), column_transformer__scaler__n_quantiles=100, model__alpha=0.01, model__hidden_layer_sizes=(20, 20) \n"
     ]
    },
    {
     "name": "stderr",
     "output_type": "stream",
     "text": [
      "C:\\Users\\Piero\\Anaconda3\\lib\\site-packages\\sklearn\\neural_network\\_multilayer_perceptron.py:585: ConvergenceWarning: Stochastic Optimizer: Maximum iterations (200) reached and the optimization hasn't converged yet.\n",
      "  % self.max_iter, ConvergenceWarning)\n"
     ]
    },
    {
     "name": "stdout",
     "output_type": "stream",
     "text": [
      "[CV]  column_transformer__normalizer=Normalizer(), column_transformer__scaler__n_quantiles=100, model__alpha=0.01, model__hidden_layer_sizes=(20, 20), total=   7.7s\n",
      "[CV] column_transformer__normalizer=Normalizer(), column_transformer__scaler__n_quantiles=100, model__alpha=0.01, model__hidden_layer_sizes=(50, 50) \n"
     ]
    },
    {
     "name": "stderr",
     "output_type": "stream",
     "text": [
      "C:\\Users\\Piero\\Anaconda3\\lib\\site-packages\\sklearn\\neural_network\\_multilayer_perceptron.py:585: ConvergenceWarning: Stochastic Optimizer: Maximum iterations (200) reached and the optimization hasn't converged yet.\n",
      "  % self.max_iter, ConvergenceWarning)\n"
     ]
    },
    {
     "name": "stdout",
     "output_type": "stream",
     "text": [
      "[CV]  column_transformer__normalizer=Normalizer(), column_transformer__scaler__n_quantiles=100, model__alpha=0.01, model__hidden_layer_sizes=(50, 50), total=  12.2s\n",
      "[CV] column_transformer__normalizer=Normalizer(), column_transformer__scaler__n_quantiles=100, model__alpha=0.01, model__hidden_layer_sizes=(50, 50) \n"
     ]
    },
    {
     "name": "stderr",
     "output_type": "stream",
     "text": [
      "C:\\Users\\Piero\\Anaconda3\\lib\\site-packages\\sklearn\\neural_network\\_multilayer_perceptron.py:585: ConvergenceWarning: Stochastic Optimizer: Maximum iterations (200) reached and the optimization hasn't converged yet.\n",
      "  % self.max_iter, ConvergenceWarning)\n"
     ]
    },
    {
     "name": "stdout",
     "output_type": "stream",
     "text": [
      "[CV]  column_transformer__normalizer=Normalizer(), column_transformer__scaler__n_quantiles=100, model__alpha=0.01, model__hidden_layer_sizes=(50, 50), total=  12.3s\n",
      "[CV] column_transformer__normalizer=Normalizer(), column_transformer__scaler__n_quantiles=100, model__alpha=0.01, model__hidden_layer_sizes=(50, 50) \n"
     ]
    },
    {
     "name": "stderr",
     "output_type": "stream",
     "text": [
      "C:\\Users\\Piero\\Anaconda3\\lib\\site-packages\\sklearn\\neural_network\\_multilayer_perceptron.py:585: ConvergenceWarning: Stochastic Optimizer: Maximum iterations (200) reached and the optimization hasn't converged yet.\n",
      "  % self.max_iter, ConvergenceWarning)\n"
     ]
    },
    {
     "name": "stdout",
     "output_type": "stream",
     "text": [
      "[CV]  column_transformer__normalizer=Normalizer(), column_transformer__scaler__n_quantiles=100, model__alpha=0.01, model__hidden_layer_sizes=(50, 50), total=  12.2s\n",
      "[CV] column_transformer__normalizer=Normalizer(), column_transformer__scaler__n_quantiles=100, model__alpha=0.001, model__hidden_layer_sizes=(20, 20) \n"
     ]
    },
    {
     "name": "stderr",
     "output_type": "stream",
     "text": [
      "C:\\Users\\Piero\\Anaconda3\\lib\\site-packages\\sklearn\\neural_network\\_multilayer_perceptron.py:585: ConvergenceWarning: Stochastic Optimizer: Maximum iterations (200) reached and the optimization hasn't converged yet.\n",
      "  % self.max_iter, ConvergenceWarning)\n"
     ]
    },
    {
     "name": "stdout",
     "output_type": "stream",
     "text": [
      "[CV]  column_transformer__normalizer=Normalizer(), column_transformer__scaler__n_quantiles=100, model__alpha=0.001, model__hidden_layer_sizes=(20, 20), total=   7.6s\n",
      "[CV] column_transformer__normalizer=Normalizer(), column_transformer__scaler__n_quantiles=100, model__alpha=0.001, model__hidden_layer_sizes=(20, 20) \n"
     ]
    },
    {
     "name": "stderr",
     "output_type": "stream",
     "text": [
      "C:\\Users\\Piero\\Anaconda3\\lib\\site-packages\\sklearn\\neural_network\\_multilayer_perceptron.py:585: ConvergenceWarning: Stochastic Optimizer: Maximum iterations (200) reached and the optimization hasn't converged yet.\n",
      "  % self.max_iter, ConvergenceWarning)\n"
     ]
    },
    {
     "name": "stdout",
     "output_type": "stream",
     "text": [
      "[CV]  column_transformer__normalizer=Normalizer(), column_transformer__scaler__n_quantiles=100, model__alpha=0.001, model__hidden_layer_sizes=(20, 20), total=   9.4s\n",
      "[CV] column_transformer__normalizer=Normalizer(), column_transformer__scaler__n_quantiles=100, model__alpha=0.001, model__hidden_layer_sizes=(20, 20) \n"
     ]
    },
    {
     "name": "stderr",
     "output_type": "stream",
     "text": [
      "C:\\Users\\Piero\\Anaconda3\\lib\\site-packages\\sklearn\\neural_network\\_multilayer_perceptron.py:585: ConvergenceWarning: Stochastic Optimizer: Maximum iterations (200) reached and the optimization hasn't converged yet.\n",
      "  % self.max_iter, ConvergenceWarning)\n"
     ]
    },
    {
     "name": "stdout",
     "output_type": "stream",
     "text": [
      "[CV]  column_transformer__normalizer=Normalizer(), column_transformer__scaler__n_quantiles=100, model__alpha=0.001, model__hidden_layer_sizes=(20, 20), total=   9.3s\n",
      "[CV] column_transformer__normalizer=Normalizer(), column_transformer__scaler__n_quantiles=100, model__alpha=0.001, model__hidden_layer_sizes=(50, 50) \n"
     ]
    },
    {
     "name": "stderr",
     "output_type": "stream",
     "text": [
      "C:\\Users\\Piero\\Anaconda3\\lib\\site-packages\\sklearn\\neural_network\\_multilayer_perceptron.py:585: ConvergenceWarning: Stochastic Optimizer: Maximum iterations (200) reached and the optimization hasn't converged yet.\n",
      "  % self.max_iter, ConvergenceWarning)\n"
     ]
    },
    {
     "name": "stdout",
     "output_type": "stream",
     "text": [
      "[CV]  column_transformer__normalizer=Normalizer(), column_transformer__scaler__n_quantiles=100, model__alpha=0.001, model__hidden_layer_sizes=(50, 50), total=  12.4s\n",
      "[CV] column_transformer__normalizer=Normalizer(), column_transformer__scaler__n_quantiles=100, model__alpha=0.001, model__hidden_layer_sizes=(50, 50) \n"
     ]
    },
    {
     "name": "stderr",
     "output_type": "stream",
     "text": [
      "C:\\Users\\Piero\\Anaconda3\\lib\\site-packages\\sklearn\\neural_network\\_multilayer_perceptron.py:585: ConvergenceWarning: Stochastic Optimizer: Maximum iterations (200) reached and the optimization hasn't converged yet.\n",
      "  % self.max_iter, ConvergenceWarning)\n"
     ]
    },
    {
     "name": "stdout",
     "output_type": "stream",
     "text": [
      "[CV]  column_transformer__normalizer=Normalizer(), column_transformer__scaler__n_quantiles=100, model__alpha=0.001, model__hidden_layer_sizes=(50, 50), total=  12.0s\n",
      "[CV] column_transformer__normalizer=Normalizer(), column_transformer__scaler__n_quantiles=100, model__alpha=0.001, model__hidden_layer_sizes=(50, 50) \n"
     ]
    },
    {
     "name": "stderr",
     "output_type": "stream",
     "text": [
      "C:\\Users\\Piero\\Anaconda3\\lib\\site-packages\\sklearn\\neural_network\\_multilayer_perceptron.py:585: ConvergenceWarning: Stochastic Optimizer: Maximum iterations (200) reached and the optimization hasn't converged yet.\n",
      "  % self.max_iter, ConvergenceWarning)\n"
     ]
    },
    {
     "name": "stdout",
     "output_type": "stream",
     "text": [
      "[CV]  column_transformer__normalizer=Normalizer(), column_transformer__scaler__n_quantiles=100, model__alpha=0.001, model__hidden_layer_sizes=(50, 50), total=  12.5s\n",
      "[CV] column_transformer__normalizer=passthrough, column_transformer__scaler__n_quantiles=10, model__alpha=0.01, model__hidden_layer_sizes=(20, 20) \n"
     ]
    },
    {
     "name": "stderr",
     "output_type": "stream",
     "text": [
      "C:\\Users\\Piero\\Anaconda3\\lib\\site-packages\\sklearn\\neural_network\\_multilayer_perceptron.py:585: ConvergenceWarning: Stochastic Optimizer: Maximum iterations (200) reached and the optimization hasn't converged yet.\n",
      "  % self.max_iter, ConvergenceWarning)\n"
     ]
    },
    {
     "name": "stdout",
     "output_type": "stream",
     "text": [
      "[CV]  column_transformer__normalizer=passthrough, column_transformer__scaler__n_quantiles=10, model__alpha=0.01, model__hidden_layer_sizes=(20, 20), total=   7.9s\n",
      "[CV] column_transformer__normalizer=passthrough, column_transformer__scaler__n_quantiles=10, model__alpha=0.01, model__hidden_layer_sizes=(20, 20) \n"
     ]
    },
    {
     "name": "stderr",
     "output_type": "stream",
     "text": [
      "C:\\Users\\Piero\\Anaconda3\\lib\\site-packages\\sklearn\\neural_network\\_multilayer_perceptron.py:585: ConvergenceWarning: Stochastic Optimizer: Maximum iterations (200) reached and the optimization hasn't converged yet.\n",
      "  % self.max_iter, ConvergenceWarning)\n"
     ]
    },
    {
     "name": "stdout",
     "output_type": "stream",
     "text": [
      "[CV]  column_transformer__normalizer=passthrough, column_transformer__scaler__n_quantiles=10, model__alpha=0.01, model__hidden_layer_sizes=(20, 20), total=   8.2s\n",
      "[CV] column_transformer__normalizer=passthrough, column_transformer__scaler__n_quantiles=10, model__alpha=0.01, model__hidden_layer_sizes=(20, 20) \n"
     ]
    },
    {
     "name": "stderr",
     "output_type": "stream",
     "text": [
      "C:\\Users\\Piero\\Anaconda3\\lib\\site-packages\\sklearn\\neural_network\\_multilayer_perceptron.py:585: ConvergenceWarning: Stochastic Optimizer: Maximum iterations (200) reached and the optimization hasn't converged yet.\n",
      "  % self.max_iter, ConvergenceWarning)\n"
     ]
    },
    {
     "name": "stdout",
     "output_type": "stream",
     "text": [
      "[CV]  column_transformer__normalizer=passthrough, column_transformer__scaler__n_quantiles=10, model__alpha=0.01, model__hidden_layer_sizes=(20, 20), total=   7.6s\n",
      "[CV] column_transformer__normalizer=passthrough, column_transformer__scaler__n_quantiles=10, model__alpha=0.01, model__hidden_layer_sizes=(50, 50) \n"
     ]
    },
    {
     "name": "stderr",
     "output_type": "stream",
     "text": [
      "C:\\Users\\Piero\\Anaconda3\\lib\\site-packages\\sklearn\\neural_network\\_multilayer_perceptron.py:585: ConvergenceWarning: Stochastic Optimizer: Maximum iterations (200) reached and the optimization hasn't converged yet.\n",
      "  % self.max_iter, ConvergenceWarning)\n"
     ]
    },
    {
     "name": "stdout",
     "output_type": "stream",
     "text": [
      "[CV]  column_transformer__normalizer=passthrough, column_transformer__scaler__n_quantiles=10, model__alpha=0.01, model__hidden_layer_sizes=(50, 50), total=  12.5s\n",
      "[CV] column_transformer__normalizer=passthrough, column_transformer__scaler__n_quantiles=10, model__alpha=0.01, model__hidden_layer_sizes=(50, 50) \n"
     ]
    },
    {
     "name": "stderr",
     "output_type": "stream",
     "text": [
      "C:\\Users\\Piero\\Anaconda3\\lib\\site-packages\\sklearn\\neural_network\\_multilayer_perceptron.py:585: ConvergenceWarning: Stochastic Optimizer: Maximum iterations (200) reached and the optimization hasn't converged yet.\n",
      "  % self.max_iter, ConvergenceWarning)\n"
     ]
    },
    {
     "name": "stdout",
     "output_type": "stream",
     "text": [
      "[CV]  column_transformer__normalizer=passthrough, column_transformer__scaler__n_quantiles=10, model__alpha=0.01, model__hidden_layer_sizes=(50, 50), total=  12.0s\n",
      "[CV] column_transformer__normalizer=passthrough, column_transformer__scaler__n_quantiles=10, model__alpha=0.01, model__hidden_layer_sizes=(50, 50) \n"
     ]
    },
    {
     "name": "stderr",
     "output_type": "stream",
     "text": [
      "C:\\Users\\Piero\\Anaconda3\\lib\\site-packages\\sklearn\\neural_network\\_multilayer_perceptron.py:585: ConvergenceWarning: Stochastic Optimizer: Maximum iterations (200) reached and the optimization hasn't converged yet.\n",
      "  % self.max_iter, ConvergenceWarning)\n"
     ]
    },
    {
     "name": "stdout",
     "output_type": "stream",
     "text": [
      "[CV]  column_transformer__normalizer=passthrough, column_transformer__scaler__n_quantiles=10, model__alpha=0.01, model__hidden_layer_sizes=(50, 50), total=  12.0s\n",
      "[CV] column_transformer__normalizer=passthrough, column_transformer__scaler__n_quantiles=10, model__alpha=0.001, model__hidden_layer_sizes=(20, 20) \n"
     ]
    },
    {
     "name": "stderr",
     "output_type": "stream",
     "text": [
      "C:\\Users\\Piero\\Anaconda3\\lib\\site-packages\\sklearn\\neural_network\\_multilayer_perceptron.py:585: ConvergenceWarning: Stochastic Optimizer: Maximum iterations (200) reached and the optimization hasn't converged yet.\n",
      "  % self.max_iter, ConvergenceWarning)\n"
     ]
    },
    {
     "name": "stdout",
     "output_type": "stream",
     "text": [
      "[CV]  column_transformer__normalizer=passthrough, column_transformer__scaler__n_quantiles=10, model__alpha=0.001, model__hidden_layer_sizes=(20, 20), total=   8.9s\n",
      "[CV] column_transformer__normalizer=passthrough, column_transformer__scaler__n_quantiles=10, model__alpha=0.001, model__hidden_layer_sizes=(20, 20) \n"
     ]
    },
    {
     "name": "stderr",
     "output_type": "stream",
     "text": [
      "C:\\Users\\Piero\\Anaconda3\\lib\\site-packages\\sklearn\\neural_network\\_multilayer_perceptron.py:585: ConvergenceWarning: Stochastic Optimizer: Maximum iterations (200) reached and the optimization hasn't converged yet.\n",
      "  % self.max_iter, ConvergenceWarning)\n"
     ]
    },
    {
     "name": "stdout",
     "output_type": "stream",
     "text": [
      "[CV]  column_transformer__normalizer=passthrough, column_transformer__scaler__n_quantiles=10, model__alpha=0.001, model__hidden_layer_sizes=(20, 20), total=   7.9s\n",
      "[CV] column_transformer__normalizer=passthrough, column_transformer__scaler__n_quantiles=10, model__alpha=0.001, model__hidden_layer_sizes=(20, 20) \n"
     ]
    },
    {
     "name": "stderr",
     "output_type": "stream",
     "text": [
      "C:\\Users\\Piero\\Anaconda3\\lib\\site-packages\\sklearn\\neural_network\\_multilayer_perceptron.py:585: ConvergenceWarning: Stochastic Optimizer: Maximum iterations (200) reached and the optimization hasn't converged yet.\n",
      "  % self.max_iter, ConvergenceWarning)\n"
     ]
    },
    {
     "name": "stdout",
     "output_type": "stream",
     "text": [
      "[CV]  column_transformer__normalizer=passthrough, column_transformer__scaler__n_quantiles=10, model__alpha=0.001, model__hidden_layer_sizes=(20, 20), total=   8.0s\n",
      "[CV] column_transformer__normalizer=passthrough, column_transformer__scaler__n_quantiles=10, model__alpha=0.001, model__hidden_layer_sizes=(50, 50) \n"
     ]
    },
    {
     "name": "stderr",
     "output_type": "stream",
     "text": [
      "C:\\Users\\Piero\\Anaconda3\\lib\\site-packages\\sklearn\\neural_network\\_multilayer_perceptron.py:585: ConvergenceWarning: Stochastic Optimizer: Maximum iterations (200) reached and the optimization hasn't converged yet.\n",
      "  % self.max_iter, ConvergenceWarning)\n"
     ]
    },
    {
     "name": "stdout",
     "output_type": "stream",
     "text": [
      "[CV]  column_transformer__normalizer=passthrough, column_transformer__scaler__n_quantiles=10, model__alpha=0.001, model__hidden_layer_sizes=(50, 50), total=  11.8s\n",
      "[CV] column_transformer__normalizer=passthrough, column_transformer__scaler__n_quantiles=10, model__alpha=0.001, model__hidden_layer_sizes=(50, 50) \n"
     ]
    },
    {
     "name": "stderr",
     "output_type": "stream",
     "text": [
      "C:\\Users\\Piero\\Anaconda3\\lib\\site-packages\\sklearn\\neural_network\\_multilayer_perceptron.py:585: ConvergenceWarning: Stochastic Optimizer: Maximum iterations (200) reached and the optimization hasn't converged yet.\n",
      "  % self.max_iter, ConvergenceWarning)\n"
     ]
    },
    {
     "name": "stdout",
     "output_type": "stream",
     "text": [
      "[CV]  column_transformer__normalizer=passthrough, column_transformer__scaler__n_quantiles=10, model__alpha=0.001, model__hidden_layer_sizes=(50, 50), total=  11.9s\n",
      "[CV] column_transformer__normalizer=passthrough, column_transformer__scaler__n_quantiles=10, model__alpha=0.001, model__hidden_layer_sizes=(50, 50) \n"
     ]
    },
    {
     "name": "stderr",
     "output_type": "stream",
     "text": [
      "C:\\Users\\Piero\\Anaconda3\\lib\\site-packages\\sklearn\\neural_network\\_multilayer_perceptron.py:585: ConvergenceWarning: Stochastic Optimizer: Maximum iterations (200) reached and the optimization hasn't converged yet.\n",
      "  % self.max_iter, ConvergenceWarning)\n"
     ]
    },
    {
     "name": "stdout",
     "output_type": "stream",
     "text": [
      "[CV]  column_transformer__normalizer=passthrough, column_transformer__scaler__n_quantiles=10, model__alpha=0.001, model__hidden_layer_sizes=(50, 50), total=  12.5s\n",
      "[CV] column_transformer__normalizer=passthrough, column_transformer__scaler__n_quantiles=100, model__alpha=0.01, model__hidden_layer_sizes=(20, 20) \n"
     ]
    },
    {
     "name": "stderr",
     "output_type": "stream",
     "text": [
      "C:\\Users\\Piero\\Anaconda3\\lib\\site-packages\\sklearn\\neural_network\\_multilayer_perceptron.py:585: ConvergenceWarning: Stochastic Optimizer: Maximum iterations (200) reached and the optimization hasn't converged yet.\n",
      "  % self.max_iter, ConvergenceWarning)\n"
     ]
    },
    {
     "name": "stdout",
     "output_type": "stream",
     "text": [
      "[CV]  column_transformer__normalizer=passthrough, column_transformer__scaler__n_quantiles=100, model__alpha=0.01, model__hidden_layer_sizes=(20, 20), total=   8.0s\n",
      "[CV] column_transformer__normalizer=passthrough, column_transformer__scaler__n_quantiles=100, model__alpha=0.01, model__hidden_layer_sizes=(20, 20) \n"
     ]
    },
    {
     "name": "stderr",
     "output_type": "stream",
     "text": [
      "C:\\Users\\Piero\\Anaconda3\\lib\\site-packages\\sklearn\\neural_network\\_multilayer_perceptron.py:585: ConvergenceWarning: Stochastic Optimizer: Maximum iterations (200) reached and the optimization hasn't converged yet.\n",
      "  % self.max_iter, ConvergenceWarning)\n"
     ]
    },
    {
     "name": "stdout",
     "output_type": "stream",
     "text": [
      "[CV]  column_transformer__normalizer=passthrough, column_transformer__scaler__n_quantiles=100, model__alpha=0.01, model__hidden_layer_sizes=(20, 20), total=   7.6s\n",
      "[CV] column_transformer__normalizer=passthrough, column_transformer__scaler__n_quantiles=100, model__alpha=0.01, model__hidden_layer_sizes=(20, 20) \n"
     ]
    },
    {
     "name": "stderr",
     "output_type": "stream",
     "text": [
      "C:\\Users\\Piero\\Anaconda3\\lib\\site-packages\\sklearn\\neural_network\\_multilayer_perceptron.py:585: ConvergenceWarning: Stochastic Optimizer: Maximum iterations (200) reached and the optimization hasn't converged yet.\n",
      "  % self.max_iter, ConvergenceWarning)\n"
     ]
    },
    {
     "name": "stdout",
     "output_type": "stream",
     "text": [
      "[CV]  column_transformer__normalizer=passthrough, column_transformer__scaler__n_quantiles=100, model__alpha=0.01, model__hidden_layer_sizes=(20, 20), total=   7.9s\n",
      "[CV] column_transformer__normalizer=passthrough, column_transformer__scaler__n_quantiles=100, model__alpha=0.01, model__hidden_layer_sizes=(50, 50) \n"
     ]
    },
    {
     "name": "stderr",
     "output_type": "stream",
     "text": [
      "C:\\Users\\Piero\\Anaconda3\\lib\\site-packages\\sklearn\\neural_network\\_multilayer_perceptron.py:585: ConvergenceWarning: Stochastic Optimizer: Maximum iterations (200) reached and the optimization hasn't converged yet.\n",
      "  % self.max_iter, ConvergenceWarning)\n"
     ]
    },
    {
     "name": "stdout",
     "output_type": "stream",
     "text": [
      "[CV]  column_transformer__normalizer=passthrough, column_transformer__scaler__n_quantiles=100, model__alpha=0.01, model__hidden_layer_sizes=(50, 50), total=  11.6s\n",
      "[CV] column_transformer__normalizer=passthrough, column_transformer__scaler__n_quantiles=100, model__alpha=0.01, model__hidden_layer_sizes=(50, 50) \n"
     ]
    },
    {
     "name": "stderr",
     "output_type": "stream",
     "text": [
      "C:\\Users\\Piero\\Anaconda3\\lib\\site-packages\\sklearn\\neural_network\\_multilayer_perceptron.py:585: ConvergenceWarning: Stochastic Optimizer: Maximum iterations (200) reached and the optimization hasn't converged yet.\n",
      "  % self.max_iter, ConvergenceWarning)\n"
     ]
    },
    {
     "name": "stdout",
     "output_type": "stream",
     "text": [
      "[CV]  column_transformer__normalizer=passthrough, column_transformer__scaler__n_quantiles=100, model__alpha=0.01, model__hidden_layer_sizes=(50, 50), total=  12.0s\n",
      "[CV] column_transformer__normalizer=passthrough, column_transformer__scaler__n_quantiles=100, model__alpha=0.01, model__hidden_layer_sizes=(50, 50) \n"
     ]
    },
    {
     "name": "stderr",
     "output_type": "stream",
     "text": [
      "C:\\Users\\Piero\\Anaconda3\\lib\\site-packages\\sklearn\\neural_network\\_multilayer_perceptron.py:585: ConvergenceWarning: Stochastic Optimizer: Maximum iterations (200) reached and the optimization hasn't converged yet.\n",
      "  % self.max_iter, ConvergenceWarning)\n"
     ]
    },
    {
     "name": "stdout",
     "output_type": "stream",
     "text": [
      "[CV]  column_transformer__normalizer=passthrough, column_transformer__scaler__n_quantiles=100, model__alpha=0.01, model__hidden_layer_sizes=(50, 50), total=  12.4s\n",
      "[CV] column_transformer__normalizer=passthrough, column_transformer__scaler__n_quantiles=100, model__alpha=0.001, model__hidden_layer_sizes=(20, 20) \n"
     ]
    },
    {
     "name": "stderr",
     "output_type": "stream",
     "text": [
      "C:\\Users\\Piero\\Anaconda3\\lib\\site-packages\\sklearn\\neural_network\\_multilayer_perceptron.py:585: ConvergenceWarning: Stochastic Optimizer: Maximum iterations (200) reached and the optimization hasn't converged yet.\n",
      "  % self.max_iter, ConvergenceWarning)\n"
     ]
    },
    {
     "name": "stdout",
     "output_type": "stream",
     "text": [
      "[CV]  column_transformer__normalizer=passthrough, column_transformer__scaler__n_quantiles=100, model__alpha=0.001, model__hidden_layer_sizes=(20, 20), total=   7.7s\n",
      "[CV] column_transformer__normalizer=passthrough, column_transformer__scaler__n_quantiles=100, model__alpha=0.001, model__hidden_layer_sizes=(20, 20) \n"
     ]
    },
    {
     "name": "stderr",
     "output_type": "stream",
     "text": [
      "C:\\Users\\Piero\\Anaconda3\\lib\\site-packages\\sklearn\\neural_network\\_multilayer_perceptron.py:585: ConvergenceWarning: Stochastic Optimizer: Maximum iterations (200) reached and the optimization hasn't converged yet.\n",
      "  % self.max_iter, ConvergenceWarning)\n"
     ]
    },
    {
     "name": "stdout",
     "output_type": "stream",
     "text": [
      "[CV]  column_transformer__normalizer=passthrough, column_transformer__scaler__n_quantiles=100, model__alpha=0.001, model__hidden_layer_sizes=(20, 20), total=   7.9s\n",
      "[CV] column_transformer__normalizer=passthrough, column_transformer__scaler__n_quantiles=100, model__alpha=0.001, model__hidden_layer_sizes=(20, 20) \n"
     ]
    },
    {
     "name": "stderr",
     "output_type": "stream",
     "text": [
      "C:\\Users\\Piero\\Anaconda3\\lib\\site-packages\\sklearn\\neural_network\\_multilayer_perceptron.py:585: ConvergenceWarning: Stochastic Optimizer: Maximum iterations (200) reached and the optimization hasn't converged yet.\n",
      "  % self.max_iter, ConvergenceWarning)\n"
     ]
    },
    {
     "name": "stdout",
     "output_type": "stream",
     "text": [
      "[CV]  column_transformer__normalizer=passthrough, column_transformer__scaler__n_quantiles=100, model__alpha=0.001, model__hidden_layer_sizes=(20, 20), total=   7.5s\n",
      "[CV] column_transformer__normalizer=passthrough, column_transformer__scaler__n_quantiles=100, model__alpha=0.001, model__hidden_layer_sizes=(50, 50) \n"
     ]
    },
    {
     "name": "stderr",
     "output_type": "stream",
     "text": [
      "C:\\Users\\Piero\\Anaconda3\\lib\\site-packages\\sklearn\\neural_network\\_multilayer_perceptron.py:585: ConvergenceWarning: Stochastic Optimizer: Maximum iterations (200) reached and the optimization hasn't converged yet.\n",
      "  % self.max_iter, ConvergenceWarning)\n"
     ]
    },
    {
     "name": "stdout",
     "output_type": "stream",
     "text": [
      "[CV]  column_transformer__normalizer=passthrough, column_transformer__scaler__n_quantiles=100, model__alpha=0.001, model__hidden_layer_sizes=(50, 50), total=  12.0s\n",
      "[CV] column_transformer__normalizer=passthrough, column_transformer__scaler__n_quantiles=100, model__alpha=0.001, model__hidden_layer_sizes=(50, 50) \n"
     ]
    },
    {
     "name": "stderr",
     "output_type": "stream",
     "text": [
      "C:\\Users\\Piero\\Anaconda3\\lib\\site-packages\\sklearn\\neural_network\\_multilayer_perceptron.py:585: ConvergenceWarning: Stochastic Optimizer: Maximum iterations (200) reached and the optimization hasn't converged yet.\n",
      "  % self.max_iter, ConvergenceWarning)\n"
     ]
    },
    {
     "name": "stdout",
     "output_type": "stream",
     "text": [
      "[CV]  column_transformer__normalizer=passthrough, column_transformer__scaler__n_quantiles=100, model__alpha=0.001, model__hidden_layer_sizes=(50, 50), total=  12.0s\n",
      "[CV] column_transformer__normalizer=passthrough, column_transformer__scaler__n_quantiles=100, model__alpha=0.001, model__hidden_layer_sizes=(50, 50) \n"
     ]
    },
    {
     "name": "stderr",
     "output_type": "stream",
     "text": [
      "C:\\Users\\Piero\\Anaconda3\\lib\\site-packages\\sklearn\\neural_network\\_multilayer_perceptron.py:585: ConvergenceWarning: Stochastic Optimizer: Maximum iterations (200) reached and the optimization hasn't converged yet.\n",
      "  % self.max_iter, ConvergenceWarning)\n",
      "[Parallel(n_jobs=1)]: Done  48 out of  48 | elapsed:  8.4min finished\n"
     ]
    },
    {
     "name": "stdout",
     "output_type": "stream",
     "text": [
      "[CV]  column_transformer__normalizer=passthrough, column_transformer__scaler__n_quantiles=100, model__alpha=0.001, model__hidden_layer_sizes=(50, 50), total=  11.9s\n"
     ]
    },
    {
     "name": "stderr",
     "output_type": "stream",
     "text": [
      "C:\\Users\\Piero\\Anaconda3\\lib\\site-packages\\sklearn\\neural_network\\_multilayer_perceptron.py:585: ConvergenceWarning: Stochastic Optimizer: Maximum iterations (200) reached and the optimization hasn't converged yet.\n",
      "  % self.max_iter, ConvergenceWarning)\n"
     ]
    },
    {
     "data": {
      "text/html": [
       "<style>div.sk-top-container {color: black;background-color: white;}div.sk-toggleable {background-color: white;}label.sk-toggleable__label {cursor: pointer;display: block;width: 100%;margin-bottom: 0;padding: 0.2em 0.3em;box-sizing: border-box;text-align: center;}div.sk-toggleable__content {max-height: 0;max-width: 0;overflow: hidden;text-align: left;background-color: #f0f8ff;}div.sk-toggleable__content pre {margin: 0.2em;color: black;border-radius: 0.25em;background-color: #f0f8ff;}input.sk-toggleable__control:checked~div.sk-toggleable__content {max-height: 200px;max-width: 100%;overflow: auto;}div.sk-estimator input.sk-toggleable__control:checked~label.sk-toggleable__label {background-color: #d4ebff;}div.sk-label input.sk-toggleable__control:checked~label.sk-toggleable__label {background-color: #d4ebff;}input.sk-hidden--visually {border: 0;clip: rect(1px 1px 1px 1px);clip: rect(1px, 1px, 1px, 1px);height: 1px;margin: -1px;overflow: hidden;padding: 0;position: absolute;width: 1px;}div.sk-estimator {font-family: monospace;background-color: #f0f8ff;margin: 0.25em 0.25em;border: 1px dotted black;border-radius: 0.25em;box-sizing: border-box;}div.sk-estimator:hover {background-color: #d4ebff;}div.sk-parallel-item::after {content: \"\";width: 100%;border-bottom: 1px solid gray;flex-grow: 1;}div.sk-label:hover label.sk-toggleable__label {background-color: #d4ebff;}div.sk-serial::before {content: \"\";position: absolute;border-left: 1px solid gray;box-sizing: border-box;top: 2em;bottom: 0;left: 50%;}div.sk-serial {display: flex;flex-direction: column;align-items: center;background-color: white;}div.sk-item {z-index: 1;}div.sk-parallel {display: flex;align-items: stretch;justify-content: center;background-color: white;}div.sk-parallel-item {display: flex;flex-direction: column;position: relative;background-color: white;}div.sk-parallel-item:first-child::after {align-self: flex-end;width: 50%;}div.sk-parallel-item:last-child::after {align-self: flex-start;width: 50%;}div.sk-parallel-item:only-child::after {width: 0;}div.sk-dashed-wrapped {border: 1px dashed gray;margin: 0.2em;box-sizing: border-box;padding-bottom: 0.1em;background-color: white;position: relative;}div.sk-label label {font-family: monospace;font-weight: bold;background-color: white;display: inline-block;line-height: 1.2em;}div.sk-label-container {position: relative;z-index: 2;text-align: center;}div.sk-container {display: inline-block;position: relative;}</style><div class=\"sk-top-container\"><div class=\"sk-container\"><div class=\"sk-item sk-dashed-wrapped\"><div class=\"sk-label-container\"><div class=\"sk-label sk-toggleable\"><input class=\"sk-toggleable__control sk-hidden--visually\" id=\"5e0dc146-3ddb-41ac-b3bb-2e1f7ca3fbed\" type=\"checkbox\" ><label class=\"sk-toggleable__label\" for=\"5e0dc146-3ddb-41ac-b3bb-2e1f7ca3fbed\">GridSearchCV</label><div class=\"sk-toggleable__content\"><pre>GridSearchCV(cv=3,\n",
       "             estimator=Pipeline(steps=[('column_transformer',\n",
       "                                        ColumnTransformer(transformers=[('one_hot',\n",
       "                                                                         OneHotEncoder(handle_unknown='ignore'),\n",
       "                                                                         ['season',\n",
       "                                                                          'yr',\n",
       "                                                                          'mnth',\n",
       "                                                                          'hr',\n",
       "                                                                          'holiday',\n",
       "                                                                          'weekday',\n",
       "                                                                          'workingday',\n",
       "                                                                          'weathersit']),\n",
       "                                                                        ('scaler',\n",
       "                                                                         QuantileTransformer(),\n",
       "                                                                         ['temp',\n",
       "                                                                          'atemp',\n",
       "                                                                          'hum',\n",
       "                                                                          'windspeed']),\n",
       "                                                                        ('normalizer',\n",
       "                                                                         Normalizer(),\n",
       "                                                                         ['season',\n",
       "                                                                          'yr',\n",
       "                                                                          'mnth',\n",
       "                                                                          'hr',\n",
       "                                                                          'holiday',\n",
       "                                                                          'weekday',\n",
       "                                                                          'workingday',\n",
       "                                                                          'weathersit',\n",
       "                                                                          'temp',\n",
       "                                                                          'atemp',\n",
       "                                                                          'hum',\n",
       "                                                                          'windspeed'])])),\n",
       "                                       ('model', MLPRegressor())]),\n",
       "             param_grid={'column_transformer__normalizer': [Normalizer(),\n",
       "                                                            'passthrough'],\n",
       "                         'column_transformer__scaler__n_quantiles': [10, 100],\n",
       "                         'model__alpha': [0.01, 0.001],\n",
       "                         'model__hidden_layer_sizes': [(20, 20), (50, 50)]},\n",
       "             verbose=2)</pre></div></div></div><div class=\"sk-parallel\"><div class=\"sk-parallel-item\"><div class=\"sk-item\"><div class=\"sk-serial\"><div class=\"sk-item\"><div class=\"sk-serial\"><div class=\"sk-item sk-dashed-wrapped\"><div class=\"sk-label-container\"><div class=\"sk-label sk-toggleable\"><input class=\"sk-toggleable__control sk-hidden--visually\" id=\"0a42ca41-0492-4a2f-9485-f35b246385b4\" type=\"checkbox\" ><label class=\"sk-toggleable__label\" for=\"0a42ca41-0492-4a2f-9485-f35b246385b4\">column_transformer: ColumnTransformer</label><div class=\"sk-toggleable__content\"><pre>ColumnTransformer(transformers=[('one_hot',\n",
       "                                 OneHotEncoder(handle_unknown='ignore'),\n",
       "                                 ['season', 'yr', 'mnth', 'hr', 'holiday',\n",
       "                                  'weekday', 'workingday', 'weathersit']),\n",
       "                                ('scaler', QuantileTransformer(),\n",
       "                                 ['temp', 'atemp', 'hum', 'windspeed']),\n",
       "                                ('normalizer', Normalizer(),\n",
       "                                 ['season', 'yr', 'mnth', 'hr', 'holiday',\n",
       "                                  'weekday', 'workingday', 'weathersit', 'temp',\n",
       "                                  'atemp', 'hum', 'windspeed'])])</pre></div></div></div><div class=\"sk-parallel\"><div class=\"sk-parallel-item\"><div class=\"sk-item\"><div class=\"sk-label-container\"><div class=\"sk-label sk-toggleable\"><input class=\"sk-toggleable__control sk-hidden--visually\" id=\"78302ab4-4bef-4d05-9559-85f6b9d28bd0\" type=\"checkbox\" ><label class=\"sk-toggleable__label\" for=\"78302ab4-4bef-4d05-9559-85f6b9d28bd0\">one_hot</label><div class=\"sk-toggleable__content\"><pre>['season', 'yr', 'mnth', 'hr', 'holiday', 'weekday', 'workingday', 'weathersit']</pre></div></div></div><div class=\"sk-serial\"><div class=\"sk-item\"><div class=\"sk-estimator sk-toggleable\"><input class=\"sk-toggleable__control sk-hidden--visually\" id=\"d32c187f-c77c-46a1-b3bf-bc1301c02380\" type=\"checkbox\" ><label class=\"sk-toggleable__label\" for=\"d32c187f-c77c-46a1-b3bf-bc1301c02380\">OneHotEncoder</label><div class=\"sk-toggleable__content\"><pre>OneHotEncoder(handle_unknown='ignore')</pre></div></div></div></div></div></div><div class=\"sk-parallel-item\"><div class=\"sk-item\"><div class=\"sk-label-container\"><div class=\"sk-label sk-toggleable\"><input class=\"sk-toggleable__control sk-hidden--visually\" id=\"0643c612-9571-4dfb-9499-c555fea2dbda\" type=\"checkbox\" ><label class=\"sk-toggleable__label\" for=\"0643c612-9571-4dfb-9499-c555fea2dbda\">scaler</label><div class=\"sk-toggleable__content\"><pre>['temp', 'atemp', 'hum', 'windspeed']</pre></div></div></div><div class=\"sk-serial\"><div class=\"sk-item\"><div class=\"sk-estimator sk-toggleable\"><input class=\"sk-toggleable__control sk-hidden--visually\" id=\"ff68f78d-ad1e-4caa-976b-db1a6ccfe574\" type=\"checkbox\" ><label class=\"sk-toggleable__label\" for=\"ff68f78d-ad1e-4caa-976b-db1a6ccfe574\">QuantileTransformer</label><div class=\"sk-toggleable__content\"><pre>QuantileTransformer()</pre></div></div></div></div></div></div><div class=\"sk-parallel-item\"><div class=\"sk-item\"><div class=\"sk-label-container\"><div class=\"sk-label sk-toggleable\"><input class=\"sk-toggleable__control sk-hidden--visually\" id=\"2cf270a2-29ab-4bfd-8606-b62c913effea\" type=\"checkbox\" ><label class=\"sk-toggleable__label\" for=\"2cf270a2-29ab-4bfd-8606-b62c913effea\">normalizer</label><div class=\"sk-toggleable__content\"><pre>['season', 'yr', 'mnth', 'hr', 'holiday', 'weekday', 'workingday', 'weathersit', 'temp', 'atemp', 'hum', 'windspeed']</pre></div></div></div><div class=\"sk-serial\"><div class=\"sk-item\"><div class=\"sk-estimator sk-toggleable\"><input class=\"sk-toggleable__control sk-hidden--visually\" id=\"685bfec9-66d7-415a-9b96-96a38e9fd26c\" type=\"checkbox\" ><label class=\"sk-toggleable__label\" for=\"685bfec9-66d7-415a-9b96-96a38e9fd26c\">Normalizer</label><div class=\"sk-toggleable__content\"><pre>Normalizer()</pre></div></div></div></div></div></div></div></div><div class=\"sk-item\"><div class=\"sk-estimator sk-toggleable\"><input class=\"sk-toggleable__control sk-hidden--visually\" id=\"1346287b-554f-4974-814d-15eb11cbdb1e\" type=\"checkbox\" ><label class=\"sk-toggleable__label\" for=\"1346287b-554f-4974-814d-15eb11cbdb1e\">MLPRegressor</label><div class=\"sk-toggleable__content\"><pre>MLPRegressor()</pre></div></div></div></div></div></div></div></div></div></div></div></div>"
      ],
      "text/plain": [
       "GridSearchCV(cv=3,\n",
       "             estimator=Pipeline(steps=[('column_transformer',\n",
       "                                        ColumnTransformer(transformers=[('one_hot',\n",
       "                                                                         OneHotEncoder(handle_unknown='ignore'),\n",
       "                                                                         ['season',\n",
       "                                                                          'yr',\n",
       "                                                                          'mnth',\n",
       "                                                                          'hr',\n",
       "                                                                          'holiday',\n",
       "                                                                          'weekday',\n",
       "                                                                          'workingday',\n",
       "                                                                          'weathersit']),\n",
       "                                                                        ('scaler',\n",
       "                                                                         QuantileTransformer(),\n",
       "                                                                         ['temp',\n",
       "                                                                          'atemp',\n",
       "                                                                          'hum',\n",
       "                                                                          'windspeed']),\n",
       "                                                                        ('normalizer',\n",
       "                                                                         Normalizer(),\n",
       "                                                                         ['season',\n",
       "                                                                          'yr',\n",
       "                                                                          'mnth',\n",
       "                                                                          'hr',\n",
       "                                                                          'holiday',\n",
       "                                                                          'weekday',\n",
       "                                                                          'workingday',\n",
       "                                                                          'weathersit',\n",
       "                                                                          'temp',\n",
       "                                                                          'atemp',\n",
       "                                                                          'hum',\n",
       "                                                                          'windspeed'])])),\n",
       "                                       ('model', MLPRegressor())]),\n",
       "             param_grid={'column_transformer__normalizer': [Normalizer(),\n",
       "                                                            'passthrough'],\n",
       "                         'column_transformer__scaler__n_quantiles': [10, 100],\n",
       "                         'model__alpha': [0.01, 0.001],\n",
       "                         'model__hidden_layer_sizes': [(20, 20), (50, 50)]},\n",
       "             verbose=2)"
      ]
     },
     "execution_count": 13,
     "metadata": {},
     "output_type": "execute_result"
    }
   ],
   "source": [
    "grid.fit(X_train, y_train)"
   ]
  },
  {
   "cell_type": "code",
   "execution_count": 14,
   "metadata": {},
   "outputs": [
    {
     "data": {
      "text/plain": [
       "{'column_transformer__normalizer': Normalizer(),\n",
       " 'column_transformer__scaler__n_quantiles': 10,\n",
       " 'model__alpha': 0.01,\n",
       " 'model__hidden_layer_sizes': (50, 50)}"
      ]
     },
     "execution_count": 14,
     "metadata": {},
     "output_type": "execute_result"
    }
   ],
   "source": [
    "grid.best_params_"
   ]
  },
  {
   "cell_type": "code",
   "execution_count": 21,
   "metadata": {},
   "outputs": [
    {
     "data": {
      "text/html": [
       "<style>div.sk-top-container {color: black;background-color: white;}div.sk-toggleable {background-color: white;}label.sk-toggleable__label {cursor: pointer;display: block;width: 100%;margin-bottom: 0;padding: 0.2em 0.3em;box-sizing: border-box;text-align: center;}div.sk-toggleable__content {max-height: 0;max-width: 0;overflow: hidden;text-align: left;background-color: #f0f8ff;}div.sk-toggleable__content pre {margin: 0.2em;color: black;border-radius: 0.25em;background-color: #f0f8ff;}input.sk-toggleable__control:checked~div.sk-toggleable__content {max-height: 200px;max-width: 100%;overflow: auto;}div.sk-estimator input.sk-toggleable__control:checked~label.sk-toggleable__label {background-color: #d4ebff;}div.sk-label input.sk-toggleable__control:checked~label.sk-toggleable__label {background-color: #d4ebff;}input.sk-hidden--visually {border: 0;clip: rect(1px 1px 1px 1px);clip: rect(1px, 1px, 1px, 1px);height: 1px;margin: -1px;overflow: hidden;padding: 0;position: absolute;width: 1px;}div.sk-estimator {font-family: monospace;background-color: #f0f8ff;margin: 0.25em 0.25em;border: 1px dotted black;border-radius: 0.25em;box-sizing: border-box;}div.sk-estimator:hover {background-color: #d4ebff;}div.sk-parallel-item::after {content: \"\";width: 100%;border-bottom: 1px solid gray;flex-grow: 1;}div.sk-label:hover label.sk-toggleable__label {background-color: #d4ebff;}div.sk-serial::before {content: \"\";position: absolute;border-left: 1px solid gray;box-sizing: border-box;top: 2em;bottom: 0;left: 50%;}div.sk-serial {display: flex;flex-direction: column;align-items: center;background-color: white;}div.sk-item {z-index: 1;}div.sk-parallel {display: flex;align-items: stretch;justify-content: center;background-color: white;}div.sk-parallel-item {display: flex;flex-direction: column;position: relative;background-color: white;}div.sk-parallel-item:first-child::after {align-self: flex-end;width: 50%;}div.sk-parallel-item:last-child::after {align-self: flex-start;width: 50%;}div.sk-parallel-item:only-child::after {width: 0;}div.sk-dashed-wrapped {border: 1px dashed gray;margin: 0.2em;box-sizing: border-box;padding-bottom: 0.1em;background-color: white;position: relative;}div.sk-label label {font-family: monospace;font-weight: bold;background-color: white;display: inline-block;line-height: 1.2em;}div.sk-label-container {position: relative;z-index: 2;text-align: center;}div.sk-container {display: inline-block;position: relative;}</style><div class=\"sk-top-container\"><div class=\"sk-container\"><div class=\"sk-item sk-dashed-wrapped\"><div class=\"sk-label-container\"><div class=\"sk-label sk-toggleable\"><input class=\"sk-toggleable__control sk-hidden--visually\" id=\"b88193a6-de64-4781-bd6c-035d5e8edc9a\" type=\"checkbox\" ><label class=\"sk-toggleable__label\" for=\"b88193a6-de64-4781-bd6c-035d5e8edc9a\">Pipeline</label><div class=\"sk-toggleable__content\"><pre>Pipeline(steps=[('column_transformer',\n",
       "                 ColumnTransformer(transformers=[('one_hot',\n",
       "                                                  OneHotEncoder(handle_unknown='ignore'),\n",
       "                                                  ['season', 'yr', 'mnth', 'hr',\n",
       "                                                   'holiday', 'weekday',\n",
       "                                                   'workingday',\n",
       "                                                   'weathersit']),\n",
       "                                                 ('scaler',\n",
       "                                                  QuantileTransformer(n_quantiles=10),\n",
       "                                                  ['temp', 'atemp', 'hum',\n",
       "                                                   'windspeed']),\n",
       "                                                 ('normalizer', Normalizer(),\n",
       "                                                  ['season', 'yr', 'mnth', 'hr',\n",
       "                                                   'holiday', 'weekday',\n",
       "                                                   'workingday', 'weathersit',\n",
       "                                                   'temp', 'atemp', 'hum',\n",
       "                                                   'windspeed'])])),\n",
       "                ('model',\n",
       "                 MLPRegressor(alpha=0.01, hidden_layer_sizes=(50, 50)))])</pre></div></div></div><div class=\"sk-serial\"><div class=\"sk-item sk-dashed-wrapped\"><div class=\"sk-label-container\"><div class=\"sk-label sk-toggleable\"><input class=\"sk-toggleable__control sk-hidden--visually\" id=\"53a00cd0-00a1-4b56-b20f-b51af661d386\" type=\"checkbox\" ><label class=\"sk-toggleable__label\" for=\"53a00cd0-00a1-4b56-b20f-b51af661d386\">column_transformer: ColumnTransformer</label><div class=\"sk-toggleable__content\"><pre>ColumnTransformer(transformers=[('one_hot',\n",
       "                                 OneHotEncoder(handle_unknown='ignore'),\n",
       "                                 ['season', 'yr', 'mnth', 'hr', 'holiday',\n",
       "                                  'weekday', 'workingday', 'weathersit']),\n",
       "                                ('scaler', QuantileTransformer(n_quantiles=10),\n",
       "                                 ['temp', 'atemp', 'hum', 'windspeed']),\n",
       "                                ('normalizer', Normalizer(),\n",
       "                                 ['season', 'yr', 'mnth', 'hr', 'holiday',\n",
       "                                  'weekday', 'workingday', 'weathersit', 'temp',\n",
       "                                  'atemp', 'hum', 'windspeed'])])</pre></div></div></div><div class=\"sk-parallel\"><div class=\"sk-parallel-item\"><div class=\"sk-item\"><div class=\"sk-label-container\"><div class=\"sk-label sk-toggleable\"><input class=\"sk-toggleable__control sk-hidden--visually\" id=\"7cd112fe-773f-4383-acd8-39a5911e5a4f\" type=\"checkbox\" ><label class=\"sk-toggleable__label\" for=\"7cd112fe-773f-4383-acd8-39a5911e5a4f\">one_hot</label><div class=\"sk-toggleable__content\"><pre>['season', 'yr', 'mnth', 'hr', 'holiday', 'weekday', 'workingday', 'weathersit']</pre></div></div></div><div class=\"sk-serial\"><div class=\"sk-item\"><div class=\"sk-estimator sk-toggleable\"><input class=\"sk-toggleable__control sk-hidden--visually\" id=\"db8b2d36-201b-44a0-b53d-014137db9f84\" type=\"checkbox\" ><label class=\"sk-toggleable__label\" for=\"db8b2d36-201b-44a0-b53d-014137db9f84\">OneHotEncoder</label><div class=\"sk-toggleable__content\"><pre>OneHotEncoder(handle_unknown='ignore')</pre></div></div></div></div></div></div><div class=\"sk-parallel-item\"><div class=\"sk-item\"><div class=\"sk-label-container\"><div class=\"sk-label sk-toggleable\"><input class=\"sk-toggleable__control sk-hidden--visually\" id=\"0b8ffe0b-631a-4bfa-89bd-742bf4a222a9\" type=\"checkbox\" ><label class=\"sk-toggleable__label\" for=\"0b8ffe0b-631a-4bfa-89bd-742bf4a222a9\">scaler</label><div class=\"sk-toggleable__content\"><pre>['temp', 'atemp', 'hum', 'windspeed']</pre></div></div></div><div class=\"sk-serial\"><div class=\"sk-item\"><div class=\"sk-estimator sk-toggleable\"><input class=\"sk-toggleable__control sk-hidden--visually\" id=\"51f28a62-26dc-455a-8698-eba922396e1f\" type=\"checkbox\" ><label class=\"sk-toggleable__label\" for=\"51f28a62-26dc-455a-8698-eba922396e1f\">QuantileTransformer</label><div class=\"sk-toggleable__content\"><pre>QuantileTransformer(n_quantiles=10)</pre></div></div></div></div></div></div><div class=\"sk-parallel-item\"><div class=\"sk-item\"><div class=\"sk-label-container\"><div class=\"sk-label sk-toggleable\"><input class=\"sk-toggleable__control sk-hidden--visually\" id=\"80536bc7-d46d-4cbc-b047-b31865b7153c\" type=\"checkbox\" ><label class=\"sk-toggleable__label\" for=\"80536bc7-d46d-4cbc-b047-b31865b7153c\">normalizer</label><div class=\"sk-toggleable__content\"><pre>['season', 'yr', 'mnth', 'hr', 'holiday', 'weekday', 'workingday', 'weathersit', 'temp', 'atemp', 'hum', 'windspeed']</pre></div></div></div><div class=\"sk-serial\"><div class=\"sk-item\"><div class=\"sk-estimator sk-toggleable\"><input class=\"sk-toggleable__control sk-hidden--visually\" id=\"563c92fd-facd-4b0b-a4b7-f1598c4eb900\" type=\"checkbox\" ><label class=\"sk-toggleable__label\" for=\"563c92fd-facd-4b0b-a4b7-f1598c4eb900\">Normalizer</label><div class=\"sk-toggleable__content\"><pre>Normalizer()</pre></div></div></div></div></div></div></div></div><div class=\"sk-item\"><div class=\"sk-estimator sk-toggleable\"><input class=\"sk-toggleable__control sk-hidden--visually\" id=\"a164e03f-8ea1-49f0-be11-ac4ebd55cdbf\" type=\"checkbox\" ><label class=\"sk-toggleable__label\" for=\"a164e03f-8ea1-49f0-be11-ac4ebd55cdbf\">MLPRegressor</label><div class=\"sk-toggleable__content\"><pre>MLPRegressor(alpha=0.01, hidden_layer_sizes=(50, 50))</pre></div></div></div></div></div></div></div>"
      ],
      "text/plain": [
       "Pipeline(steps=[('column_transformer',\n",
       "                 ColumnTransformer(transformers=[('one_hot',\n",
       "                                                  OneHotEncoder(handle_unknown='ignore'),\n",
       "                                                  ['season', 'yr', 'mnth', 'hr',\n",
       "                                                   'holiday', 'weekday',\n",
       "                                                   'workingday',\n",
       "                                                   'weathersit']),\n",
       "                                                 ('scaler',\n",
       "                                                  QuantileTransformer(n_quantiles=10),\n",
       "                                                  ['temp', 'atemp', 'hum',\n",
       "                                                   'windspeed']),\n",
       "                                                 ('normalizer', Normalizer(),\n",
       "                                                  ['season', 'yr', 'mnth', 'hr',\n",
       "                                                   'holiday', 'weekday',\n",
       "                                                   'workingday', 'weathersit',\n",
       "                                                   'temp', 'atemp', 'hum',\n",
       "                                                   'windspeed'])])),\n",
       "                ('model',\n",
       "                 MLPRegressor(alpha=0.01, hidden_layer_sizes=(50, 50)))])"
      ]
     },
     "execution_count": 21,
     "metadata": {},
     "output_type": "execute_result"
    }
   ],
   "source": [
    "grid.best_estimator_"
   ]
  },
  {
   "cell_type": "code",
   "execution_count": 22,
   "metadata": {},
   "outputs": [
    {
     "data": {
      "text/plain": [
       "['best_net.pkl']"
      ]
     },
     "execution_count": 22,
     "metadata": {},
     "output_type": "execute_result"
    }
   ],
   "source": [
    "dump(grid.best_estimator_, 'best_net.pkl')"
   ]
  },
  {
   "cell_type": "code",
   "execution_count": 23,
   "metadata": {},
   "outputs": [],
   "source": [
    "pipe = load('best_net.pkl')"
   ]
  },
  {
   "cell_type": "code",
   "execution_count": 24,
   "metadata": {},
   "outputs": [
    {
     "data": {
      "text/plain": [
       "0.9427423484968067"
      ]
     },
     "execution_count": 24,
     "metadata": {},
     "output_type": "execute_result"
    }
   ],
   "source": [
    "pipe.score(X_test, y_test)"
   ]
  },
  {
   "cell_type": "code",
   "execution_count": 25,
   "metadata": {},
   "outputs": [],
   "source": [
    "results = pd.DataFrame(grid.cv_results_)"
   ]
  },
  {
   "cell_type": "code",
   "execution_count": 36,
   "metadata": {},
   "outputs": [],
   "source": [
    "results.to_csv('grid_results.csv')"
   ]
  },
  {
   "cell_type": "code",
   "execution_count": 37,
   "metadata": {},
   "outputs": [
    {
     "name": "stderr",
     "output_type": "stream",
     "text": [
      "C:\\Users\\Piero\\Anaconda3\\lib\\site-packages\\sklearn\\compose\\_column_transformer.py:440: FutureWarning: Given feature/column names or counts do not match the ones for the data given during fit. This will fail from v0.24.\n",
      "  FutureWarning)\n"
     ]
    }
   ],
   "source": [
    "predictions = pipe.predict(df)"
   ]
  },
  {
   "cell_type": "code",
   "execution_count": 38,
   "metadata": {},
   "outputs": [
    {
     "data": {
      "text/plain": [
       "array([33.97112729, 21.8715846 , 20.09645648, ..., 77.43559801,\n",
       "       62.41958152, 35.28435974])"
      ]
     },
     "execution_count": 38,
     "metadata": {},
     "output_type": "execute_result"
    }
   ],
   "source": [
    "predictions"
   ]
  },
  {
   "cell_type": "code",
   "execution_count": 39,
   "metadata": {},
   "outputs": [],
   "source": [
    "df['predictions'] = predictions"
   ]
  },
  {
   "cell_type": "code",
   "execution_count": 40,
   "metadata": {},
   "outputs": [
    {
     "data": {
      "text/html": [
       "<div>\n",
       "<style scoped>\n",
       "    .dataframe tbody tr th:only-of-type {\n",
       "        vertical-align: middle;\n",
       "    }\n",
       "\n",
       "    .dataframe tbody tr th {\n",
       "        vertical-align: top;\n",
       "    }\n",
       "\n",
       "    .dataframe thead th {\n",
       "        text-align: right;\n",
       "    }\n",
       "</style>\n",
       "<table border=\"1\" class=\"dataframe\">\n",
       "  <thead>\n",
       "    <tr style=\"text-align: right;\">\n",
       "      <th></th>\n",
       "      <th>instant</th>\n",
       "      <th>dteday</th>\n",
       "      <th>season</th>\n",
       "      <th>yr</th>\n",
       "      <th>mnth</th>\n",
       "      <th>hr</th>\n",
       "      <th>holiday</th>\n",
       "      <th>weekday</th>\n",
       "      <th>workingday</th>\n",
       "      <th>weathersit</th>\n",
       "      <th>temp</th>\n",
       "      <th>atemp</th>\n",
       "      <th>hum</th>\n",
       "      <th>windspeed</th>\n",
       "      <th>casual</th>\n",
       "      <th>registered</th>\n",
       "      <th>cnt</th>\n",
       "      <th>predictions</th>\n",
       "    </tr>\n",
       "  </thead>\n",
       "  <tbody>\n",
       "    <tr>\n",
       "      <td>7148</td>\n",
       "      <td>7149</td>\n",
       "      <td>2011-10-30</td>\n",
       "      <td>4</td>\n",
       "      <td>0</td>\n",
       "      <td>10</td>\n",
       "      <td>11</td>\n",
       "      <td>0</td>\n",
       "      <td>0</td>\n",
       "      <td>0</td>\n",
       "      <td>1</td>\n",
       "      <td>0.36</td>\n",
       "      <td>0.3485</td>\n",
       "      <td>0.53</td>\n",
       "      <td>0.2239</td>\n",
       "      <td>58</td>\n",
       "      <td>182</td>\n",
       "      <td>240</td>\n",
       "      <td>269.255000</td>\n",
       "    </tr>\n",
       "    <tr>\n",
       "      <td>2661</td>\n",
       "      <td>2662</td>\n",
       "      <td>2011-04-25</td>\n",
       "      <td>2</td>\n",
       "      <td>0</td>\n",
       "      <td>4</td>\n",
       "      <td>19</td>\n",
       "      <td>0</td>\n",
       "      <td>1</td>\n",
       "      <td>1</td>\n",
       "      <td>1</td>\n",
       "      <td>0.66</td>\n",
       "      <td>0.6212</td>\n",
       "      <td>0.57</td>\n",
       "      <td>0.3284</td>\n",
       "      <td>62</td>\n",
       "      <td>320</td>\n",
       "      <td>382</td>\n",
       "      <td>322.099635</td>\n",
       "    </tr>\n",
       "    <tr>\n",
       "      <td>14926</td>\n",
       "      <td>14927</td>\n",
       "      <td>2012-09-19</td>\n",
       "      <td>3</td>\n",
       "      <td>1</td>\n",
       "      <td>9</td>\n",
       "      <td>3</td>\n",
       "      <td>0</td>\n",
       "      <td>3</td>\n",
       "      <td>1</td>\n",
       "      <td>2</td>\n",
       "      <td>0.52</td>\n",
       "      <td>0.5000</td>\n",
       "      <td>0.63</td>\n",
       "      <td>0.2537</td>\n",
       "      <td>1</td>\n",
       "      <td>4</td>\n",
       "      <td>5</td>\n",
       "      <td>9.447010</td>\n",
       "    </tr>\n",
       "    <tr>\n",
       "      <td>15328</td>\n",
       "      <td>15329</td>\n",
       "      <td>2012-10-05</td>\n",
       "      <td>4</td>\n",
       "      <td>1</td>\n",
       "      <td>10</td>\n",
       "      <td>21</td>\n",
       "      <td>0</td>\n",
       "      <td>5</td>\n",
       "      <td>1</td>\n",
       "      <td>1</td>\n",
       "      <td>0.60</td>\n",
       "      <td>0.5909</td>\n",
       "      <td>0.69</td>\n",
       "      <td>0.2239</td>\n",
       "      <td>47</td>\n",
       "      <td>220</td>\n",
       "      <td>267</td>\n",
       "      <td>278.290016</td>\n",
       "    </tr>\n",
       "    <tr>\n",
       "      <td>12036</td>\n",
       "      <td>12037</td>\n",
       "      <td>2012-05-21</td>\n",
       "      <td>2</td>\n",
       "      <td>1</td>\n",
       "      <td>5</td>\n",
       "      <td>17</td>\n",
       "      <td>0</td>\n",
       "      <td>1</td>\n",
       "      <td>1</td>\n",
       "      <td>2</td>\n",
       "      <td>0.66</td>\n",
       "      <td>0.6212</td>\n",
       "      <td>0.69</td>\n",
       "      <td>0.2537</td>\n",
       "      <td>40</td>\n",
       "      <td>468</td>\n",
       "      <td>508</td>\n",
       "      <td>637.524474</td>\n",
       "    </tr>\n",
       "  </tbody>\n",
       "</table>\n",
       "</div>"
      ],
      "text/plain": [
       "       instant      dteday  season  yr  mnth  hr  holiday  weekday  \\\n",
       "7148      7149  2011-10-30       4   0    10  11        0        0   \n",
       "2661      2662  2011-04-25       2   0     4  19        0        1   \n",
       "14926    14927  2012-09-19       3   1     9   3        0        3   \n",
       "15328    15329  2012-10-05       4   1    10  21        0        5   \n",
       "12036    12037  2012-05-21       2   1     5  17        0        1   \n",
       "\n",
       "       workingday  weathersit  temp   atemp   hum  windspeed  casual  \\\n",
       "7148            0           1  0.36  0.3485  0.53     0.2239      58   \n",
       "2661            1           1  0.66  0.6212  0.57     0.3284      62   \n",
       "14926           1           2  0.52  0.5000  0.63     0.2537       1   \n",
       "15328           1           1  0.60  0.5909  0.69     0.2239      47   \n",
       "12036           1           2  0.66  0.6212  0.69     0.2537      40   \n",
       "\n",
       "       registered  cnt  predictions  \n",
       "7148          182  240   269.255000  \n",
       "2661          320  382   322.099635  \n",
       "14926           4    5     9.447010  \n",
       "15328         220  267   278.290016  \n",
       "12036         468  508   637.524474  "
      ]
     },
     "execution_count": 40,
     "metadata": {},
     "output_type": "execute_result"
    }
   ],
   "source": [
    "df.sample(5)"
   ]
  },
  {
   "cell_type": "code",
   "execution_count": 41,
   "metadata": {},
   "outputs": [],
   "source": [
    "df['error'] = df['cnt'] - df['predictions']"
   ]
  },
  {
   "cell_type": "code",
   "execution_count": 42,
   "metadata": {},
   "outputs": [
    {
     "data": {
      "text/html": [
       "<div>\n",
       "<style scoped>\n",
       "    .dataframe tbody tr th:only-of-type {\n",
       "        vertical-align: middle;\n",
       "    }\n",
       "\n",
       "    .dataframe tbody tr th {\n",
       "        vertical-align: top;\n",
       "    }\n",
       "\n",
       "    .dataframe thead th {\n",
       "        text-align: right;\n",
       "    }\n",
       "</style>\n",
       "<table border=\"1\" class=\"dataframe\">\n",
       "  <thead>\n",
       "    <tr style=\"text-align: right;\">\n",
       "      <th></th>\n",
       "      <th>instant</th>\n",
       "      <th>dteday</th>\n",
       "      <th>season</th>\n",
       "      <th>yr</th>\n",
       "      <th>mnth</th>\n",
       "      <th>hr</th>\n",
       "      <th>holiday</th>\n",
       "      <th>weekday</th>\n",
       "      <th>workingday</th>\n",
       "      <th>weathersit</th>\n",
       "      <th>temp</th>\n",
       "      <th>atemp</th>\n",
       "      <th>hum</th>\n",
       "      <th>windspeed</th>\n",
       "      <th>casual</th>\n",
       "      <th>registered</th>\n",
       "      <th>cnt</th>\n",
       "      <th>predictions</th>\n",
       "      <th>error</th>\n",
       "    </tr>\n",
       "  </thead>\n",
       "  <tbody>\n",
       "    <tr>\n",
       "      <td>13052</td>\n",
       "      <td>13053</td>\n",
       "      <td>2012-07-03</td>\n",
       "      <td>3</td>\n",
       "      <td>1</td>\n",
       "      <td>7</td>\n",
       "      <td>1</td>\n",
       "      <td>0</td>\n",
       "      <td>2</td>\n",
       "      <td>1</td>\n",
       "      <td>1</td>\n",
       "      <td>0.72</td>\n",
       "      <td>0.6667</td>\n",
       "      <td>0.58</td>\n",
       "      <td>0.0000</td>\n",
       "      <td>5</td>\n",
       "      <td>9</td>\n",
       "      <td>14</td>\n",
       "      <td>18.430887</td>\n",
       "      <td>-4.430887</td>\n",
       "    </tr>\n",
       "    <tr>\n",
       "      <td>5867</td>\n",
       "      <td>5868</td>\n",
       "      <td>2011-09-06</td>\n",
       "      <td>3</td>\n",
       "      <td>0</td>\n",
       "      <td>9</td>\n",
       "      <td>23</td>\n",
       "      <td>0</td>\n",
       "      <td>2</td>\n",
       "      <td>1</td>\n",
       "      <td>3</td>\n",
       "      <td>0.54</td>\n",
       "      <td>0.5152</td>\n",
       "      <td>0.94</td>\n",
       "      <td>0.2537</td>\n",
       "      <td>2</td>\n",
       "      <td>56</td>\n",
       "      <td>58</td>\n",
       "      <td>32.689387</td>\n",
       "      <td>25.310613</td>\n",
       "    </tr>\n",
       "    <tr>\n",
       "      <td>14826</td>\n",
       "      <td>14827</td>\n",
       "      <td>2012-09-14</td>\n",
       "      <td>3</td>\n",
       "      <td>1</td>\n",
       "      <td>9</td>\n",
       "      <td>23</td>\n",
       "      <td>0</td>\n",
       "      <td>5</td>\n",
       "      <td>1</td>\n",
       "      <td>1</td>\n",
       "      <td>0.62</td>\n",
       "      <td>0.5909</td>\n",
       "      <td>0.78</td>\n",
       "      <td>0.0896</td>\n",
       "      <td>27</td>\n",
       "      <td>168</td>\n",
       "      <td>195</td>\n",
       "      <td>174.730619</td>\n",
       "      <td>20.269381</td>\n",
       "    </tr>\n",
       "    <tr>\n",
       "      <td>2040</td>\n",
       "      <td>2041</td>\n",
       "      <td>2011-03-30</td>\n",
       "      <td>2</td>\n",
       "      <td>0</td>\n",
       "      <td>3</td>\n",
       "      <td>21</td>\n",
       "      <td>0</td>\n",
       "      <td>3</td>\n",
       "      <td>1</td>\n",
       "      <td>2</td>\n",
       "      <td>0.24</td>\n",
       "      <td>0.2273</td>\n",
       "      <td>0.93</td>\n",
       "      <td>0.2537</td>\n",
       "      <td>0</td>\n",
       "      <td>27</td>\n",
       "      <td>27</td>\n",
       "      <td>50.568261</td>\n",
       "      <td>-23.568261</td>\n",
       "    </tr>\n",
       "    <tr>\n",
       "      <td>12517</td>\n",
       "      <td>12518</td>\n",
       "      <td>2012-06-10</td>\n",
       "      <td>2</td>\n",
       "      <td>1</td>\n",
       "      <td>6</td>\n",
       "      <td>18</td>\n",
       "      <td>0</td>\n",
       "      <td>0</td>\n",
       "      <td>0</td>\n",
       "      <td>1</td>\n",
       "      <td>0.82</td>\n",
       "      <td>0.7273</td>\n",
       "      <td>0.38</td>\n",
       "      <td>0.2239</td>\n",
       "      <td>164</td>\n",
       "      <td>326</td>\n",
       "      <td>490</td>\n",
       "      <td>523.644954</td>\n",
       "      <td>-33.644954</td>\n",
       "    </tr>\n",
       "  </tbody>\n",
       "</table>\n",
       "</div>"
      ],
      "text/plain": [
       "       instant      dteday  season  yr  mnth  hr  holiday  weekday  \\\n",
       "13052    13053  2012-07-03       3   1     7   1        0        2   \n",
       "5867      5868  2011-09-06       3   0     9  23        0        2   \n",
       "14826    14827  2012-09-14       3   1     9  23        0        5   \n",
       "2040      2041  2011-03-30       2   0     3  21        0        3   \n",
       "12517    12518  2012-06-10       2   1     6  18        0        0   \n",
       "\n",
       "       workingday  weathersit  temp   atemp   hum  windspeed  casual  \\\n",
       "13052           1           1  0.72  0.6667  0.58     0.0000       5   \n",
       "5867            1           3  0.54  0.5152  0.94     0.2537       2   \n",
       "14826           1           1  0.62  0.5909  0.78     0.0896      27   \n",
       "2040            1           2  0.24  0.2273  0.93     0.2537       0   \n",
       "12517           0           1  0.82  0.7273  0.38     0.2239     164   \n",
       "\n",
       "       registered  cnt  predictions      error  \n",
       "13052           9   14    18.430887  -4.430887  \n",
       "5867           56   58    32.689387  25.310613  \n",
       "14826         168  195   174.730619  20.269381  \n",
       "2040           27   27    50.568261 -23.568261  \n",
       "12517         326  490   523.644954 -33.644954  "
      ]
     },
     "execution_count": 42,
     "metadata": {},
     "output_type": "execute_result"
    }
   ],
   "source": [
    "df.sample(5)"
   ]
  },
  {
   "cell_type": "code",
   "execution_count": 44,
   "metadata": {},
   "outputs": [
    {
     "data": {
      "text/plain": [
       "<matplotlib.axes._subplots.AxesSubplot at 0x2eb6f1ad448>"
      ]
     },
     "execution_count": 44,
     "metadata": {},
     "output_type": "execute_result"
    },
    {
     "data": {
      "image/png": "[encoded data removed]",
      "text/plain": [
       "<Figure size 432x288 with 1 Axes>"
      ]
     },
     "metadata": {
      "needs_background": "light"
     },
     "output_type": "display_data"
    }
   ],
   "source": [
    "sns.scatterplot(data=df, x='cnt', y='error', alpha=0.1)"
   ]
  },
  {
   "cell_type": "code",
   "execution_count": 45,
   "metadata": {},
   "outputs": [
    {
     "data": {
      "text/plain": [
       "<matplotlib.axes._subplots.AxesSubplot at 0x2eb6ed15a88>"
      ]
     },
     "execution_count": 45,
     "metadata": {},
     "output_type": "execute_result"
    },
    {
     "data": {
      "image/png": "[encoded data removed]",
      "text/plain": [
       "<Figure size 432x288 with 1 Axes>"
      ]
     },
     "metadata": {
      "needs_background": "light"
     },
     "output_type": "display_data"
    }
   ],
   "source": [
    "sns.distplot(df['error'])"
   ]
  },
  {
   "cell_type": "code",
   "execution_count": null,
   "metadata": {},
   "outputs": [],
   "source": []
  }
 ],
 "metadata": {
  "kernelspec": {
   "display_name": "Python 3",
   "language": "python",
   "name": "python3"
  },
  "language_info": {
   "codemirror_mode": {
    "name": "ipython",
    "version": 3
   },
   "file_extension": ".py",
   "mimetype": "text/x-python",
   "name": "python",
   "nbconvert_exporter": "python",
   "pygments_lexer": "ipython3",
   "version": "3.7.4"
  }
 },
 "nbformat": 4,
 "nbformat_minor": 4
}
