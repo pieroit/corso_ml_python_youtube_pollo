{
 "cells": [
  {
   "cell_type": "code",
   "execution_count": 33,
   "metadata": {},
   "outputs": [],
   "source": [
    "import pandas as pd\n",
    "import seaborn as sns\n",
    "\n",
    "from sklearn.datasets import fetch_olivetti_faces\n",
    "from sklearn.model_selection import train_test_split\n",
    "\n",
    "from sklearn.ensemble import RandomForestClassifier, BaggingClassifier\n",
    "from sklearn.neighbors import KNeighborsClassifier"
   ]
  },
  {
   "cell_type": "code",
   "execution_count": 3,
   "metadata": {},
   "outputs": [],
   "source": [
    "X, y = fetch_olivetti_faces(return_X_y=True)"
   ]
  },
  {
   "cell_type": "code",
   "execution_count": 4,
   "metadata": {},
   "outputs": [],
   "source": [
    "X_train, X_test, y_train, y_test = train_test_split(X, y)"
   ]
  },
  {
   "cell_type": "code",
   "execution_count": 26,
   "metadata": {},
   "outputs": [],
   "source": [
    "forest = RandomForestClassifier(n_estimators=100, max_depth=20, max_samples=None)"
   ]
  },
  {
   "cell_type": "code",
   "execution_count": 27,
   "metadata": {},
   "outputs": [
    {
     "data": {
      "text/plain": [
       "RandomForestClassifier(max_depth=20)"
      ]
     },
     "execution_count": 27,
     "metadata": {},
     "output_type": "execute_result"
    }
   ],
   "source": [
    "forest.fit(X_train, y_train)"
   ]
  },
  {
   "cell_type": "code",
   "execution_count": 28,
   "metadata": {},
   "outputs": [
    {
     "data": {
      "text/plain": [
       "(1.0, 0.85)"
      ]
     },
     "execution_count": 28,
     "metadata": {},
     "output_type": "execute_result"
    }
   ],
   "source": [
    "acc_train = forest.score(X_train, y_train)\n",
    "acc_test = forest.score(X_test, y_test)\n",
    "\n",
    "acc_train, acc_test"
   ]
  },
  {
   "cell_type": "code",
   "execution_count": 29,
   "metadata": {},
   "outputs": [
    {
     "data": {
      "text/plain": [
       "array([19., 25., 17., 25., 10.])"
      ]
     },
     "execution_count": 29,
     "metadata": {},
     "output_type": "execute_result"
    }
   ],
   "source": [
    "forest.estimators_[5].predict(X_test[:5])"
   ]
  },
  {
   "cell_type": "code",
   "execution_count": 30,
   "metadata": {},
   "outputs": [
    {
     "data": {
      "text/plain": [
       "array([2.69362452e-04, 3.80262562e-05, 0.00000000e+00, ...,\n",
       "       0.00000000e+00, 8.93705965e-04, 7.57997739e-04])"
      ]
     },
     "execution_count": 30,
     "metadata": {},
     "output_type": "execute_result"
    }
   ],
   "source": [
    "forest.feature_importances_"
   ]
  },
  {
   "cell_type": "code",
   "execution_count": 31,
   "metadata": {},
   "outputs": [
    {
     "data": {
      "text/plain": [
       "<matplotlib.axes._subplots.AxesSubplot at 0x1251dbc04c8>"
      ]
     },
     "execution_count": 31,
     "metadata": {},
     "output_type": "execute_result"
    },
    {
     "data": {
      "image/png": "[encoded data removed]",
      "text/plain": [
       "<Figure size 432x288 with 2 Axes>"
      ]
     },
     "metadata": {
      "needs_background": "light"
     },
     "output_type": "display_data"
    }
   ],
   "source": [
    "pixel_importance = forest.feature_importances_.reshape(64, 64)\n",
    "sns.heatmap(pixel_importance)"
   ]
  },
  {
   "cell_type": "code",
   "execution_count": 36,
   "metadata": {},
   "outputs": [],
   "source": [
    "m = KNeighborsClassifier()\n",
    "bag = BaggingClassifier(m, n_estimators=100, max_samples=0.8, max_features=0.7)"
   ]
  },
  {
   "cell_type": "code",
   "execution_count": 37,
   "metadata": {},
   "outputs": [
    {
     "data": {
      "text/plain": [
       "BaggingClassifier(base_estimator=KNeighborsClassifier(), max_features=0.7,\n",
       "                  max_samples=0.8, n_estimators=100)"
      ]
     },
     "execution_count": 37,
     "metadata": {},
     "output_type": "execute_result"
    }
   ],
   "source": [
    "bag.fit(X_train, y_train)"
   ]
  },
  {
   "cell_type": "code",
   "execution_count": 38,
   "metadata": {},
   "outputs": [
    {
     "data": {
      "text/plain": [
       "(0.9266666666666666, 0.76)"
      ]
     },
     "execution_count": 38,
     "metadata": {},
     "output_type": "execute_result"
    }
   ],
   "source": [
    "bag.score(X_train, y_train), bag.score(X_test, y_test)"
   ]
  },
  {
   "cell_type": "code",
   "execution_count": 40,
   "metadata": {},
   "outputs": [
    {
     "data": {
      "text/plain": [
       "KNeighborsClassifier()"
      ]
     },
     "execution_count": 40,
     "metadata": {},
     "output_type": "execute_result"
    }
   ],
   "source": [
    "bag.estimators_[0]"
   ]
  },
  {
   "cell_type": "code",
   "execution_count": 41,
   "metadata": {},
   "outputs": [
    {
     "data": {
      "text/plain": [
       "array([154, 280,   2, 199, 204,  54,  10,  46,   4, 206, 198,  86, 131,\n",
       "       172, 275, 247,  57,  58, 293, 289, 197, 104, 276, 198, 163,  32,\n",
       "       258, 114,  75, 225,  68, 188,   0, 286, 199, 236, 112, 152, 132,\n",
       "        40,  52, 172,  84, 125, 177, 280,  37, 219, 285, 289,  74, 152,\n",
       "        82,  21,  35, 255, 248,  99,  29, 207, 170, 166, 263, 125, 262,\n",
       "       165, 111, 265, 163,  32, 266, 153, 262,  57,  20, 259,   1, 132,\n",
       "        74,  85, 122,  88,  25,  19, 250, 105,  70,  64, 293, 156, 130,\n",
       "        78, 185, 267,  60, 225, 274, 122, 289,  75,  24,  94, 139, 142,\n",
       "        60, 183,  70, 232,  48, 249, 161, 222, 184, 235, 233,   2, 277,\n",
       "       114, 265, 187,  73, 278,  43,  70, 157, 280,  68, 180, 105,  46,\n",
       "       269,  48,   9,  28, 242,  38,  89, 186, 165, 266, 272, 226, 152,\n",
       "        70, 288, 171,  21, 193,  35, 102, 135, 141, 175,  39, 161, 184,\n",
       "       161, 146,  97, 287,  29, 241, 199,  47, 290, 105, 184,  43, 203,\n",
       "        96,  99, 277,  46, 102, 170, 121, 284, 254, 252,  79, 166, 207,\n",
       "       169,  10, 126, 110, 232, 257, 210, 150, 254, 130, 150, 277, 161,\n",
       "       119, 243,  15, 142, 255,  24, 112,  48, 197, 288, 143, 112,  62,\n",
       "       286, 216,  28, 269, 113, 118, 146, 262,  74, 199, 243, 269, 196,\n",
       "       198,  17, 170, 151,  38, 232, 114, 117,  75, 200, 238, 286,  30,\n",
       "       291, 201, 130, 108, 256,  17])"
      ]
     },
     "execution_count": 41,
     "metadata": {},
     "output_type": "execute_result"
    }
   ],
   "source": [
    "bag.estimators_samples_[0]"
   ]
  },
  {
   "cell_type": "code",
   "execution_count": 42,
   "metadata": {},
   "outputs": [
    {
     "data": {
      "text/plain": [
       "array([1891, 1646,  654, ..., 3661,  237, 1334])"
      ]
     },
     "execution_count": 42,
     "metadata": {},
     "output_type": "execute_result"
    }
   ],
   "source": [
    "bag.estimators_features_[0]"
   ]
  },
  {
   "cell_type": "code",
   "execution_count": null,
   "metadata": {},
   "outputs": [],
   "source": []
  }
 ],
 "metadata": {
  "kernelspec": {
   "display_name": "Python 3",
   "language": "python",
   "name": "python3"
  },
  "language_info": {
   "codemirror_mode": {
    "name": "ipython",
    "version": 3
   },
   "file_extension": ".py",
   "mimetype": "text/x-python",
   "name": "python",
   "nbconvert_exporter": "python",
   "pygments_lexer": "ipython3",
   "version": "3.7.4"
  }
 },
 "nbformat": 4,
 "nbformat_minor": 4
}
