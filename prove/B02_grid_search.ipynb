{
 "cells": [
  {
   "cell_type": "code",
   "execution_count": 1,
   "metadata": {},
   "outputs": [],
   "source": [
    "from sklearn.datasets import load_digits\n",
    "from sklearn.model_selection import train_test_split, GridSearchCV\n",
    "from sklearn.neural_network import MLPClassifier\n",
    "import pandas as pd"
   ]
  },
  {
   "cell_type": "code",
   "execution_count": 2,
   "metadata": {},
   "outputs": [],
   "source": [
    "X, y = load_digits(return_X_y=True)\n",
    "X_train, X_test, y_train, y_test = train_test_split(X, y)"
   ]
  },
  {
   "cell_type": "code",
   "execution_count": 3,
   "metadata": {},
   "outputs": [],
   "source": [
    "model = MLPClassifier()"
   ]
  },
  {
   "cell_type": "code",
   "execution_count": 4,
   "metadata": {},
   "outputs": [
    {
     "data": {
      "text/plain": [
       "{'activation': 'relu',\n",
       " 'alpha': 0.0001,\n",
       " 'batch_size': 'auto',\n",
       " 'beta_1': 0.9,\n",
       " 'beta_2': 0.999,\n",
       " 'early_stopping': False,\n",
       " 'epsilon': 1e-08,\n",
       " 'hidden_layer_sizes': (100,),\n",
       " 'learning_rate': 'constant',\n",
       " 'learning_rate_init': 0.001,\n",
       " 'max_fun': 15000,\n",
       " 'max_iter': 200,\n",
       " 'momentum': 0.9,\n",
       " 'n_iter_no_change': 10,\n",
       " 'nesterovs_momentum': True,\n",
       " 'power_t': 0.5,\n",
       " 'random_state': None,\n",
       " 'shuffle': True,\n",
       " 'solver': 'adam',\n",
       " 'tol': 0.0001,\n",
       " 'validation_fraction': 0.1,\n",
       " 'verbose': False,\n",
       " 'warm_start': False}"
      ]
     },
     "execution_count": 4,
     "metadata": {},
     "output_type": "execute_result"
    }
   ],
   "source": [
    "model.get_params()"
   ]
  },
  {
   "cell_type": "code",
   "execution_count": 5,
   "metadata": {},
   "outputs": [],
   "source": [
    "params_space = {\n",
    "    'hidden_layer_sizes': [(20,), (10, 10), (10, 5, 5)],\n",
    "    'solver': ['sgd', 'adam'],\n",
    "    #'learning_rate_init' : [0.001, 0.01, 0.1],\n",
    "    'alpha': [0.05, 0.1]\n",
    "}\n",
    "grid = GridSearchCV(model, param_grid=params_space,\n",
    "                    verbose=2,\n",
    "                    #refit=True, # cominciare omettendolo (ottieni il modello migliore), poi =True (refitti), poi ='accuracy' (scegli in base a metrica),\n",
    "                    #cv=3, # da dire dopo, quando si combina pipeline, crossvalidation e grid search\n",
    "                    #scoring=['accuracy', 'precision_macro'] # da attivare dopo il refit\n",
    "                   )"
   ]
  },
  {
   "cell_type": "code",
   "execution_count": 6,
   "metadata": {},
   "outputs": [
    {
     "name": "stdout",
     "output_type": "stream",
     "text": [
      "Fitting 5 folds for each of 12 candidates, totalling 60 fits\n",
      "[CV] alpha=0.05, hidden_layer_sizes=(20,), solver=sgd ................\n"
     ]
    },
    {
     "name": "stderr",
     "output_type": "stream",
     "text": [
      "[Parallel(n_jobs=1)]: Using backend SequentialBackend with 1 concurrent workers.\n",
      "c:\\users\\piero\\desktop\\corso_ml_python_youtube_pollo\\venv\\lib\\site-packages\\sklearn\\neural_network\\_multilayer_perceptron.py:571: ConvergenceWarning: Stochastic Optimizer: Maximum iterations (200) reached and the optimization hasn't converged yet.\n",
      "  % self.max_iter, ConvergenceWarning)\n",
      "[Parallel(n_jobs=1)]: Done   1 out of   1 | elapsed:    0.7s remaining:    0.0s\n"
     ]
    },
    {
     "name": "stdout",
     "output_type": "stream",
     "text": [
      "[CV] . alpha=0.05, hidden_layer_sizes=(20,), solver=sgd, total=   0.8s\n",
      "[CV] alpha=0.05, hidden_layer_sizes=(20,), solver=sgd ................\n"
     ]
    },
    {
     "name": "stderr",
     "output_type": "stream",
     "text": [
      "c:\\users\\piero\\desktop\\corso_ml_python_youtube_pollo\\venv\\lib\\site-packages\\sklearn\\neural_network\\_multilayer_perceptron.py:571: ConvergenceWarning: Stochastic Optimizer: Maximum iterations (200) reached and the optimization hasn't converged yet.\n",
      "  % self.max_iter, ConvergenceWarning)\n"
     ]
    },
    {
     "name": "stdout",
     "output_type": "stream",
     "text": [
      "[CV] . alpha=0.05, hidden_layer_sizes=(20,), solver=sgd, total=   0.8s\n",
      "[CV] alpha=0.05, hidden_layer_sizes=(20,), solver=sgd ................\n"
     ]
    },
    {
     "name": "stderr",
     "output_type": "stream",
     "text": [
      "c:\\users\\piero\\desktop\\corso_ml_python_youtube_pollo\\venv\\lib\\site-packages\\sklearn\\neural_network\\_multilayer_perceptron.py:571: ConvergenceWarning: Stochastic Optimizer: Maximum iterations (200) reached and the optimization hasn't converged yet.\n",
      "  % self.max_iter, ConvergenceWarning)\n"
     ]
    },
    {
     "name": "stdout",
     "output_type": "stream",
     "text": [
      "[CV] . alpha=0.05, hidden_layer_sizes=(20,), solver=sgd, total=   0.8s\n",
      "[CV] alpha=0.05, hidden_layer_sizes=(20,), solver=sgd ................\n"
     ]
    },
    {
     "name": "stderr",
     "output_type": "stream",
     "text": [
      "c:\\users\\piero\\desktop\\corso_ml_python_youtube_pollo\\venv\\lib\\site-packages\\sklearn\\neural_network\\_multilayer_perceptron.py:571: ConvergenceWarning: Stochastic Optimizer: Maximum iterations (200) reached and the optimization hasn't converged yet.\n",
      "  % self.max_iter, ConvergenceWarning)\n"
     ]
    },
    {
     "name": "stdout",
     "output_type": "stream",
     "text": [
      "[CV] . alpha=0.05, hidden_layer_sizes=(20,), solver=sgd, total=   0.8s\n",
      "[CV] alpha=0.05, hidden_layer_sizes=(20,), solver=sgd ................\n"
     ]
    },
    {
     "name": "stderr",
     "output_type": "stream",
     "text": [
      "c:\\users\\piero\\desktop\\corso_ml_python_youtube_pollo\\venv\\lib\\site-packages\\sklearn\\neural_network\\_multilayer_perceptron.py:571: ConvergenceWarning: Stochastic Optimizer: Maximum iterations (200) reached and the optimization hasn't converged yet.\n",
      "  % self.max_iter, ConvergenceWarning)\n"
     ]
    },
    {
     "name": "stdout",
     "output_type": "stream",
     "text": [
      "[CV] . alpha=0.05, hidden_layer_sizes=(20,), solver=sgd, total=   0.8s\n",
      "[CV] alpha=0.05, hidden_layer_sizes=(20,), solver=adam ...............\n"
     ]
    },
    {
     "name": "stderr",
     "output_type": "stream",
     "text": [
      "c:\\users\\piero\\desktop\\corso_ml_python_youtube_pollo\\venv\\lib\\site-packages\\sklearn\\neural_network\\_multilayer_perceptron.py:571: ConvergenceWarning: Stochastic Optimizer: Maximum iterations (200) reached and the optimization hasn't converged yet.\n",
      "  % self.max_iter, ConvergenceWarning)\n"
     ]
    },
    {
     "name": "stdout",
     "output_type": "stream",
     "text": [
      "[CV]  alpha=0.05, hidden_layer_sizes=(20,), solver=adam, total=   0.9s\n",
      "[CV] alpha=0.05, hidden_layer_sizes=(20,), solver=adam ...............\n"
     ]
    },
    {
     "name": "stderr",
     "output_type": "stream",
     "text": [
      "c:\\users\\piero\\desktop\\corso_ml_python_youtube_pollo\\venv\\lib\\site-packages\\sklearn\\neural_network\\_multilayer_perceptron.py:571: ConvergenceWarning: Stochastic Optimizer: Maximum iterations (200) reached and the optimization hasn't converged yet.\n",
      "  % self.max_iter, ConvergenceWarning)\n"
     ]
    },
    {
     "name": "stdout",
     "output_type": "stream",
     "text": [
      "[CV]  alpha=0.05, hidden_layer_sizes=(20,), solver=adam, total=   0.9s\n",
      "[CV] alpha=0.05, hidden_layer_sizes=(20,), solver=adam ...............\n"
     ]
    },
    {
     "name": "stderr",
     "output_type": "stream",
     "text": [
      "c:\\users\\piero\\desktop\\corso_ml_python_youtube_pollo\\venv\\lib\\site-packages\\sklearn\\neural_network\\_multilayer_perceptron.py:571: ConvergenceWarning: Stochastic Optimizer: Maximum iterations (200) reached and the optimization hasn't converged yet.\n",
      "  % self.max_iter, ConvergenceWarning)\n"
     ]
    },
    {
     "name": "stdout",
     "output_type": "stream",
     "text": [
      "[CV]  alpha=0.05, hidden_layer_sizes=(20,), solver=adam, total=   0.8s\n",
      "[CV] alpha=0.05, hidden_layer_sizes=(20,), solver=adam ...............\n"
     ]
    },
    {
     "name": "stderr",
     "output_type": "stream",
     "text": [
      "c:\\users\\piero\\desktop\\corso_ml_python_youtube_pollo\\venv\\lib\\site-packages\\sklearn\\neural_network\\_multilayer_perceptron.py:571: ConvergenceWarning: Stochastic Optimizer: Maximum iterations (200) reached and the optimization hasn't converged yet.\n",
      "  % self.max_iter, ConvergenceWarning)\n"
     ]
    },
    {
     "name": "stdout",
     "output_type": "stream",
     "text": [
      "[CV]  alpha=0.05, hidden_layer_sizes=(20,), solver=adam, total=   0.8s\n",
      "[CV] alpha=0.05, hidden_layer_sizes=(20,), solver=adam ...............\n"
     ]
    },
    {
     "name": "stderr",
     "output_type": "stream",
     "text": [
      "c:\\users\\piero\\desktop\\corso_ml_python_youtube_pollo\\venv\\lib\\site-packages\\sklearn\\neural_network\\_multilayer_perceptron.py:571: ConvergenceWarning: Stochastic Optimizer: Maximum iterations (200) reached and the optimization hasn't converged yet.\n",
      "  % self.max_iter, ConvergenceWarning)\n"
     ]
    },
    {
     "name": "stdout",
     "output_type": "stream",
     "text": [
      "[CV]  alpha=0.05, hidden_layer_sizes=(20,), solver=adam, total=   0.9s\n",
      "[CV] alpha=0.05, hidden_layer_sizes=(10, 10), solver=sgd .............\n"
     ]
    },
    {
     "name": "stderr",
     "output_type": "stream",
     "text": [
      "c:\\users\\piero\\desktop\\corso_ml_python_youtube_pollo\\venv\\lib\\site-packages\\sklearn\\neural_network\\_multilayer_perceptron.py:571: ConvergenceWarning: Stochastic Optimizer: Maximum iterations (200) reached and the optimization hasn't converged yet.\n",
      "  % self.max_iter, ConvergenceWarning)\n"
     ]
    },
    {
     "name": "stdout",
     "output_type": "stream",
     "text": [
      "[CV]  alpha=0.05, hidden_layer_sizes=(10, 10), solver=sgd, total=   0.9s\n",
      "[CV] alpha=0.05, hidden_layer_sizes=(10, 10), solver=sgd .............\n"
     ]
    },
    {
     "name": "stderr",
     "output_type": "stream",
     "text": [
      "c:\\users\\piero\\desktop\\corso_ml_python_youtube_pollo\\venv\\lib\\site-packages\\sklearn\\neural_network\\_multilayer_perceptron.py:571: ConvergenceWarning: Stochastic Optimizer: Maximum iterations (200) reached and the optimization hasn't converged yet.\n",
      "  % self.max_iter, ConvergenceWarning)\n"
     ]
    },
    {
     "name": "stdout",
     "output_type": "stream",
     "text": [
      "[CV]  alpha=0.05, hidden_layer_sizes=(10, 10), solver=sgd, total=   0.8s\n",
      "[CV] alpha=0.05, hidden_layer_sizes=(10, 10), solver=sgd .............\n"
     ]
    },
    {
     "name": "stderr",
     "output_type": "stream",
     "text": [
      "c:\\users\\piero\\desktop\\corso_ml_python_youtube_pollo\\venv\\lib\\site-packages\\sklearn\\neural_network\\_multilayer_perceptron.py:571: ConvergenceWarning: Stochastic Optimizer: Maximum iterations (200) reached and the optimization hasn't converged yet.\n",
      "  % self.max_iter, ConvergenceWarning)\n"
     ]
    },
    {
     "name": "stdout",
     "output_type": "stream",
     "text": [
      "[CV]  alpha=0.05, hidden_layer_sizes=(10, 10), solver=sgd, total=   0.8s\n",
      "[CV] alpha=0.05, hidden_layer_sizes=(10, 10), solver=sgd .............\n"
     ]
    },
    {
     "name": "stderr",
     "output_type": "stream",
     "text": [
      "c:\\users\\piero\\desktop\\corso_ml_python_youtube_pollo\\venv\\lib\\site-packages\\sklearn\\neural_network\\_multilayer_perceptron.py:571: ConvergenceWarning: Stochastic Optimizer: Maximum iterations (200) reached and the optimization hasn't converged yet.\n",
      "  % self.max_iter, ConvergenceWarning)\n"
     ]
    },
    {
     "name": "stdout",
     "output_type": "stream",
     "text": [
      "[CV]  alpha=0.05, hidden_layer_sizes=(10, 10), solver=sgd, total=   0.8s\n",
      "[CV] alpha=0.05, hidden_layer_sizes=(10, 10), solver=sgd .............\n"
     ]
    },
    {
     "name": "stderr",
     "output_type": "stream",
     "text": [
      "c:\\users\\piero\\desktop\\corso_ml_python_youtube_pollo\\venv\\lib\\site-packages\\sklearn\\neural_network\\_multilayer_perceptron.py:571: ConvergenceWarning: Stochastic Optimizer: Maximum iterations (200) reached and the optimization hasn't converged yet.\n",
      "  % self.max_iter, ConvergenceWarning)\n"
     ]
    },
    {
     "name": "stdout",
     "output_type": "stream",
     "text": [
      "[CV]  alpha=0.05, hidden_layer_sizes=(10, 10), solver=sgd, total=   0.8s\n",
      "[CV] alpha=0.05, hidden_layer_sizes=(10, 10), solver=adam ............\n"
     ]
    },
    {
     "name": "stderr",
     "output_type": "stream",
     "text": [
      "c:\\users\\piero\\desktop\\corso_ml_python_youtube_pollo\\venv\\lib\\site-packages\\sklearn\\neural_network\\_multilayer_perceptron.py:571: ConvergenceWarning: Stochastic Optimizer: Maximum iterations (200) reached and the optimization hasn't converged yet.\n",
      "  % self.max_iter, ConvergenceWarning)\n"
     ]
    },
    {
     "name": "stdout",
     "output_type": "stream",
     "text": [
      "[CV]  alpha=0.05, hidden_layer_sizes=(10, 10), solver=adam, total=   0.9s\n",
      "[CV] alpha=0.05, hidden_layer_sizes=(10, 10), solver=adam ............\n"
     ]
    },
    {
     "name": "stderr",
     "output_type": "stream",
     "text": [
      "c:\\users\\piero\\desktop\\corso_ml_python_youtube_pollo\\venv\\lib\\site-packages\\sklearn\\neural_network\\_multilayer_perceptron.py:571: ConvergenceWarning: Stochastic Optimizer: Maximum iterations (200) reached and the optimization hasn't converged yet.\n",
      "  % self.max_iter, ConvergenceWarning)\n"
     ]
    },
    {
     "name": "stdout",
     "output_type": "stream",
     "text": [
      "[CV]  alpha=0.05, hidden_layer_sizes=(10, 10), solver=adam, total=   0.9s\n",
      "[CV] alpha=0.05, hidden_layer_sizes=(10, 10), solver=adam ............\n"
     ]
    },
    {
     "name": "stderr",
     "output_type": "stream",
     "text": [
      "c:\\users\\piero\\desktop\\corso_ml_python_youtube_pollo\\venv\\lib\\site-packages\\sklearn\\neural_network\\_multilayer_perceptron.py:571: ConvergenceWarning: Stochastic Optimizer: Maximum iterations (200) reached and the optimization hasn't converged yet.\n",
      "  % self.max_iter, ConvergenceWarning)\n"
     ]
    },
    {
     "name": "stdout",
     "output_type": "stream",
     "text": [
      "[CV]  alpha=0.05, hidden_layer_sizes=(10, 10), solver=adam, total=   0.9s\n",
      "[CV] alpha=0.05, hidden_layer_sizes=(10, 10), solver=adam ............\n"
     ]
    },
    {
     "name": "stderr",
     "output_type": "stream",
     "text": [
      "c:\\users\\piero\\desktop\\corso_ml_python_youtube_pollo\\venv\\lib\\site-packages\\sklearn\\neural_network\\_multilayer_perceptron.py:571: ConvergenceWarning: Stochastic Optimizer: Maximum iterations (200) reached and the optimization hasn't converged yet.\n",
      "  % self.max_iter, ConvergenceWarning)\n"
     ]
    },
    {
     "name": "stdout",
     "output_type": "stream",
     "text": [
      "[CV]  alpha=0.05, hidden_layer_sizes=(10, 10), solver=adam, total=   0.9s\n",
      "[CV] alpha=0.05, hidden_layer_sizes=(10, 10), solver=adam ............\n"
     ]
    },
    {
     "name": "stderr",
     "output_type": "stream",
     "text": [
      "c:\\users\\piero\\desktop\\corso_ml_python_youtube_pollo\\venv\\lib\\site-packages\\sklearn\\neural_network\\_multilayer_perceptron.py:571: ConvergenceWarning: Stochastic Optimizer: Maximum iterations (200) reached and the optimization hasn't converged yet.\n",
      "  % self.max_iter, ConvergenceWarning)\n"
     ]
    },
    {
     "name": "stdout",
     "output_type": "stream",
     "text": [
      "[CV]  alpha=0.05, hidden_layer_sizes=(10, 10), solver=adam, total=   0.9s\n",
      "[CV] alpha=0.05, hidden_layer_sizes=(10, 5, 5), solver=sgd ...........\n"
     ]
    },
    {
     "name": "stderr",
     "output_type": "stream",
     "text": [
      "c:\\users\\piero\\desktop\\corso_ml_python_youtube_pollo\\venv\\lib\\site-packages\\sklearn\\neural_network\\_multilayer_perceptron.py:571: ConvergenceWarning: Stochastic Optimizer: Maximum iterations (200) reached and the optimization hasn't converged yet.\n",
      "  % self.max_iter, ConvergenceWarning)\n"
     ]
    },
    {
     "name": "stdout",
     "output_type": "stream",
     "text": [
      "[CV]  alpha=0.05, hidden_layer_sizes=(10, 5, 5), solver=sgd, total=   0.9s\n",
      "[CV] alpha=0.05, hidden_layer_sizes=(10, 5, 5), solver=sgd ...........\n"
     ]
    },
    {
     "name": "stderr",
     "output_type": "stream",
     "text": [
      "c:\\users\\piero\\desktop\\corso_ml_python_youtube_pollo\\venv\\lib\\site-packages\\sklearn\\neural_network\\_multilayer_perceptron.py:571: ConvergenceWarning: Stochastic Optimizer: Maximum iterations (200) reached and the optimization hasn't converged yet.\n",
      "  % self.max_iter, ConvergenceWarning)\n"
     ]
    },
    {
     "name": "stdout",
     "output_type": "stream",
     "text": [
      "[CV]  alpha=0.05, hidden_layer_sizes=(10, 5, 5), solver=sgd, total=   0.9s\n",
      "[CV] alpha=0.05, hidden_layer_sizes=(10, 5, 5), solver=sgd ...........\n"
     ]
    },
    {
     "name": "stderr",
     "output_type": "stream",
     "text": [
      "c:\\users\\piero\\desktop\\corso_ml_python_youtube_pollo\\venv\\lib\\site-packages\\sklearn\\neural_network\\_multilayer_perceptron.py:571: ConvergenceWarning: Stochastic Optimizer: Maximum iterations (200) reached and the optimization hasn't converged yet.\n",
      "  % self.max_iter, ConvergenceWarning)\n"
     ]
    },
    {
     "name": "stdout",
     "output_type": "stream",
     "text": [
      "[CV]  alpha=0.05, hidden_layer_sizes=(10, 5, 5), solver=sgd, total=   0.9s\n",
      "[CV] alpha=0.05, hidden_layer_sizes=(10, 5, 5), solver=sgd ...........\n"
     ]
    },
    {
     "name": "stderr",
     "output_type": "stream",
     "text": [
      "c:\\users\\piero\\desktop\\corso_ml_python_youtube_pollo\\venv\\lib\\site-packages\\sklearn\\neural_network\\_multilayer_perceptron.py:571: ConvergenceWarning: Stochastic Optimizer: Maximum iterations (200) reached and the optimization hasn't converged yet.\n",
      "  % self.max_iter, ConvergenceWarning)\n"
     ]
    },
    {
     "name": "stdout",
     "output_type": "stream",
     "text": [
      "[CV]  alpha=0.05, hidden_layer_sizes=(10, 5, 5), solver=sgd, total=   0.9s\n",
      "[CV] alpha=0.05, hidden_layer_sizes=(10, 5, 5), solver=sgd ...........\n"
     ]
    },
    {
     "name": "stderr",
     "output_type": "stream",
     "text": [
      "c:\\users\\piero\\desktop\\corso_ml_python_youtube_pollo\\venv\\lib\\site-packages\\sklearn\\neural_network\\_multilayer_perceptron.py:571: ConvergenceWarning: Stochastic Optimizer: Maximum iterations (200) reached and the optimization hasn't converged yet.\n",
      "  % self.max_iter, ConvergenceWarning)\n"
     ]
    },
    {
     "name": "stdout",
     "output_type": "stream",
     "text": [
      "[CV]  alpha=0.05, hidden_layer_sizes=(10, 5, 5), solver=sgd, total=   0.9s\n",
      "[CV] alpha=0.05, hidden_layer_sizes=(10, 5, 5), solver=adam ..........\n"
     ]
    },
    {
     "name": "stderr",
     "output_type": "stream",
     "text": [
      "c:\\users\\piero\\desktop\\corso_ml_python_youtube_pollo\\venv\\lib\\site-packages\\sklearn\\neural_network\\_multilayer_perceptron.py:571: ConvergenceWarning: Stochastic Optimizer: Maximum iterations (200) reached and the optimization hasn't converged yet.\n",
      "  % self.max_iter, ConvergenceWarning)\n"
     ]
    },
    {
     "name": "stdout",
     "output_type": "stream",
     "text": [
      "[CV]  alpha=0.05, hidden_layer_sizes=(10, 5, 5), solver=adam, total=   1.0s\n",
      "[CV] alpha=0.05, hidden_layer_sizes=(10, 5, 5), solver=adam ..........\n"
     ]
    },
    {
     "name": "stderr",
     "output_type": "stream",
     "text": [
      "c:\\users\\piero\\desktop\\corso_ml_python_youtube_pollo\\venv\\lib\\site-packages\\sklearn\\neural_network\\_multilayer_perceptron.py:571: ConvergenceWarning: Stochastic Optimizer: Maximum iterations (200) reached and the optimization hasn't converged yet.\n",
      "  % self.max_iter, ConvergenceWarning)\n"
     ]
    },
    {
     "name": "stdout",
     "output_type": "stream",
     "text": [
      "[CV]  alpha=0.05, hidden_layer_sizes=(10, 5, 5), solver=adam, total=   1.0s\n",
      "[CV] alpha=0.05, hidden_layer_sizes=(10, 5, 5), solver=adam ..........\n"
     ]
    },
    {
     "name": "stderr",
     "output_type": "stream",
     "text": [
      "c:\\users\\piero\\desktop\\corso_ml_python_youtube_pollo\\venv\\lib\\site-packages\\sklearn\\neural_network\\_multilayer_perceptron.py:571: ConvergenceWarning: Stochastic Optimizer: Maximum iterations (200) reached and the optimization hasn't converged yet.\n",
      "  % self.max_iter, ConvergenceWarning)\n"
     ]
    },
    {
     "name": "stdout",
     "output_type": "stream",
     "text": [
      "[CV]  alpha=0.05, hidden_layer_sizes=(10, 5, 5), solver=adam, total=   1.0s\n",
      "[CV] alpha=0.05, hidden_layer_sizes=(10, 5, 5), solver=adam ..........\n"
     ]
    },
    {
     "name": "stderr",
     "output_type": "stream",
     "text": [
      "c:\\users\\piero\\desktop\\corso_ml_python_youtube_pollo\\venv\\lib\\site-packages\\sklearn\\neural_network\\_multilayer_perceptron.py:571: ConvergenceWarning: Stochastic Optimizer: Maximum iterations (200) reached and the optimization hasn't converged yet.\n",
      "  % self.max_iter, ConvergenceWarning)\n"
     ]
    },
    {
     "name": "stdout",
     "output_type": "stream",
     "text": [
      "[CV]  alpha=0.05, hidden_layer_sizes=(10, 5, 5), solver=adam, total=   1.0s\n",
      "[CV] alpha=0.05, hidden_layer_sizes=(10, 5, 5), solver=adam ..........\n"
     ]
    },
    {
     "name": "stderr",
     "output_type": "stream",
     "text": [
      "c:\\users\\piero\\desktop\\corso_ml_python_youtube_pollo\\venv\\lib\\site-packages\\sklearn\\neural_network\\_multilayer_perceptron.py:571: ConvergenceWarning: Stochastic Optimizer: Maximum iterations (200) reached and the optimization hasn't converged yet.\n",
      "  % self.max_iter, ConvergenceWarning)\n"
     ]
    },
    {
     "name": "stdout",
     "output_type": "stream",
     "text": [
      "[CV]  alpha=0.05, hidden_layer_sizes=(10, 5, 5), solver=adam, total=   1.0s\n",
      "[CV] alpha=0.1, hidden_layer_sizes=(20,), solver=sgd .................\n"
     ]
    },
    {
     "name": "stderr",
     "output_type": "stream",
     "text": [
      "c:\\users\\piero\\desktop\\corso_ml_python_youtube_pollo\\venv\\lib\\site-packages\\sklearn\\neural_network\\_multilayer_perceptron.py:571: ConvergenceWarning: Stochastic Optimizer: Maximum iterations (200) reached and the optimization hasn't converged yet.\n",
      "  % self.max_iter, ConvergenceWarning)\n"
     ]
    },
    {
     "name": "stdout",
     "output_type": "stream",
     "text": [
      "[CV] .. alpha=0.1, hidden_layer_sizes=(20,), solver=sgd, total=   0.8s\n",
      "[CV] alpha=0.1, hidden_layer_sizes=(20,), solver=sgd .................\n"
     ]
    },
    {
     "name": "stderr",
     "output_type": "stream",
     "text": [
      "c:\\users\\piero\\desktop\\corso_ml_python_youtube_pollo\\venv\\lib\\site-packages\\sklearn\\neural_network\\_multilayer_perceptron.py:571: ConvergenceWarning: Stochastic Optimizer: Maximum iterations (200) reached and the optimization hasn't converged yet.\n",
      "  % self.max_iter, ConvergenceWarning)\n"
     ]
    },
    {
     "name": "stdout",
     "output_type": "stream",
     "text": [
      "[CV] .. alpha=0.1, hidden_layer_sizes=(20,), solver=sgd, total=   0.8s\n",
      "[CV] alpha=0.1, hidden_layer_sizes=(20,), solver=sgd .................\n"
     ]
    },
    {
     "name": "stderr",
     "output_type": "stream",
     "text": [
      "c:\\users\\piero\\desktop\\corso_ml_python_youtube_pollo\\venv\\lib\\site-packages\\sklearn\\neural_network\\_multilayer_perceptron.py:571: ConvergenceWarning: Stochastic Optimizer: Maximum iterations (200) reached and the optimization hasn't converged yet.\n",
      "  % self.max_iter, ConvergenceWarning)\n"
     ]
    },
    {
     "name": "stdout",
     "output_type": "stream",
     "text": [
      "[CV] .. alpha=0.1, hidden_layer_sizes=(20,), solver=sgd, total=   0.8s\n",
      "[CV] alpha=0.1, hidden_layer_sizes=(20,), solver=sgd .................\n"
     ]
    },
    {
     "name": "stderr",
     "output_type": "stream",
     "text": [
      "c:\\users\\piero\\desktop\\corso_ml_python_youtube_pollo\\venv\\lib\\site-packages\\sklearn\\neural_network\\_multilayer_perceptron.py:571: ConvergenceWarning: Stochastic Optimizer: Maximum iterations (200) reached and the optimization hasn't converged yet.\n",
      "  % self.max_iter, ConvergenceWarning)\n"
     ]
    },
    {
     "name": "stdout",
     "output_type": "stream",
     "text": [
      "[CV] .. alpha=0.1, hidden_layer_sizes=(20,), solver=sgd, total=   0.8s\n",
      "[CV] alpha=0.1, hidden_layer_sizes=(20,), solver=sgd .................\n"
     ]
    },
    {
     "name": "stderr",
     "output_type": "stream",
     "text": [
      "c:\\users\\piero\\desktop\\corso_ml_python_youtube_pollo\\venv\\lib\\site-packages\\sklearn\\neural_network\\_multilayer_perceptron.py:571: ConvergenceWarning: Stochastic Optimizer: Maximum iterations (200) reached and the optimization hasn't converged yet.\n",
      "  % self.max_iter, ConvergenceWarning)\n"
     ]
    },
    {
     "name": "stdout",
     "output_type": "stream",
     "text": [
      "[CV] .. alpha=0.1, hidden_layer_sizes=(20,), solver=sgd, total=   0.7s\n",
      "[CV] alpha=0.1, hidden_layer_sizes=(20,), solver=adam ................\n"
     ]
    },
    {
     "name": "stderr",
     "output_type": "stream",
     "text": [
      "c:\\users\\piero\\desktop\\corso_ml_python_youtube_pollo\\venv\\lib\\site-packages\\sklearn\\neural_network\\_multilayer_perceptron.py:571: ConvergenceWarning: Stochastic Optimizer: Maximum iterations (200) reached and the optimization hasn't converged yet.\n",
      "  % self.max_iter, ConvergenceWarning)\n"
     ]
    },
    {
     "name": "stdout",
     "output_type": "stream",
     "text": [
      "[CV] . alpha=0.1, hidden_layer_sizes=(20,), solver=adam, total=   0.8s\n",
      "[CV] alpha=0.1, hidden_layer_sizes=(20,), solver=adam ................\n"
     ]
    },
    {
     "name": "stderr",
     "output_type": "stream",
     "text": [
      "c:\\users\\piero\\desktop\\corso_ml_python_youtube_pollo\\venv\\lib\\site-packages\\sklearn\\neural_network\\_multilayer_perceptron.py:571: ConvergenceWarning: Stochastic Optimizer: Maximum iterations (200) reached and the optimization hasn't converged yet.\n",
      "  % self.max_iter, ConvergenceWarning)\n"
     ]
    },
    {
     "name": "stdout",
     "output_type": "stream",
     "text": [
      "[CV] . alpha=0.1, hidden_layer_sizes=(20,), solver=adam, total=   0.8s\n",
      "[CV] alpha=0.1, hidden_layer_sizes=(20,), solver=adam ................\n"
     ]
    },
    {
     "name": "stderr",
     "output_type": "stream",
     "text": [
      "c:\\users\\piero\\desktop\\corso_ml_python_youtube_pollo\\venv\\lib\\site-packages\\sklearn\\neural_network\\_multilayer_perceptron.py:571: ConvergenceWarning: Stochastic Optimizer: Maximum iterations (200) reached and the optimization hasn't converged yet.\n",
      "  % self.max_iter, ConvergenceWarning)\n"
     ]
    },
    {
     "name": "stdout",
     "output_type": "stream",
     "text": [
      "[CV] . alpha=0.1, hidden_layer_sizes=(20,), solver=adam, total=   0.8s\n",
      "[CV] alpha=0.1, hidden_layer_sizes=(20,), solver=adam ................\n"
     ]
    },
    {
     "name": "stderr",
     "output_type": "stream",
     "text": [
      "c:\\users\\piero\\desktop\\corso_ml_python_youtube_pollo\\venv\\lib\\site-packages\\sklearn\\neural_network\\_multilayer_perceptron.py:571: ConvergenceWarning: Stochastic Optimizer: Maximum iterations (200) reached and the optimization hasn't converged yet.\n",
      "  % self.max_iter, ConvergenceWarning)\n"
     ]
    },
    {
     "name": "stdout",
     "output_type": "stream",
     "text": [
      "[CV] . alpha=0.1, hidden_layer_sizes=(20,), solver=adam, total=   0.8s\n",
      "[CV] alpha=0.1, hidden_layer_sizes=(20,), solver=adam ................\n"
     ]
    },
    {
     "name": "stderr",
     "output_type": "stream",
     "text": [
      "c:\\users\\piero\\desktop\\corso_ml_python_youtube_pollo\\venv\\lib\\site-packages\\sklearn\\neural_network\\_multilayer_perceptron.py:571: ConvergenceWarning: Stochastic Optimizer: Maximum iterations (200) reached and the optimization hasn't converged yet.\n",
      "  % self.max_iter, ConvergenceWarning)\n"
     ]
    },
    {
     "name": "stdout",
     "output_type": "stream",
     "text": [
      "[CV] . alpha=0.1, hidden_layer_sizes=(20,), solver=adam, total=   0.8s\n",
      "[CV] alpha=0.1, hidden_layer_sizes=(10, 10), solver=sgd ..............\n"
     ]
    },
    {
     "name": "stderr",
     "output_type": "stream",
     "text": [
      "c:\\users\\piero\\desktop\\corso_ml_python_youtube_pollo\\venv\\lib\\site-packages\\sklearn\\neural_network\\_multilayer_perceptron.py:571: ConvergenceWarning: Stochastic Optimizer: Maximum iterations (200) reached and the optimization hasn't converged yet.\n",
      "  % self.max_iter, ConvergenceWarning)\n"
     ]
    },
    {
     "name": "stdout",
     "output_type": "stream",
     "text": [
      "[CV]  alpha=0.1, hidden_layer_sizes=(10, 10), solver=sgd, total=   0.8s\n",
      "[CV] alpha=0.1, hidden_layer_sizes=(10, 10), solver=sgd ..............\n"
     ]
    },
    {
     "name": "stderr",
     "output_type": "stream",
     "text": [
      "c:\\users\\piero\\desktop\\corso_ml_python_youtube_pollo\\venv\\lib\\site-packages\\sklearn\\neural_network\\_multilayer_perceptron.py:571: ConvergenceWarning: Stochastic Optimizer: Maximum iterations (200) reached and the optimization hasn't converged yet.\n",
      "  % self.max_iter, ConvergenceWarning)\n"
     ]
    },
    {
     "name": "stdout",
     "output_type": "stream",
     "text": [
      "[CV]  alpha=0.1, hidden_layer_sizes=(10, 10), solver=sgd, total=   0.8s\n",
      "[CV] alpha=0.1, hidden_layer_sizes=(10, 10), solver=sgd ..............\n"
     ]
    },
    {
     "name": "stderr",
     "output_type": "stream",
     "text": [
      "c:\\users\\piero\\desktop\\corso_ml_python_youtube_pollo\\venv\\lib\\site-packages\\sklearn\\neural_network\\_multilayer_perceptron.py:571: ConvergenceWarning: Stochastic Optimizer: Maximum iterations (200) reached and the optimization hasn't converged yet.\n",
      "  % self.max_iter, ConvergenceWarning)\n"
     ]
    },
    {
     "name": "stdout",
     "output_type": "stream",
     "text": [
      "[CV]  alpha=0.1, hidden_layer_sizes=(10, 10), solver=sgd, total=   0.8s\n",
      "[CV] alpha=0.1, hidden_layer_sizes=(10, 10), solver=sgd ..............\n"
     ]
    },
    {
     "name": "stderr",
     "output_type": "stream",
     "text": [
      "c:\\users\\piero\\desktop\\corso_ml_python_youtube_pollo\\venv\\lib\\site-packages\\sklearn\\neural_network\\_multilayer_perceptron.py:571: ConvergenceWarning: Stochastic Optimizer: Maximum iterations (200) reached and the optimization hasn't converged yet.\n",
      "  % self.max_iter, ConvergenceWarning)\n"
     ]
    },
    {
     "name": "stdout",
     "output_type": "stream",
     "text": [
      "[CV]  alpha=0.1, hidden_layer_sizes=(10, 10), solver=sgd, total=   0.8s\n",
      "[CV] alpha=0.1, hidden_layer_sizes=(10, 10), solver=sgd ..............\n"
     ]
    },
    {
     "name": "stderr",
     "output_type": "stream",
     "text": [
      "c:\\users\\piero\\desktop\\corso_ml_python_youtube_pollo\\venv\\lib\\site-packages\\sklearn\\neural_network\\_multilayer_perceptron.py:571: ConvergenceWarning: Stochastic Optimizer: Maximum iterations (200) reached and the optimization hasn't converged yet.\n",
      "  % self.max_iter, ConvergenceWarning)\n"
     ]
    },
    {
     "name": "stdout",
     "output_type": "stream",
     "text": [
      "[CV]  alpha=0.1, hidden_layer_sizes=(10, 10), solver=sgd, total=   0.8s\n",
      "[CV] alpha=0.1, hidden_layer_sizes=(10, 10), solver=adam .............\n"
     ]
    },
    {
     "name": "stderr",
     "output_type": "stream",
     "text": [
      "c:\\users\\piero\\desktop\\corso_ml_python_youtube_pollo\\venv\\lib\\site-packages\\sklearn\\neural_network\\_multilayer_perceptron.py:571: ConvergenceWarning: Stochastic Optimizer: Maximum iterations (200) reached and the optimization hasn't converged yet.\n",
      "  % self.max_iter, ConvergenceWarning)\n"
     ]
    },
    {
     "name": "stdout",
     "output_type": "stream",
     "text": [
      "[CV]  alpha=0.1, hidden_layer_sizes=(10, 10), solver=adam, total=   0.9s\n",
      "[CV] alpha=0.1, hidden_layer_sizes=(10, 10), solver=adam .............\n"
     ]
    },
    {
     "name": "stderr",
     "output_type": "stream",
     "text": [
      "c:\\users\\piero\\desktop\\corso_ml_python_youtube_pollo\\venv\\lib\\site-packages\\sklearn\\neural_network\\_multilayer_perceptron.py:571: ConvergenceWarning: Stochastic Optimizer: Maximum iterations (200) reached and the optimization hasn't converged yet.\n",
      "  % self.max_iter, ConvergenceWarning)\n"
     ]
    },
    {
     "name": "stdout",
     "output_type": "stream",
     "text": [
      "[CV]  alpha=0.1, hidden_layer_sizes=(10, 10), solver=adam, total=   0.9s\n",
      "[CV] alpha=0.1, hidden_layer_sizes=(10, 10), solver=adam .............\n"
     ]
    },
    {
     "name": "stderr",
     "output_type": "stream",
     "text": [
      "c:\\users\\piero\\desktop\\corso_ml_python_youtube_pollo\\venv\\lib\\site-packages\\sklearn\\neural_network\\_multilayer_perceptron.py:571: ConvergenceWarning: Stochastic Optimizer: Maximum iterations (200) reached and the optimization hasn't converged yet.\n",
      "  % self.max_iter, ConvergenceWarning)\n"
     ]
    },
    {
     "name": "stdout",
     "output_type": "stream",
     "text": [
      "[CV]  alpha=0.1, hidden_layer_sizes=(10, 10), solver=adam, total=   0.9s\n",
      "[CV] alpha=0.1, hidden_layer_sizes=(10, 10), solver=adam .............\n"
     ]
    },
    {
     "name": "stderr",
     "output_type": "stream",
     "text": [
      "c:\\users\\piero\\desktop\\corso_ml_python_youtube_pollo\\venv\\lib\\site-packages\\sklearn\\neural_network\\_multilayer_perceptron.py:571: ConvergenceWarning: Stochastic Optimizer: Maximum iterations (200) reached and the optimization hasn't converged yet.\n",
      "  % self.max_iter, ConvergenceWarning)\n"
     ]
    },
    {
     "name": "stdout",
     "output_type": "stream",
     "text": [
      "[CV]  alpha=0.1, hidden_layer_sizes=(10, 10), solver=adam, total=   0.9s\n",
      "[CV] alpha=0.1, hidden_layer_sizes=(10, 10), solver=adam .............\n"
     ]
    },
    {
     "name": "stderr",
     "output_type": "stream",
     "text": [
      "c:\\users\\piero\\desktop\\corso_ml_python_youtube_pollo\\venv\\lib\\site-packages\\sklearn\\neural_network\\_multilayer_perceptron.py:571: ConvergenceWarning: Stochastic Optimizer: Maximum iterations (200) reached and the optimization hasn't converged yet.\n",
      "  % self.max_iter, ConvergenceWarning)\n"
     ]
    },
    {
     "name": "stdout",
     "output_type": "stream",
     "text": [
      "[CV]  alpha=0.1, hidden_layer_sizes=(10, 10), solver=adam, total=   0.9s\n",
      "[CV] alpha=0.1, hidden_layer_sizes=(10, 5, 5), solver=sgd ............\n"
     ]
    },
    {
     "name": "stderr",
     "output_type": "stream",
     "text": [
      "c:\\users\\piero\\desktop\\corso_ml_python_youtube_pollo\\venv\\lib\\site-packages\\sklearn\\neural_network\\_multilayer_perceptron.py:571: ConvergenceWarning: Stochastic Optimizer: Maximum iterations (200) reached and the optimization hasn't converged yet.\n",
      "  % self.max_iter, ConvergenceWarning)\n"
     ]
    },
    {
     "name": "stdout",
     "output_type": "stream",
     "text": [
      "[CV]  alpha=0.1, hidden_layer_sizes=(10, 5, 5), solver=sgd, total=   0.9s\n",
      "[CV] alpha=0.1, hidden_layer_sizes=(10, 5, 5), solver=sgd ............\n"
     ]
    },
    {
     "name": "stderr",
     "output_type": "stream",
     "text": [
      "c:\\users\\piero\\desktop\\corso_ml_python_youtube_pollo\\venv\\lib\\site-packages\\sklearn\\neural_network\\_multilayer_perceptron.py:571: ConvergenceWarning: Stochastic Optimizer: Maximum iterations (200) reached and the optimization hasn't converged yet.\n",
      "  % self.max_iter, ConvergenceWarning)\n"
     ]
    },
    {
     "name": "stdout",
     "output_type": "stream",
     "text": [
      "[CV]  alpha=0.1, hidden_layer_sizes=(10, 5, 5), solver=sgd, total=   0.9s\n",
      "[CV] alpha=0.1, hidden_layer_sizes=(10, 5, 5), solver=sgd ............\n"
     ]
    },
    {
     "name": "stderr",
     "output_type": "stream",
     "text": [
      "c:\\users\\piero\\desktop\\corso_ml_python_youtube_pollo\\venv\\lib\\site-packages\\sklearn\\neural_network\\_multilayer_perceptron.py:571: ConvergenceWarning: Stochastic Optimizer: Maximum iterations (200) reached and the optimization hasn't converged yet.\n",
      "  % self.max_iter, ConvergenceWarning)\n"
     ]
    },
    {
     "name": "stdout",
     "output_type": "stream",
     "text": [
      "[CV]  alpha=0.1, hidden_layer_sizes=(10, 5, 5), solver=sgd, total=   0.9s\n",
      "[CV] alpha=0.1, hidden_layer_sizes=(10, 5, 5), solver=sgd ............\n"
     ]
    },
    {
     "name": "stderr",
     "output_type": "stream",
     "text": [
      "c:\\users\\piero\\desktop\\corso_ml_python_youtube_pollo\\venv\\lib\\site-packages\\sklearn\\neural_network\\_multilayer_perceptron.py:571: ConvergenceWarning: Stochastic Optimizer: Maximum iterations (200) reached and the optimization hasn't converged yet.\n",
      "  % self.max_iter, ConvergenceWarning)\n"
     ]
    },
    {
     "name": "stdout",
     "output_type": "stream",
     "text": [
      "[CV]  alpha=0.1, hidden_layer_sizes=(10, 5, 5), solver=sgd, total=   1.0s\n",
      "[CV] alpha=0.1, hidden_layer_sizes=(10, 5, 5), solver=sgd ............\n"
     ]
    },
    {
     "name": "stderr",
     "output_type": "stream",
     "text": [
      "c:\\users\\piero\\desktop\\corso_ml_python_youtube_pollo\\venv\\lib\\site-packages\\sklearn\\neural_network\\_multilayer_perceptron.py:571: ConvergenceWarning: Stochastic Optimizer: Maximum iterations (200) reached and the optimization hasn't converged yet.\n",
      "  % self.max_iter, ConvergenceWarning)\n"
     ]
    },
    {
     "name": "stdout",
     "output_type": "stream",
     "text": [
      "[CV]  alpha=0.1, hidden_layer_sizes=(10, 5, 5), solver=sgd, total=   0.9s\n",
      "[CV] alpha=0.1, hidden_layer_sizes=(10, 5, 5), solver=adam ...........\n"
     ]
    },
    {
     "name": "stderr",
     "output_type": "stream",
     "text": [
      "c:\\users\\piero\\desktop\\corso_ml_python_youtube_pollo\\venv\\lib\\site-packages\\sklearn\\neural_network\\_multilayer_perceptron.py:571: ConvergenceWarning: Stochastic Optimizer: Maximum iterations (200) reached and the optimization hasn't converged yet.\n",
      "  % self.max_iter, ConvergenceWarning)\n"
     ]
    },
    {
     "name": "stdout",
     "output_type": "stream",
     "text": [
      "[CV]  alpha=0.1, hidden_layer_sizes=(10, 5, 5), solver=adam, total=   1.0s\n",
      "[CV] alpha=0.1, hidden_layer_sizes=(10, 5, 5), solver=adam ...........\n"
     ]
    },
    {
     "name": "stderr",
     "output_type": "stream",
     "text": [
      "c:\\users\\piero\\desktop\\corso_ml_python_youtube_pollo\\venv\\lib\\site-packages\\sklearn\\neural_network\\_multilayer_perceptron.py:571: ConvergenceWarning: Stochastic Optimizer: Maximum iterations (200) reached and the optimization hasn't converged yet.\n",
      "  % self.max_iter, ConvergenceWarning)\n"
     ]
    },
    {
     "name": "stdout",
     "output_type": "stream",
     "text": [
      "[CV]  alpha=0.1, hidden_layer_sizes=(10, 5, 5), solver=adam, total=   1.0s\n",
      "[CV] alpha=0.1, hidden_layer_sizes=(10, 5, 5), solver=adam ...........\n"
     ]
    },
    {
     "name": "stderr",
     "output_type": "stream",
     "text": [
      "c:\\users\\piero\\desktop\\corso_ml_python_youtube_pollo\\venv\\lib\\site-packages\\sklearn\\neural_network\\_multilayer_perceptron.py:571: ConvergenceWarning: Stochastic Optimizer: Maximum iterations (200) reached and the optimization hasn't converged yet.\n",
      "  % self.max_iter, ConvergenceWarning)\n"
     ]
    },
    {
     "name": "stdout",
     "output_type": "stream",
     "text": [
      "[CV]  alpha=0.1, hidden_layer_sizes=(10, 5, 5), solver=adam, total=   1.0s\n",
      "[CV] alpha=0.1, hidden_layer_sizes=(10, 5, 5), solver=adam ...........\n"
     ]
    },
    {
     "name": "stderr",
     "output_type": "stream",
     "text": [
      "c:\\users\\piero\\desktop\\corso_ml_python_youtube_pollo\\venv\\lib\\site-packages\\sklearn\\neural_network\\_multilayer_perceptron.py:571: ConvergenceWarning: Stochastic Optimizer: Maximum iterations (200) reached and the optimization hasn't converged yet.\n",
      "  % self.max_iter, ConvergenceWarning)\n"
     ]
    },
    {
     "name": "stdout",
     "output_type": "stream",
     "text": [
      "[CV]  alpha=0.1, hidden_layer_sizes=(10, 5, 5), solver=adam, total=   1.0s\n",
      "[CV] alpha=0.1, hidden_layer_sizes=(10, 5, 5), solver=adam ...........\n"
     ]
    },
    {
     "name": "stderr",
     "output_type": "stream",
     "text": [
      "c:\\users\\piero\\desktop\\corso_ml_python_youtube_pollo\\venv\\lib\\site-packages\\sklearn\\neural_network\\_multilayer_perceptron.py:571: ConvergenceWarning: Stochastic Optimizer: Maximum iterations (200) reached and the optimization hasn't converged yet.\n",
      "  % self.max_iter, ConvergenceWarning)\n",
      "[Parallel(n_jobs=1)]: Done  60 out of  60 | elapsed:   52.1s finished\n"
     ]
    },
    {
     "name": "stdout",
     "output_type": "stream",
     "text": [
      "[CV]  alpha=0.1, hidden_layer_sizes=(10, 5, 5), solver=adam, total=   1.0s\n"
     ]
    },
    {
     "name": "stderr",
     "output_type": "stream",
     "text": [
      "c:\\users\\piero\\desktop\\corso_ml_python_youtube_pollo\\venv\\lib\\site-packages\\sklearn\\neural_network\\_multilayer_perceptron.py:571: ConvergenceWarning: Stochastic Optimizer: Maximum iterations (200) reached and the optimization hasn't converged yet.\n",
      "  % self.max_iter, ConvergenceWarning)\n"
     ]
    },
    {
     "data": {
      "text/plain": [
       "GridSearchCV(cv=None, error_score=nan,\n",
       "             estimator=MLPClassifier(activation='relu', alpha=0.0001,\n",
       "                                     batch_size='auto', beta_1=0.9,\n",
       "                                     beta_2=0.999, early_stopping=False,\n",
       "                                     epsilon=1e-08, hidden_layer_sizes=(100,),\n",
       "                                     learning_rate='constant',\n",
       "                                     learning_rate_init=0.001, max_fun=15000,\n",
       "                                     max_iter=200, momentum=0.9,\n",
       "                                     n_iter_no_change=10,\n",
       "                                     nesterovs_momentum=True, power_t=0.5,\n",
       "                                     random_state=None, shuffle=True,\n",
       "                                     solver='adam', tol=0.0001,\n",
       "                                     validation_fraction=0.1, verbose=False,\n",
       "                                     warm_start=False),\n",
       "             iid='deprecated', n_jobs=None,\n",
       "             param_grid={'alpha': [0.05, 0.1],\n",
       "                         'hidden_layer_sizes': [(20,), (10, 10), (10, 5, 5)],\n",
       "                         'solver': ['sgd', 'adam']},\n",
       "             pre_dispatch='2*n_jobs', refit=True, return_train_score=False,\n",
       "             scoring=None, verbose=2)"
      ]
     },
     "execution_count": 6,
     "metadata": {},
     "output_type": "execute_result"
    }
   ],
   "source": [
    "grid.fit(X_train, y_train)"
   ]
  },
  {
   "cell_type": "code",
   "execution_count": 7,
   "metadata": {},
   "outputs": [
    {
     "data": {
      "text/plain": [
       "{'alpha': 0.05, 'hidden_layer_sizes': (20,), 'solver': 'adam'}"
      ]
     },
     "execution_count": 7,
     "metadata": {},
     "output_type": "execute_result"
    }
   ],
   "source": [
    "grid.best_params_"
   ]
  },
  {
   "cell_type": "code",
   "execution_count": 8,
   "metadata": {},
   "outputs": [
    {
     "data": {
      "text/plain": [
       "0.9569323970810959"
      ]
     },
     "execution_count": 8,
     "metadata": {},
     "output_type": "execute_result"
    }
   ],
   "source": [
    "grid.best_score_"
   ]
  },
  {
   "cell_type": "code",
   "execution_count": 9,
   "metadata": {},
   "outputs": [
    {
     "data": {
      "text/plain": [
       "MLPClassifier(activation='relu', alpha=0.05, batch_size='auto', beta_1=0.9,\n",
       "              beta_2=0.999, early_stopping=False, epsilon=1e-08,\n",
       "              hidden_layer_sizes=(20,), learning_rate='constant',\n",
       "              learning_rate_init=0.001, max_fun=15000, max_iter=200,\n",
       "              momentum=0.9, n_iter_no_change=10, nesterovs_momentum=True,\n",
       "              power_t=0.5, random_state=None, shuffle=True, solver='adam',\n",
       "              tol=0.0001, validation_fraction=0.1, verbose=False,\n",
       "              warm_start=False)"
      ]
     },
     "execution_count": 9,
     "metadata": {},
     "output_type": "execute_result"
    }
   ],
   "source": [
    "grid.best_estimator_"
   ]
  },
  {
   "cell_type": "code",
   "execution_count": null,
   "metadata": {},
   "outputs": [],
   "source": []
  },
  {
   "cell_type": "code",
   "execution_count": 10,
   "metadata": {},
   "outputs": [
    {
     "data": {
      "text/plain": [
       "{'mean_fit_time': array([0.77735224, 0.83683362, 0.82858114, 0.86049404, 0.9004118 ,\n",
       "        0.98764267, 0.7694612 , 0.82422404, 0.82049084, 0.89468989,\n",
       "        0.92858186, 0.99410071]),\n",
       " 'std_fit_time': array([0.01460509, 0.02373624, 0.01496069, 0.00822854, 0.00995072,\n",
       "        0.01476338, 0.01539586, 0.01925415, 0.01314128, 0.01663591,\n",
       "        0.01886632, 0.01417527]),\n",
       " 'mean_score_time': array([0.00099082, 0.00098634, 0.00118127, 0.00090008, 0.0009901 ,\n",
       "        0.00098948, 0.00119863, 0.00128894, 0.00097718, 0.00079341,\n",
       "        0.00078745, 0.00097542]),\n",
       " 'std_score_time': array([6.43045209e-04, 2.78788708e-05, 3.97893126e-04, 4.91808453e-04,\n",
       "        1.10882840e-05, 3.09067734e-05, 3.78787043e-04, 3.82709586e-04,\n",
       "        1.52502930e-05, 3.96805805e-04, 3.93867649e-04, 3.55246563e-05]),\n",
       " 'param_alpha': masked_array(data=[0.05, 0.05, 0.05, 0.05, 0.05, 0.05, 0.1, 0.1, 0.1, 0.1,\n",
       "                    0.1, 0.1],\n",
       "              mask=[False, False, False, False, False, False, False, False,\n",
       "                    False, False, False, False],\n",
       "        fill_value='?',\n",
       "             dtype=object),\n",
       " 'param_hidden_layer_sizes': masked_array(data=[(20,), (20,), (10, 10), (10, 10), (10, 5, 5),\n",
       "                    (10, 5, 5), (20,), (20,), (10, 10), (10, 10),\n",
       "                    (10, 5, 5), (10, 5, 5)],\n",
       "              mask=[False, False, False, False, False, False, False, False,\n",
       "                    False, False, False, False],\n",
       "        fill_value='?',\n",
       "             dtype=object),\n",
       " 'param_solver': masked_array(data=['sgd', 'adam', 'sgd', 'adam', 'sgd', 'adam', 'sgd',\n",
       "                    'adam', 'sgd', 'adam', 'sgd', 'adam'],\n",
       "              mask=[False, False, False, False, False, False, False, False,\n",
       "                    False, False, False, False],\n",
       "        fill_value='?',\n",
       "             dtype=object),\n",
       " 'params': [{'alpha': 0.05, 'hidden_layer_sizes': (20,), 'solver': 'sgd'},\n",
       "  {'alpha': 0.05, 'hidden_layer_sizes': (20,), 'solver': 'adam'},\n",
       "  {'alpha': 0.05, 'hidden_layer_sizes': (10, 10), 'solver': 'sgd'},\n",
       "  {'alpha': 0.05, 'hidden_layer_sizes': (10, 10), 'solver': 'adam'},\n",
       "  {'alpha': 0.05, 'hidden_layer_sizes': (10, 5, 5), 'solver': 'sgd'},\n",
       "  {'alpha': 0.05, 'hidden_layer_sizes': (10, 5, 5), 'solver': 'adam'},\n",
       "  {'alpha': 0.1, 'hidden_layer_sizes': (20,), 'solver': 'sgd'},\n",
       "  {'alpha': 0.1, 'hidden_layer_sizes': (20,), 'solver': 'adam'},\n",
       "  {'alpha': 0.1, 'hidden_layer_sizes': (10, 10), 'solver': 'sgd'},\n",
       "  {'alpha': 0.1, 'hidden_layer_sizes': (10, 10), 'solver': 'adam'},\n",
       "  {'alpha': 0.1, 'hidden_layer_sizes': (10, 5, 5), 'solver': 'sgd'},\n",
       "  {'alpha': 0.1, 'hidden_layer_sizes': (10, 5, 5), 'solver': 'adam'}],\n",
       " 'split0_test_score': array([0.95555556, 0.95555556, 0.7037037 , 0.93333333, 0.67407407,\n",
       "        0.87407407, 0.95555556, 0.94814815, 0.8       , 0.92592593,\n",
       "        0.21111111, 0.78148148]),\n",
       " 'split1_test_score': array([0.94444444, 0.97037037, 0.88518519, 0.90740741, 0.68148148,\n",
       "        0.85185185, 0.94814815, 0.94814815, 0.79259259, 0.92592593,\n",
       "        0.47037037, 0.75185185]),\n",
       " 'split2_test_score': array([0.93680297, 0.95910781, 0.89591078, 0.93680297, 0.68401487,\n",
       "        0.80669145, 0.94052045, 0.94795539, 0.88104089, 0.92565056,\n",
       "        0.69144981, 0.73605948]),\n",
       " 'split3_test_score': array([0.96282528, 0.95167286, 0.74349442, 0.93680297, 0.52416357,\n",
       "        0.79553903, 0.96282528, 0.95539033, 0.86245353, 0.89962825,\n",
       "        0.75092937, 0.84758364]),\n",
       " 'split4_test_score': array([0.96282528, 0.94795539, 0.87360595, 0.94795539, 0.5464684 ,\n",
       "        0.85501859, 0.94423792, 0.97026022, 0.73605948, 0.92193309,\n",
       "        0.87360595, 0.88475836]),\n",
       " 'mean_test_score': array([0.95249071, 0.9569324 , 0.82038001, 0.93246042, 0.62204048,\n",
       "        0.836635  , 0.95025747, 0.95398045, 0.8144293 , 0.91981275,\n",
       "        0.59949332, 0.80034696]),\n",
       " 'std_test_score': array([0.01033293, 0.00768709, 0.08032728, 0.01346273, 0.07123564,\n",
       "        0.03018837, 0.0080189 , 0.00861802, 0.05209665, 0.01020521,\n",
       "        0.23411112, 0.05691599]),\n",
       " 'rank_test_score': array([ 3,  1,  8,  5, 11,  7,  4,  2,  9,  6, 12, 10], dtype=int32)}"
      ]
     },
     "execution_count": 10,
     "metadata": {},
     "output_type": "execute_result"
    }
   ],
   "source": [
    "grid.cv_results_"
   ]
  },
  {
   "cell_type": "code",
   "execution_count": 11,
   "metadata": {},
   "outputs": [
    {
     "ename": "KeyError",
     "evalue": "'mean_test_accuracy'",
     "output_type": "error",
     "traceback": [
      "\u001b[1;31m---------------------------------------------------------------------------\u001b[0m",
      "\u001b[1;31mKeyError\u001b[0m                                  Traceback (most recent call last)",
      "\u001b[1;32m<ipython-input-11-7cd9991963a6>\u001b[0m in \u001b[0;36m<module>\u001b[1;34m\u001b[0m\n\u001b[0;32m      1\u001b[0m \u001b[0mdf\u001b[0m \u001b[1;33m=\u001b[0m \u001b[0mpd\u001b[0m\u001b[1;33m.\u001b[0m\u001b[0mDataFrame\u001b[0m\u001b[1;33m(\u001b[0m\u001b[0mgrid\u001b[0m\u001b[1;33m.\u001b[0m\u001b[0mcv_results_\u001b[0m\u001b[1;33m)\u001b[0m\u001b[1;33m\u001b[0m\u001b[1;33m\u001b[0m\u001b[0m\n\u001b[1;32m----> 2\u001b[1;33m \u001b[0mdf\u001b[0m\u001b[1;33m.\u001b[0m\u001b[0msort_values\u001b[0m\u001b[1;33m(\u001b[0m\u001b[0mby\u001b[0m\u001b[1;33m=\u001b[0m\u001b[1;34m'mean_test_accuracy'\u001b[0m\u001b[1;33m,\u001b[0m \u001b[0mascending\u001b[0m\u001b[1;33m=\u001b[0m\u001b[1;32mFalse\u001b[0m\u001b[1;33m)\u001b[0m\u001b[1;33m.\u001b[0m\u001b[0mhead\u001b[0m\u001b[1;33m(\u001b[0m\u001b[1;33m)\u001b[0m\u001b[1;33m\u001b[0m\u001b[1;33m\u001b[0m\u001b[0m\n\u001b[0m",
      "\u001b[1;32mc:\\users\\piero\\desktop\\corso_ml_python_youtube_pollo\\venv\\lib\\site-packages\\pandas\\core\\frame.py\u001b[0m in \u001b[0;36msort_values\u001b[1;34m(self, by, axis, ascending, inplace, kind, na_position)\u001b[0m\n\u001b[0;32m   4986\u001b[0m \u001b[1;33m\u001b[0m\u001b[0m\n\u001b[0;32m   4987\u001b[0m             \u001b[0mby\u001b[0m \u001b[1;33m=\u001b[0m \u001b[0mby\u001b[0m\u001b[1;33m[\u001b[0m\u001b[1;36m0\u001b[0m\u001b[1;33m]\u001b[0m\u001b[1;33m\u001b[0m\u001b[1;33m\u001b[0m\u001b[0m\n\u001b[1;32m-> 4988\u001b[1;33m             \u001b[0mk\u001b[0m \u001b[1;33m=\u001b[0m \u001b[0mself\u001b[0m\u001b[1;33m.\u001b[0m\u001b[0m_get_label_or_level_values\u001b[0m\u001b[1;33m(\u001b[0m\u001b[0mby\u001b[0m\u001b[1;33m,\u001b[0m \u001b[0maxis\u001b[0m\u001b[1;33m=\u001b[0m\u001b[0maxis\u001b[0m\u001b[1;33m)\u001b[0m\u001b[1;33m\u001b[0m\u001b[1;33m\u001b[0m\u001b[0m\n\u001b[0m\u001b[0;32m   4989\u001b[0m \u001b[1;33m\u001b[0m\u001b[0m\n\u001b[0;32m   4990\u001b[0m             \u001b[1;32mif\u001b[0m \u001b[0misinstance\u001b[0m\u001b[1;33m(\u001b[0m\u001b[0mascending\u001b[0m\u001b[1;33m,\u001b[0m \u001b[1;33m(\u001b[0m\u001b[0mtuple\u001b[0m\u001b[1;33m,\u001b[0m \u001b[0mlist\u001b[0m\u001b[1;33m)\u001b[0m\u001b[1;33m)\u001b[0m\u001b[1;33m:\u001b[0m\u001b[1;33m\u001b[0m\u001b[1;33m\u001b[0m\u001b[0m\n",
      "\u001b[1;32mc:\\users\\piero\\desktop\\corso_ml_python_youtube_pollo\\venv\\lib\\site-packages\\pandas\\core\\generic.py\u001b[0m in \u001b[0;36m_get_label_or_level_values\u001b[1;34m(self, key, axis)\u001b[0m\n\u001b[0;32m   1773\u001b[0m             \u001b[0mvalues\u001b[0m \u001b[1;33m=\u001b[0m \u001b[0mself\u001b[0m\u001b[1;33m.\u001b[0m\u001b[0maxes\u001b[0m\u001b[1;33m[\u001b[0m\u001b[0maxis\u001b[0m\u001b[1;33m]\u001b[0m\u001b[1;33m.\u001b[0m\u001b[0mget_level_values\u001b[0m\u001b[1;33m(\u001b[0m\u001b[0mkey\u001b[0m\u001b[1;33m)\u001b[0m\u001b[1;33m.\u001b[0m\u001b[0m_values\u001b[0m\u001b[1;33m\u001b[0m\u001b[1;33m\u001b[0m\u001b[0m\n\u001b[0;32m   1774\u001b[0m         \u001b[1;32melse\u001b[0m\u001b[1;33m:\u001b[0m\u001b[1;33m\u001b[0m\u001b[1;33m\u001b[0m\u001b[0m\n\u001b[1;32m-> 1775\u001b[1;33m             \u001b[1;32mraise\u001b[0m \u001b[0mKeyError\u001b[0m\u001b[1;33m(\u001b[0m\u001b[0mkey\u001b[0m\u001b[1;33m)\u001b[0m\u001b[1;33m\u001b[0m\u001b[1;33m\u001b[0m\u001b[0m\n\u001b[0m\u001b[0;32m   1776\u001b[0m \u001b[1;33m\u001b[0m\u001b[0m\n\u001b[0;32m   1777\u001b[0m         \u001b[1;31m# Check for duplicates\u001b[0m\u001b[1;33m\u001b[0m\u001b[1;33m\u001b[0m\u001b[1;33m\u001b[0m\u001b[0m\n",
      "\u001b[1;31mKeyError\u001b[0m: 'mean_test_accuracy'"
     ]
    }
   ],
   "source": [
    "df = pd.DataFrame(grid.cv_results_)\n",
    "df.sort_values(by='mean_test_accuracy', ascending=False).head()"
   ]
  },
  {
   "cell_type": "code",
   "execution_count": null,
   "metadata": {},
   "outputs": [],
   "source": [
    "df.describe()"
   ]
  },
  {
   "cell_type": "code",
   "execution_count": null,
   "metadata": {},
   "outputs": [],
   "source": []
  }
 ],
 "metadata": {
  "kernelspec": {
   "display_name": "Python 3",
   "language": "python",
   "name": "python3"
  },
  "language_info": {
   "codemirror_mode": {
    "name": "ipython",
    "version": 3
   },
   "file_extension": ".py",
   "mimetype": "text/x-python",
   "name": "python",
   "nbconvert_exporter": "python",
   "pygments_lexer": "ipython3",
   "version": "3.7.3"
  }
 },
 "nbformat": 4,
 "nbformat_minor": 4
}
