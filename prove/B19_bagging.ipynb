{
 "cells": [
  {
   "cell_type": "markdown",
   "metadata": {},
   "source": [
    "# Ensembling\n",
    "- si tratta di tecniche per ottenere una predizione da più modelli in cooperazione\n",
    "- si distingue tra bagging e boosting\n",
    " - **bagging** : i modelli lavorano in parallelo\n",
    "   - nel caso più semplice è un meccanismo di voto (moda nel classificatore e media nel regressore)\n",
    "   - ogni modello viene addestrato su una parte dei dati di train (tutti dataset diversi!)\n",
    " - **boosting**: i modelli lavorano in serie"
   ]
  },
  {
   "cell_type": "code",
   "execution_count": 29,
   "metadata": {},
   "outputs": [],
   "source": [
    "import pandas as pd\n",
    "import seaborn as sns\n",
    "from sklearn.datasets import fetch_olivetti_faces\n",
    "from sklearn.model_selection import train_test_split\n",
    "\n",
    "# dopo\n",
    "from sklearn.ensemble import RandomForestClassifier, BaggingClassifier\n",
    "from sklearn.neighbors import KNeighborsClassifier"
   ]
  },
  {
   "cell_type": "code",
   "execution_count": 2,
   "metadata": {},
   "outputs": [],
   "source": [
    "X, y = fetch_olivetti_faces(return_X_y=True)"
   ]
  },
  {
   "cell_type": "code",
   "execution_count": 3,
   "metadata": {},
   "outputs": [],
   "source": [
    "X_train, X_test, y_train, y_test = train_test_split(X, y)"
   ]
  },
  {
   "cell_type": "markdown",
   "metadata": {},
   "source": [
    "### Bagging"
   ]
  },
  {
   "cell_type": "markdown",
   "metadata": {},
   "source": [
    "#### Random Forest\n",
    "- il metodo di ensembling più famoso\n",
    "- consiste nel mettere a votazione una popolazione di alberi di decisione"
   ]
  },
  {
   "cell_type": "code",
   "execution_count": 22,
   "metadata": {},
   "outputs": [],
   "source": [
    "model = RandomForestClassifier(n_estimators=50, max_depth=20, max_features=0.8, max_samples=0.5)"
   ]
  },
  {
   "cell_type": "code",
   "execution_count": 23,
   "metadata": {},
   "outputs": [
    {
     "data": {
      "text/plain": [
       "RandomForestClassifier(max_depth=20, max_features=0.8, max_samples=0.5,\n",
       "                       n_estimators=50)"
      ]
     },
     "execution_count": 23,
     "metadata": {},
     "output_type": "execute_result"
    }
   ],
   "source": [
    "model.fit(X_train, y_train)"
   ]
  },
  {
   "cell_type": "code",
   "execution_count": 24,
   "metadata": {},
   "outputs": [
    {
     "data": {
      "text/plain": [
       "(1.0, 0.72)"
      ]
     },
     "execution_count": 24,
     "metadata": {},
     "output_type": "execute_result"
    }
   ],
   "source": [
    "acc_train = model.score(X_train, y_train)\n",
    "acc_test = model.score(X_test, y_test)\n",
    "acc_train, acc_test"
   ]
  },
  {
   "cell_type": "code",
   "execution_count": 25,
   "metadata": {},
   "outputs": [
    {
     "data": {
      "text/plain": [
       "[DecisionTreeClassifier(max_depth=20, max_features=0.8, random_state=2023843116),\n",
       " DecisionTreeClassifier(max_depth=20, max_features=0.8, random_state=990880083),\n",
       " DecisionTreeClassifier(max_depth=20, max_features=0.8, random_state=1264160092)]"
      ]
     },
     "execution_count": 25,
     "metadata": {},
     "output_type": "execute_result"
    }
   ],
   "source": [
    "model.estimators_[:3]"
   ]
  },
  {
   "cell_type": "markdown",
   "metadata": {},
   "source": [
    "- **PRO**    : prestazioni maggiori, meno overffiting\n",
    "- **CONTRO** : si ha a che fare con più modelli (meno interpretabile - vedi feature importance)"
   ]
  },
  {
   "cell_type": "code",
   "execution_count": 26,
   "metadata": {},
   "outputs": [
    {
     "data": {
      "text/plain": [
       "array([0.00279527, 0.        , 0.        , ..., 0.00028359, 0.00124383,\n",
       "       0.00208058])"
      ]
     },
     "execution_count": 26,
     "metadata": {},
     "output_type": "execute_result"
    }
   ],
   "source": [
    "model.feature_importances_"
   ]
  },
  {
   "cell_type": "code",
   "execution_count": 27,
   "metadata": {},
   "outputs": [
    {
     "data": {
      "text/plain": [
       "<matplotlib.axes._subplots.AxesSubplot at 0x1e2494e1888>"
      ]
     },
     "execution_count": 27,
     "metadata": {},
     "output_type": "execute_result"
    },
    {
     "data": {
      "image/png": "[encoded data removed]",
      "text/plain": [
       "<Figure size 432x288 with 2 Axes>"
      ]
     },
     "metadata": {
      "needs_background": "light"
     },
     "output_type": "display_data"
    }
   ],
   "source": [
    "sns.heatmap( model.feature_importances_.reshape(64, 64) )"
   ]
  },
  {
   "cell_type": "markdown",
   "metadata": {},
   "source": [
    "#### Custom bagging con il BaggingClassifier/BaggingRegressor\n",
    "- permette di sfruttare il bagging con qualsiasi algoritmo di addestramento"
   ]
  },
  {
   "cell_type": "code",
   "execution_count": 8,
   "metadata": {},
   "outputs": [],
   "source": [
    "model = BaggingClassifier( KNeighborsClassifier(), n_estimators=50, max_samples=0.8, max_features=0.8 )"
   ]
  },
  {
   "cell_type": "code",
   "execution_count": 9,
   "metadata": {},
   "outputs": [
    {
     "data": {
      "text/plain": [
       "BaggingClassifier(base_estimator=KNeighborsClassifier(), max_features=0.8,\n",
       "                  max_samples=0.8, n_estimators=50)"
      ]
     },
     "execution_count": 9,
     "metadata": {},
     "output_type": "execute_result"
    }
   ],
   "source": [
    "model.fit(X_train, y_train)"
   ]
  },
  {
   "cell_type": "code",
   "execution_count": 10,
   "metadata": {},
   "outputs": [
    {
     "data": {
      "text/plain": [
       "(0.9233333333333333, 0.75)"
      ]
     },
     "execution_count": 10,
     "metadata": {},
     "output_type": "execute_result"
    }
   ],
   "source": [
    "acc_train = model.score(X_train, y_train)\n",
    "acc_test  = model.score(X_test, y_test)\n",
    "acc_train, acc_test"
   ]
  },
  {
   "cell_type": "code",
   "execution_count": 11,
   "metadata": {},
   "outputs": [
    {
     "data": {
      "text/plain": [
       "KNeighborsClassifier()"
      ]
     },
     "execution_count": 11,
     "metadata": {},
     "output_type": "execute_result"
    }
   ],
   "source": [
    "model.base_estimator_"
   ]
  },
  {
   "cell_type": "code",
   "execution_count": 12,
   "metadata": {},
   "outputs": [
    {
     "data": {
      "text/plain": [
       "[KNeighborsClassifier(), KNeighborsClassifier(), KNeighborsClassifier()]"
      ]
     },
     "execution_count": 12,
     "metadata": {},
     "output_type": "execute_result"
    }
   ],
   "source": [
    "model.estimators_[:3]"
   ]
  },
  {
   "cell_type": "code",
   "execution_count": 13,
   "metadata": {},
   "outputs": [
    {
     "data": {
      "text/plain": [
       "[array([119, 104, 281, 288,  11,  72, 282, 232, 140, 231, 237,   8, 148,\n",
       "         58, 119, 218, 286, 190,  43,  60, 104, 116, 262,  66, 288, 126,\n",
       "        212, 155, 253,  17, 105, 128,  59, 145,  83, 223,  44, 123, 274,\n",
       "        192,   6,  52, 276, 237, 268, 184, 288, 222, 215, 102, 204, 218,\n",
       "         94, 246,  86,  17,  32, 130, 284, 237, 118,  10,   6, 294, 195,\n",
       "        278,  11,  26, 147, 266,   5, 269, 124, 113,  83, 185,  65,  32,\n",
       "        137, 114, 218,  97, 238,  44, 131, 222, 109,  97, 251,  25, 226,\n",
       "        188, 219, 284, 266, 257, 268, 130, 251, 101,  92, 167, 242, 168,\n",
       "        169,  42, 231,  12, 289, 205,  79, 266,  52, 135,  61, 124, 117,\n",
       "        127, 195, 214,  17, 135,  27, 141,  24,  30, 187,  32, 285, 217,\n",
       "          1,  12, 182, 165, 221, 207, 206,  45, 178, 233, 150, 192,  57,\n",
       "        184, 211,  27,   3,  16, 153,  80, 215,  97, 296, 246, 127, 255,\n",
       "        246, 171, 299, 137, 131, 209, 191,  25, 247, 197, 215, 117, 214,\n",
       "        159, 293, 202,  45,  87, 128, 174,  40, 141, 239, 101, 190,  12,\n",
       "        240,  17,  81, 128,  65,  41,  81,   4, 196,  21,  89,  89, 175,\n",
       "        173,  27,  87,  70,  71, 182, 151,  31, 257,  90, 160,  52,  77,\n",
       "        155, 122, 288, 104,  30,  26, 265, 213,  95, 132, 167, 190, 113,\n",
       "         66, 178, 198, 164,  94, 105, 109, 143, 183, 290, 225,  28, 269,\n",
       "        213,  99, 259,  91,  12, 142])]"
      ]
     },
     "execution_count": 13,
     "metadata": {},
     "output_type": "execute_result"
    }
   ],
   "source": [
    "model.estimators_samples_[:1]"
   ]
  },
  {
   "cell_type": "code",
   "execution_count": 14,
   "metadata": {},
   "outputs": [
    {
     "data": {
      "text/plain": [
       "[array([2700, 3027, 3727, ..., 2519, 2373, 2863]),\n",
       " array([1496, 1677, 3802, ...,  927, 1088, 1054]),\n",
       " array([2723, 3515, 3829, ..., 3826, 3469, 1506]),\n",
       " array([ 808, 2753, 3314, ..., 3743,  620, 3459]),\n",
       " array([1988, 3625,  951, ..., 2411, 3276, 1228]),\n",
       " array([ 868, 2167,  133, ..., 1074, 3390,  426]),\n",
       " array([2159, 1584, 2331, ...,  286, 1728, 3419]),\n",
       " array([3828, 4040, 1014, ..., 1161,   39, 1311]),\n",
       " array([1429, 3619,  641, ...,  767,  285,  514]),\n",
       " array([ 639,  873, 3057, ..., 2164, 1357, 3026]),\n",
       " array([1184, 1003, 1900, ..., 1574, 1694, 2148]),\n",
       " array([2703, 2441, 3067, ..., 1420, 3953,  355]),\n",
       " array([3515, 3521,  438, ..., 1052, 1405, 2583]),\n",
       " array([2242,  311, 2707, ..., 3458, 2790,  912]),\n",
       " array([2365, 3551, 2572, ..., 2344, 3008,   21]),\n",
       " array([ 461, 1559, 1565, ..., 3824,  775,  928]),\n",
       " array([2966,  746, 3535, ..., 1098,  533, 2342]),\n",
       " array([1029,  133, 2366, ..., 2625, 3603,  370]),\n",
       " array([3833, 2349, 1486, ..., 1865, 3077, 2727]),\n",
       " array([1785, 1157, 3278, ..., 2142,  867, 3170]),\n",
       " array([1648, 1228, 3238, ..., 3113, 2256, 1987]),\n",
       " array([3168, 2665,  944, ..., 2550, 3196,  358]),\n",
       " array([3515, 2594,  876, ..., 2645, 1627,   16]),\n",
       " array([3173, 1179, 3425, ..., 3147, 1852, 1178]),\n",
       " array([1899, 2207, 1367, ..., 1255, 2716,   86]),\n",
       " array([2082, 4088, 1105, ..., 1258,  492, 1242]),\n",
       " array([  46, 2322, 3892, ..., 2700, 2541, 3559]),\n",
       " array([3530, 2594, 3982, ..., 1910, 3412, 3528]),\n",
       " array([1099, 1648, 1885, ..., 1250, 1152, 1054]),\n",
       " array([2169, 1637, 4049, ..., 3933,  429,  579]),\n",
       " array([ 514, 3713, 3711, ..., 1588,  957, 3173]),\n",
       " array([3309, 1563, 3360, ...,  220, 2216,  243]),\n",
       " array([ 410, 1974, 1130, ...,  726, 2644, 2665]),\n",
       " array([1410, 3401, 2970, ..., 2433, 3251,  950]),\n",
       " array([   6,  201,  437, ..., 3871, 1106, 1376]),\n",
       " array([2693, 1612, 1927, ..., 2883, 3485, 4024]),\n",
       " array([3009,  112, 2825, ..., 2843, 3777, 1259]),\n",
       " array([1049,  639, 1266, ..., 3142,  796,   18]),\n",
       " array([1030, 1724, 1147, ..., 3789, 3430,    2]),\n",
       " array([ 640,  774,  202, ..., 1582,  700,  675]),\n",
       " array([2442,  496, 3868, ..., 1164,  784,  188]),\n",
       " array([1366, 3654, 2861, ..., 1496, 3270, 1983]),\n",
       " array([ 644, 2402, 3824, ..., 3149,  698, 1453]),\n",
       " array([2374, 1835, 1134, ..., 1233, 1366, 1072]),\n",
       " array([1499, 4061, 3250, ..., 2268,  566, 1354]),\n",
       " array([4030, 2815,  959, ...,  120,  839, 1963]),\n",
       " array([ 505, 1561,  647, ..., 2595,  567, 1620]),\n",
       " array([1080, 2475, 3026, ..., 3662, 1952, 1742]),\n",
       " array([ 708, 2907, 2893, ...,  613,   55,  335]),\n",
       " array([2281,  275,  834, ..., 3621, 1745, 1235])]"
      ]
     },
     "execution_count": 14,
     "metadata": {},
     "output_type": "execute_result"
    }
   ],
   "source": [
    "model.estimators_features_"
   ]
  },
  {
   "cell_type": "code",
   "execution_count": null,
   "metadata": {},
   "outputs": [],
   "source": []
  }
 ],
 "metadata": {
  "kernelspec": {
   "display_name": "Python 3",
   "language": "python",
   "name": "python3"
  },
  "language_info": {
   "codemirror_mode": {
    "name": "ipython",
    "version": 3
   },
   "file_extension": ".py",
   "mimetype": "text/x-python",
   "name": "python",
   "nbconvert_exporter": "python",
   "pygments_lexer": "ipython3",
   "version": "3.7.4"
  }
 },
 "nbformat": 4,
 "nbformat_minor": 4
}
