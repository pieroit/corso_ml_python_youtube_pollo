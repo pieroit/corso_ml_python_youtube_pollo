{
 "cells": [
  {
   "cell_type": "code",
   "execution_count": 1,
   "metadata": {},
   "outputs": [],
   "source": [
    "from sklearn.datasets import load_digits\n",
    "from sklearn.model_selection import train_test_split, GridSearchCV\n",
    "from sklearn.neural_network import MLPClassifier\n",
    "import pandas as pd"
   ]
  },
  {
   "cell_type": "code",
   "execution_count": 2,
   "metadata": {},
   "outputs": [],
   "source": [
    "X, y = load_digits(return_X_y=True)\n",
    "X_train, X_test, y_train, y_test = train_test_split(X, y)"
   ]
  },
  {
   "cell_type": "code",
   "execution_count": 3,
   "metadata": {},
   "outputs": [],
   "source": [
    "model = MLPClassifier()"
   ]
  },
  {
   "cell_type": "markdown",
   "metadata": {},
   "source": [
    "- si distingue nel ML tra parametri di un modello e iperparmetri\n",
    " - i parametri vegono trovati nell'aprendimento (es. pesi)\n",
    " - gli iperparametri sono decisioni che prendiamo a monte (es. iterazioni, neuroni, profondità albero)\n",
    "- la GRID SEARCH serve a trovare i valori ottimali degli iperparametri, in modo sistematico senza fare esperimenti a casaccio"
   ]
  },
  {
   "cell_type": "code",
   "execution_count": 4,
   "metadata": {},
   "outputs": [
    {
     "data": {
      "text/plain": [
       "{'activation': 'relu',\n",
       " 'alpha': 0.0001,\n",
       " 'batch_size': 'auto',\n",
       " 'beta_1': 0.9,\n",
       " 'beta_2': 0.999,\n",
       " 'early_stopping': False,\n",
       " 'epsilon': 1e-08,\n",
       " 'hidden_layer_sizes': (100,),\n",
       " 'learning_rate': 'constant',\n",
       " 'learning_rate_init': 0.001,\n",
       " 'max_fun': 15000,\n",
       " 'max_iter': 200,\n",
       " 'momentum': 0.9,\n",
       " 'n_iter_no_change': 10,\n",
       " 'nesterovs_momentum': True,\n",
       " 'power_t': 0.5,\n",
       " 'random_state': None,\n",
       " 'shuffle': True,\n",
       " 'solver': 'adam',\n",
       " 'tol': 0.0001,\n",
       " 'validation_fraction': 0.1,\n",
       " 'verbose': False,\n",
       " 'warm_start': False}"
      ]
     },
     "execution_count": 4,
     "metadata": {},
     "output_type": "execute_result"
    }
   ],
   "source": [
    "# come si accede agli iperparametri di un modello?\n",
    "# (combaciano in larga parte con le opzioni che passo al costruttore)\n",
    "model.get_params()"
   ]
  },
  {
   "cell_type": "code",
   "execution_count": 26,
   "metadata": {},
   "outputs": [],
   "source": [
    "params_space = {\n",
    "    'hidden_layer_sizes': [(20,), (10, 10), (10, 5, 5)],\n",
    "    'learning_rate_init' : [0.001, 0.01, 0.1],\n",
    "    'alpha': [0.05, 0.1]\n",
    "}\n",
    "grid = GridSearchCV(model, param_grid=params_space,\n",
    "                    verbose=2,\n",
    "                    cv=2, # quanti fold usare per la cross validation!\n",
    "                    #refit=True, # cominciare omettendolo (ottieni il modello migliore), poi =True (refitti), poi ='accuracy' (scegli in base a metrica),\n",
    "                    #scoring=['accuracy', 'precision_macro'] # da attivare dopo il refit\n",
    "                   )"
   ]
  },
  {
   "cell_type": "code",
   "execution_count": 19,
   "metadata": {},
   "outputs": [
    {
     "name": "stdout",
     "output_type": "stream",
     "text": [
      "Fitting 2 folds for each of 18 candidates, totalling 36 fits\n",
      "[CV] alpha=0.05, hidden_layer_sizes=(20,), learning_rate_init=0.001 ..\n"
     ]
    },
    {
     "name": "stderr",
     "output_type": "stream",
     "text": [
      "[Parallel(n_jobs=1)]: Using backend SequentialBackend with 1 concurrent workers.\n",
      "/home/piero/Desktop/pythonazzo/venv/lib/python3.8/site-packages/sklearn/neural_network/_multilayer_perceptron.py:582: ConvergenceWarning: Stochastic Optimizer: Maximum iterations (200) reached and the optimization hasn't converged yet.\n",
      "  warnings.warn(\n",
      "[Parallel(n_jobs=1)]: Done   1 out of   1 | elapsed:    0.6s remaining:    0.0s\n"
     ]
    },
    {
     "name": "stdout",
     "output_type": "stream",
     "text": [
      "[CV]  alpha=0.05, hidden_layer_sizes=(20,), learning_rate_init=0.001, total=   0.6s\n",
      "[CV] alpha=0.05, hidden_layer_sizes=(20,), learning_rate_init=0.001 ..\n"
     ]
    },
    {
     "name": "stderr",
     "output_type": "stream",
     "text": [
      "/home/piero/Desktop/pythonazzo/venv/lib/python3.8/site-packages/sklearn/neural_network/_multilayer_perceptron.py:582: ConvergenceWarning: Stochastic Optimizer: Maximum iterations (200) reached and the optimization hasn't converged yet.\n",
      "  warnings.warn(\n"
     ]
    },
    {
     "name": "stdout",
     "output_type": "stream",
     "text": [
      "[CV]  alpha=0.05, hidden_layer_sizes=(20,), learning_rate_init=0.001, total=   0.7s\n",
      "[CV] alpha=0.05, hidden_layer_sizes=(20,), learning_rate_init=0.01 ...\n",
      "[CV]  alpha=0.05, hidden_layer_sizes=(20,), learning_rate_init=0.01, total=   0.5s\n",
      "[CV] alpha=0.05, hidden_layer_sizes=(20,), learning_rate_init=0.01 ...\n",
      "[CV]  alpha=0.05, hidden_layer_sizes=(20,), learning_rate_init=0.01, total=   0.5s\n",
      "[CV] alpha=0.05, hidden_layer_sizes=(20,), learning_rate_init=0.1 ....\n",
      "[CV]  alpha=0.05, hidden_layer_sizes=(20,), learning_rate_init=0.1, total=   0.3s\n",
      "[CV] alpha=0.05, hidden_layer_sizes=(20,), learning_rate_init=0.1 ....\n",
      "[CV]  alpha=0.05, hidden_layer_sizes=(20,), learning_rate_init=0.1, total=   0.2s\n",
      "[CV] alpha=0.05, hidden_layer_sizes=(10, 10), learning_rate_init=0.001 \n"
     ]
    },
    {
     "name": "stderr",
     "output_type": "stream",
     "text": [
      "/home/piero/Desktop/pythonazzo/venv/lib/python3.8/site-packages/sklearn/neural_network/_multilayer_perceptron.py:582: ConvergenceWarning: Stochastic Optimizer: Maximum iterations (200) reached and the optimization hasn't converged yet.\n",
      "  warnings.warn(\n"
     ]
    },
    {
     "name": "stdout",
     "output_type": "stream",
     "text": [
      "[CV]  alpha=0.05, hidden_layer_sizes=(10, 10), learning_rate_init=0.001, total=   0.8s\n",
      "[CV] alpha=0.05, hidden_layer_sizes=(10, 10), learning_rate_init=0.001 \n"
     ]
    },
    {
     "name": "stderr",
     "output_type": "stream",
     "text": [
      "/home/piero/Desktop/pythonazzo/venv/lib/python3.8/site-packages/sklearn/neural_network/_multilayer_perceptron.py:582: ConvergenceWarning: Stochastic Optimizer: Maximum iterations (200) reached and the optimization hasn't converged yet.\n",
      "  warnings.warn(\n"
     ]
    },
    {
     "name": "stdout",
     "output_type": "stream",
     "text": [
      "[CV]  alpha=0.05, hidden_layer_sizes=(10, 10), learning_rate_init=0.001, total=   0.8s\n",
      "[CV] alpha=0.05, hidden_layer_sizes=(10, 10), learning_rate_init=0.01 \n",
      "[CV]  alpha=0.05, hidden_layer_sizes=(10, 10), learning_rate_init=0.01, total=   0.6s\n",
      "[CV] alpha=0.05, hidden_layer_sizes=(10, 10), learning_rate_init=0.01 \n",
      "[CV]  alpha=0.05, hidden_layer_sizes=(10, 10), learning_rate_init=0.01, total=   0.6s\n",
      "[CV] alpha=0.05, hidden_layer_sizes=(10, 10), learning_rate_init=0.1 .\n",
      "[CV]  alpha=0.05, hidden_layer_sizes=(10, 10), learning_rate_init=0.1, total=   0.6s\n",
      "[CV] alpha=0.05, hidden_layer_sizes=(10, 10), learning_rate_init=0.1 .\n",
      "[CV]  alpha=0.05, hidden_layer_sizes=(10, 10), learning_rate_init=0.1, total=   0.4s\n",
      "[CV] alpha=0.05, hidden_layer_sizes=(10, 5, 5), learning_rate_init=0.001 \n"
     ]
    },
    {
     "name": "stderr",
     "output_type": "stream",
     "text": [
      "/home/piero/Desktop/pythonazzo/venv/lib/python3.8/site-packages/sklearn/neural_network/_multilayer_perceptron.py:582: ConvergenceWarning: Stochastic Optimizer: Maximum iterations (200) reached and the optimization hasn't converged yet.\n",
      "  warnings.warn(\n"
     ]
    },
    {
     "name": "stdout",
     "output_type": "stream",
     "text": [
      "[CV]  alpha=0.05, hidden_layer_sizes=(10, 5, 5), learning_rate_init=0.001, total=   1.0s\n",
      "[CV] alpha=0.05, hidden_layer_sizes=(10, 5, 5), learning_rate_init=0.001 \n"
     ]
    },
    {
     "name": "stderr",
     "output_type": "stream",
     "text": [
      "/home/piero/Desktop/pythonazzo/venv/lib/python3.8/site-packages/sklearn/neural_network/_multilayer_perceptron.py:582: ConvergenceWarning: Stochastic Optimizer: Maximum iterations (200) reached and the optimization hasn't converged yet.\n",
      "  warnings.warn(\n"
     ]
    },
    {
     "name": "stdout",
     "output_type": "stream",
     "text": [
      "[CV]  alpha=0.05, hidden_layer_sizes=(10, 5, 5), learning_rate_init=0.001, total=   0.9s\n",
      "[CV] alpha=0.05, hidden_layer_sizes=(10, 5, 5), learning_rate_init=0.01 \n",
      "[CV]  alpha=0.05, hidden_layer_sizes=(10, 5, 5), learning_rate_init=0.01, total=   0.8s\n",
      "[CV] alpha=0.05, hidden_layer_sizes=(10, 5, 5), learning_rate_init=0.01 \n"
     ]
    },
    {
     "name": "stderr",
     "output_type": "stream",
     "text": [
      "/home/piero/Desktop/pythonazzo/venv/lib/python3.8/site-packages/sklearn/neural_network/_multilayer_perceptron.py:582: ConvergenceWarning: Stochastic Optimizer: Maximum iterations (200) reached and the optimization hasn't converged yet.\n",
      "  warnings.warn(\n"
     ]
    },
    {
     "name": "stdout",
     "output_type": "stream",
     "text": [
      "[CV]  alpha=0.05, hidden_layer_sizes=(10, 5, 5), learning_rate_init=0.01, total=   1.0s\n",
      "[CV] alpha=0.05, hidden_layer_sizes=(10, 5, 5), learning_rate_init=0.1 \n",
      "[CV]  alpha=0.05, hidden_layer_sizes=(10, 5, 5), learning_rate_init=0.1, total=   0.5s\n",
      "[CV] alpha=0.05, hidden_layer_sizes=(10, 5, 5), learning_rate_init=0.1 \n",
      "[CV]  alpha=0.05, hidden_layer_sizes=(10, 5, 5), learning_rate_init=0.1, total=   0.4s\n",
      "[CV] alpha=0.1, hidden_layer_sizes=(20,), learning_rate_init=0.001 ...\n"
     ]
    },
    {
     "name": "stderr",
     "output_type": "stream",
     "text": [
      "/home/piero/Desktop/pythonazzo/venv/lib/python3.8/site-packages/sklearn/neural_network/_multilayer_perceptron.py:582: ConvergenceWarning: Stochastic Optimizer: Maximum iterations (200) reached and the optimization hasn't converged yet.\n",
      "  warnings.warn(\n"
     ]
    },
    {
     "name": "stdout",
     "output_type": "stream",
     "text": [
      "[CV]  alpha=0.1, hidden_layer_sizes=(20,), learning_rate_init=0.001, total=   0.7s\n",
      "[CV] alpha=0.1, hidden_layer_sizes=(20,), learning_rate_init=0.001 ...\n"
     ]
    },
    {
     "name": "stderr",
     "output_type": "stream",
     "text": [
      "/home/piero/Desktop/pythonazzo/venv/lib/python3.8/site-packages/sklearn/neural_network/_multilayer_perceptron.py:582: ConvergenceWarning: Stochastic Optimizer: Maximum iterations (200) reached and the optimization hasn't converged yet.\n",
      "  warnings.warn(\n"
     ]
    },
    {
     "name": "stdout",
     "output_type": "stream",
     "text": [
      "[CV]  alpha=0.1, hidden_layer_sizes=(20,), learning_rate_init=0.001, total=   0.7s\n",
      "[CV] alpha=0.1, hidden_layer_sizes=(20,), learning_rate_init=0.01 ....\n",
      "[CV]  alpha=0.1, hidden_layer_sizes=(20,), learning_rate_init=0.01, total=   0.6s\n",
      "[CV] alpha=0.1, hidden_layer_sizes=(20,), learning_rate_init=0.01 ....\n",
      "[CV]  alpha=0.1, hidden_layer_sizes=(20,), learning_rate_init=0.01, total=   0.6s\n",
      "[CV] alpha=0.1, hidden_layer_sizes=(20,), learning_rate_init=0.1 .....\n",
      "[CV]  alpha=0.1, hidden_layer_sizes=(20,), learning_rate_init=0.1, total=   0.2s\n",
      "[CV] alpha=0.1, hidden_layer_sizes=(20,), learning_rate_init=0.1 .....\n",
      "[CV]  alpha=0.1, hidden_layer_sizes=(20,), learning_rate_init=0.1, total=   0.2s\n",
      "[CV] alpha=0.1, hidden_layer_sizes=(10, 10), learning_rate_init=0.001 \n"
     ]
    },
    {
     "name": "stderr",
     "output_type": "stream",
     "text": [
      "/home/piero/Desktop/pythonazzo/venv/lib/python3.8/site-packages/sklearn/neural_network/_multilayer_perceptron.py:582: ConvergenceWarning: Stochastic Optimizer: Maximum iterations (200) reached and the optimization hasn't converged yet.\n",
      "  warnings.warn(\n"
     ]
    },
    {
     "name": "stdout",
     "output_type": "stream",
     "text": [
      "[CV]  alpha=0.1, hidden_layer_sizes=(10, 10), learning_rate_init=0.001, total=   0.8s\n",
      "[CV] alpha=0.1, hidden_layer_sizes=(10, 10), learning_rate_init=0.001 \n"
     ]
    },
    {
     "name": "stderr",
     "output_type": "stream",
     "text": [
      "/home/piero/Desktop/pythonazzo/venv/lib/python3.8/site-packages/sklearn/neural_network/_multilayer_perceptron.py:582: ConvergenceWarning: Stochastic Optimizer: Maximum iterations (200) reached and the optimization hasn't converged yet.\n",
      "  warnings.warn(\n"
     ]
    },
    {
     "name": "stdout",
     "output_type": "stream",
     "text": [
      "[CV]  alpha=0.1, hidden_layer_sizes=(10, 10), learning_rate_init=0.001, total=   0.8s\n",
      "[CV] alpha=0.1, hidden_layer_sizes=(10, 10), learning_rate_init=0.01 .\n"
     ]
    },
    {
     "name": "stderr",
     "output_type": "stream",
     "text": [
      "/home/piero/Desktop/pythonazzo/venv/lib/python3.8/site-packages/sklearn/neural_network/_multilayer_perceptron.py:582: ConvergenceWarning: Stochastic Optimizer: Maximum iterations (200) reached and the optimization hasn't converged yet.\n",
      "  warnings.warn(\n"
     ]
    },
    {
     "name": "stdout",
     "output_type": "stream",
     "text": [
      "[CV]  alpha=0.1, hidden_layer_sizes=(10, 10), learning_rate_init=0.01, total=   0.8s\n",
      "[CV] alpha=0.1, hidden_layer_sizes=(10, 10), learning_rate_init=0.01 .\n",
      "[CV]  alpha=0.1, hidden_layer_sizes=(10, 10), learning_rate_init=0.01, total=   0.7s\n",
      "[CV] alpha=0.1, hidden_layer_sizes=(10, 10), learning_rate_init=0.1 ..\n",
      "[CV]  alpha=0.1, hidden_layer_sizes=(10, 10), learning_rate_init=0.1, total=   0.1s\n",
      "[CV] alpha=0.1, hidden_layer_sizes=(10, 10), learning_rate_init=0.1 ..\n",
      "[CV]  alpha=0.1, hidden_layer_sizes=(10, 10), learning_rate_init=0.1, total=   0.2s\n",
      "[CV] alpha=0.1, hidden_layer_sizes=(10, 5, 5), learning_rate_init=0.001 \n"
     ]
    },
    {
     "name": "stderr",
     "output_type": "stream",
     "text": [
      "/home/piero/Desktop/pythonazzo/venv/lib/python3.8/site-packages/sklearn/neural_network/_multilayer_perceptron.py:582: ConvergenceWarning: Stochastic Optimizer: Maximum iterations (200) reached and the optimization hasn't converged yet.\n",
      "  warnings.warn(\n"
     ]
    },
    {
     "name": "stdout",
     "output_type": "stream",
     "text": [
      "[CV]  alpha=0.1, hidden_layer_sizes=(10, 5, 5), learning_rate_init=0.001, total=   0.9s\n",
      "[CV] alpha=0.1, hidden_layer_sizes=(10, 5, 5), learning_rate_init=0.001 \n"
     ]
    },
    {
     "name": "stderr",
     "output_type": "stream",
     "text": [
      "/home/piero/Desktop/pythonazzo/venv/lib/python3.8/site-packages/sklearn/neural_network/_multilayer_perceptron.py:582: ConvergenceWarning: Stochastic Optimizer: Maximum iterations (200) reached and the optimization hasn't converged yet.\n",
      "  warnings.warn(\n"
     ]
    },
    {
     "name": "stdout",
     "output_type": "stream",
     "text": [
      "[CV]  alpha=0.1, hidden_layer_sizes=(10, 5, 5), learning_rate_init=0.001, total=   0.9s\n",
      "[CV] alpha=0.1, hidden_layer_sizes=(10, 5, 5), learning_rate_init=0.01 \n"
     ]
    },
    {
     "name": "stderr",
     "output_type": "stream",
     "text": [
      "/home/piero/Desktop/pythonazzo/venv/lib/python3.8/site-packages/sklearn/neural_network/_multilayer_perceptron.py:582: ConvergenceWarning: Stochastic Optimizer: Maximum iterations (200) reached and the optimization hasn't converged yet.\n",
      "  warnings.warn(\n"
     ]
    },
    {
     "name": "stdout",
     "output_type": "stream",
     "text": [
      "[CV]  alpha=0.1, hidden_layer_sizes=(10, 5, 5), learning_rate_init=0.01, total=   1.0s\n",
      "[CV] alpha=0.1, hidden_layer_sizes=(10, 5, 5), learning_rate_init=0.01 \n",
      "[CV]  alpha=0.1, hidden_layer_sizes=(10, 5, 5), learning_rate_init=0.01, total=   0.6s\n",
      "[CV] alpha=0.1, hidden_layer_sizes=(10, 5, 5), learning_rate_init=0.1 \n",
      "[CV]  alpha=0.1, hidden_layer_sizes=(10, 5, 5), learning_rate_init=0.1, total=   0.5s\n",
      "[CV] alpha=0.1, hidden_layer_sizes=(10, 5, 5), learning_rate_init=0.1 \n",
      "[CV]  alpha=0.1, hidden_layer_sizes=(10, 5, 5), learning_rate_init=0.1, total=   0.8s\n"
     ]
    },
    {
     "name": "stderr",
     "output_type": "stream",
     "text": [
      "[Parallel(n_jobs=1)]: Done  36 out of  36 | elapsed:   22.0s finished\n"
     ]
    },
    {
     "data": {
      "text/plain": [
       "GridSearchCV(cv=2, estimator=MLPClassifier(),\n",
       "             param_grid={'alpha': [0.05, 0.1],\n",
       "                         'hidden_layer_sizes': [(20,), (10, 10), (10, 5, 5)],\n",
       "                         'learning_rate_init': [0.001, 0.01, 0.1]},\n",
       "             verbose=2)"
      ]
     },
     "execution_count": 19,
     "metadata": {},
     "output_type": "execute_result"
    }
   ],
   "source": [
    "grid.fit(X_train, y_train)"
   ]
  },
  {
   "cell_type": "code",
   "execution_count": 20,
   "metadata": {},
   "outputs": [
    {
     "data": {
      "text/plain": [
       "{'alpha': 0.05, 'hidden_layer_sizes': (20,), 'learning_rate_init': 0.01}"
      ]
     },
     "execution_count": 20,
     "metadata": {},
     "output_type": "execute_result"
    }
   ],
   "source": [
    "grid.best_params_"
   ]
  },
  {
   "cell_type": "code",
   "execution_count": 21,
   "metadata": {},
   "outputs": [
    {
     "data": {
      "text/plain": [
       "MLPClassifier(alpha=0.05, hidden_layer_sizes=(20,), learning_rate_init=0.01)"
      ]
     },
     "execution_count": 21,
     "metadata": {},
     "output_type": "execute_result"
    }
   ],
   "source": [
    "grid.best_estimator_"
   ]
  },
  {
   "cell_type": "code",
   "execution_count": 22,
   "metadata": {},
   "outputs": [
    {
     "data": {
      "text/plain": [
       "0.9524803682523446"
      ]
     },
     "execution_count": 22,
     "metadata": {},
     "output_type": "execute_result"
    }
   ],
   "source": [
    "grid.best_score_"
   ]
  },
  {
   "cell_type": "code",
   "execution_count": 23,
   "metadata": {},
   "outputs": [
    {
     "data": {
      "text/plain": [
       "0.9444444444444444"
      ]
     },
     "execution_count": 23,
     "metadata": {},
     "output_type": "execute_result"
    }
   ],
   "source": [
    "best_model = grid.best_estimator_\n",
    "best_model.predict(X_test)\n",
    "best_model.score(X_test, y_test)"
   ]
  },
  {
   "cell_type": "code",
   "execution_count": 24,
   "metadata": {},
   "outputs": [
    {
     "data": {
      "text/plain": [
       "{'activation': 'relu',\n",
       " 'alpha': 0.05,\n",
       " 'batch_size': 'auto',\n",
       " 'beta_1': 0.9,\n",
       " 'beta_2': 0.999,\n",
       " 'early_stopping': False,\n",
       " 'epsilon': 1e-08,\n",
       " 'hidden_layer_sizes': (20,),\n",
       " 'learning_rate': 'constant',\n",
       " 'learning_rate_init': 0.01,\n",
       " 'max_fun': 15000,\n",
       " 'max_iter': 200,\n",
       " 'momentum': 0.9,\n",
       " 'n_iter_no_change': 10,\n",
       " 'nesterovs_momentum': True,\n",
       " 'power_t': 0.5,\n",
       " 'random_state': None,\n",
       " 'shuffle': True,\n",
       " 'solver': 'adam',\n",
       " 'tol': 0.0001,\n",
       " 'validation_fraction': 0.1,\n",
       " 'verbose': False,\n",
       " 'warm_start': False}"
      ]
     },
     "execution_count": 24,
     "metadata": {},
     "output_type": "execute_result"
    }
   ],
   "source": [
    "best_model.get_params()"
   ]
  },
  {
   "cell_type": "markdown",
   "metadata": {},
   "source": [
    "- ATTENZIONE: il best estimator è addestrato comunque su una fold\n",
    "- Per avere in automatico il miglior modello refittato su tutto il training set, **refit=True**"
   ]
  },
  {
   "cell_type": "code",
   "execution_count": 25,
   "metadata": {},
   "outputs": [
    {
     "data": {
      "text/html": [
       "<div>\n",
       "<style scoped>\n",
       "    .dataframe tbody tr th:only-of-type {\n",
       "        vertical-align: middle;\n",
       "    }\n",
       "\n",
       "    .dataframe tbody tr th {\n",
       "        vertical-align: top;\n",
       "    }\n",
       "\n",
       "    .dataframe thead th {\n",
       "        text-align: right;\n",
       "    }\n",
       "</style>\n",
       "<table border=\"1\" class=\"dataframe\">\n",
       "  <thead>\n",
       "    <tr style=\"text-align: right;\">\n",
       "      <th></th>\n",
       "      <th>mean_fit_time</th>\n",
       "      <th>std_fit_time</th>\n",
       "      <th>mean_score_time</th>\n",
       "      <th>std_score_time</th>\n",
       "      <th>param_alpha</th>\n",
       "      <th>param_hidden_layer_sizes</th>\n",
       "      <th>param_learning_rate_init</th>\n",
       "      <th>params</th>\n",
       "      <th>split0_test_score</th>\n",
       "      <th>split1_test_score</th>\n",
       "      <th>mean_test_score</th>\n",
       "      <th>std_test_score</th>\n",
       "      <th>rank_test_score</th>\n",
       "    </tr>\n",
       "  </thead>\n",
       "  <tbody>\n",
       "    <tr>\n",
       "      <th>0</th>\n",
       "      <td>0.655564</td>\n",
       "      <td>0.026068</td>\n",
       "      <td>0.002274</td>\n",
       "      <td>0.000325</td>\n",
       "      <td>0.05</td>\n",
       "      <td>(20,)</td>\n",
       "      <td>0.001</td>\n",
       "      <td>{'alpha': 0.05, 'hidden_layer_sizes': (20,), '...</td>\n",
       "      <td>0.931751</td>\n",
       "      <td>0.936107</td>\n",
       "      <td>0.933929</td>\n",
       "      <td>0.002178</td>\n",
       "      <td>3</td>\n",
       "    </tr>\n",
       "    <tr>\n",
       "      <th>1</th>\n",
       "      <td>0.485635</td>\n",
       "      <td>0.029545</td>\n",
       "      <td>0.001703</td>\n",
       "      <td>0.000016</td>\n",
       "      <td>0.05</td>\n",
       "      <td>(20,)</td>\n",
       "      <td>0.01</td>\n",
       "      <td>{'alpha': 0.05, 'hidden_layer_sizes': (20,), '...</td>\n",
       "      <td>0.961424</td>\n",
       "      <td>0.943536</td>\n",
       "      <td>0.952480</td>\n",
       "      <td>0.008944</td>\n",
       "      <td>1</td>\n",
       "    </tr>\n",
       "    <tr>\n",
       "      <th>2</th>\n",
       "      <td>0.207257</td>\n",
       "      <td>0.049581</td>\n",
       "      <td>0.001574</td>\n",
       "      <td>0.000021</td>\n",
       "      <td>0.05</td>\n",
       "      <td>(20,)</td>\n",
       "      <td>0.1</td>\n",
       "      <td>{'alpha': 0.05, 'hidden_layer_sizes': (20,), '...</td>\n",
       "      <td>0.206231</td>\n",
       "      <td>0.197623</td>\n",
       "      <td>0.201927</td>\n",
       "      <td>0.004304</td>\n",
       "      <td>14</td>\n",
       "    </tr>\n",
       "    <tr>\n",
       "      <th>3</th>\n",
       "      <td>0.751563</td>\n",
       "      <td>0.004329</td>\n",
       "      <td>0.002503</td>\n",
       "      <td>0.000407</td>\n",
       "      <td>0.05</td>\n",
       "      <td>(10, 10)</td>\n",
       "      <td>0.001</td>\n",
       "      <td>{'alpha': 0.05, 'hidden_layer_sizes': (10, 10)...</td>\n",
       "      <td>0.885757</td>\n",
       "      <td>0.881129</td>\n",
       "      <td>0.883443</td>\n",
       "      <td>0.002314</td>\n",
       "      <td>6</td>\n",
       "    </tr>\n",
       "    <tr>\n",
       "      <th>4</th>\n",
       "      <td>0.616319</td>\n",
       "      <td>0.020566</td>\n",
       "      <td>0.001794</td>\n",
       "      <td>0.000014</td>\n",
       "      <td>0.05</td>\n",
       "      <td>(10, 10)</td>\n",
       "      <td>0.01</td>\n",
       "      <td>{'alpha': 0.05, 'hidden_layer_sizes': (10, 10)...</td>\n",
       "      <td>0.816024</td>\n",
       "      <td>0.860327</td>\n",
       "      <td>0.838175</td>\n",
       "      <td>0.022152</td>\n",
       "      <td>9</td>\n",
       "    </tr>\n",
       "    <tr>\n",
       "      <th>5</th>\n",
       "      <td>0.413933</td>\n",
       "      <td>0.039281</td>\n",
       "      <td>0.057791</td>\n",
       "      <td>0.056066</td>\n",
       "      <td>0.05</td>\n",
       "      <td>(10, 10)</td>\n",
       "      <td>0.1</td>\n",
       "      <td>{'alpha': 0.05, 'hidden_layer_sizes': (10, 10)...</td>\n",
       "      <td>0.307122</td>\n",
       "      <td>0.106984</td>\n",
       "      <td>0.207053</td>\n",
       "      <td>0.100069</td>\n",
       "      <td>13</td>\n",
       "    </tr>\n",
       "    <tr>\n",
       "      <th>6</th>\n",
       "      <td>0.931860</td>\n",
       "      <td>0.045915</td>\n",
       "      <td>0.002122</td>\n",
       "      <td>0.000088</td>\n",
       "      <td>0.05</td>\n",
       "      <td>(10, 5, 5)</td>\n",
       "      <td>0.001</td>\n",
       "      <td>{'alpha': 0.05, 'hidden_layer_sizes': (10, 5, ...</td>\n",
       "      <td>0.609792</td>\n",
       "      <td>0.736999</td>\n",
       "      <td>0.673395</td>\n",
       "      <td>0.063603</td>\n",
       "      <td>12</td>\n",
       "    </tr>\n",
       "    <tr>\n",
       "      <th>7</th>\n",
       "      <td>0.894108</td>\n",
       "      <td>0.075525</td>\n",
       "      <td>0.001963</td>\n",
       "      <td>0.000068</td>\n",
       "      <td>0.05</td>\n",
       "      <td>(10, 5, 5)</td>\n",
       "      <td>0.01</td>\n",
       "      <td>{'alpha': 0.05, 'hidden_layer_sizes': (10, 5, ...</td>\n",
       "      <td>0.480712</td>\n",
       "      <td>0.887073</td>\n",
       "      <td>0.683892</td>\n",
       "      <td>0.203180</td>\n",
       "      <td>11</td>\n",
       "    </tr>\n",
       "    <tr>\n",
       "      <th>8</th>\n",
       "      <td>0.465982</td>\n",
       "      <td>0.034944</td>\n",
       "      <td>0.001806</td>\n",
       "      <td>0.000014</td>\n",
       "      <td>0.05</td>\n",
       "      <td>(10, 5, 5)</td>\n",
       "      <td>0.1</td>\n",
       "      <td>{'alpha': 0.05, 'hidden_layer_sizes': (10, 5, ...</td>\n",
       "      <td>0.106825</td>\n",
       "      <td>0.106984</td>\n",
       "      <td>0.106904</td>\n",
       "      <td>0.000079</td>\n",
       "      <td>16</td>\n",
       "    </tr>\n",
       "    <tr>\n",
       "      <th>9</th>\n",
       "      <td>0.713997</td>\n",
       "      <td>0.010929</td>\n",
       "      <td>0.001968</td>\n",
       "      <td>0.000188</td>\n",
       "      <td>0.1</td>\n",
       "      <td>(20,)</td>\n",
       "      <td>0.001</td>\n",
       "      <td>{'alpha': 0.1, 'hidden_layer_sizes': (20,), 'l...</td>\n",
       "      <td>0.921365</td>\n",
       "      <td>0.943536</td>\n",
       "      <td>0.932451</td>\n",
       "      <td>0.011086</td>\n",
       "      <td>4</td>\n",
       "    </tr>\n",
       "    <tr>\n",
       "      <th>10</th>\n",
       "      <td>0.595231</td>\n",
       "      <td>0.007283</td>\n",
       "      <td>0.001680</td>\n",
       "      <td>0.000010</td>\n",
       "      <td>0.1</td>\n",
       "      <td>(20,)</td>\n",
       "      <td>0.01</td>\n",
       "      <td>{'alpha': 0.1, 'hidden_layer_sizes': (20,), 'l...</td>\n",
       "      <td>0.948071</td>\n",
       "      <td>0.943536</td>\n",
       "      <td>0.945804</td>\n",
       "      <td>0.002267</td>\n",
       "      <td>2</td>\n",
       "    </tr>\n",
       "    <tr>\n",
       "      <th>11</th>\n",
       "      <td>0.187610</td>\n",
       "      <td>0.033090</td>\n",
       "      <td>0.001538</td>\n",
       "      <td>0.000011</td>\n",
       "      <td>0.1</td>\n",
       "      <td>(20,)</td>\n",
       "      <td>0.1</td>\n",
       "      <td>{'alpha': 0.1, 'hidden_layer_sizes': (20,), 'l...</td>\n",
       "      <td>0.106825</td>\n",
       "      <td>0.285290</td>\n",
       "      <td>0.196057</td>\n",
       "      <td>0.089232</td>\n",
       "      <td>15</td>\n",
       "    </tr>\n",
       "    <tr>\n",
       "      <th>12</th>\n",
       "      <td>0.773566</td>\n",
       "      <td>0.010379</td>\n",
       "      <td>0.001824</td>\n",
       "      <td>0.000247</td>\n",
       "      <td>0.1</td>\n",
       "      <td>(10, 10)</td>\n",
       "      <td>0.001</td>\n",
       "      <td>{'alpha': 0.1, 'hidden_layer_sizes': (10, 10),...</td>\n",
       "      <td>0.830861</td>\n",
       "      <td>0.919762</td>\n",
       "      <td>0.875311</td>\n",
       "      <td>0.044451</td>\n",
       "      <td>7</td>\n",
       "    </tr>\n",
       "    <tr>\n",
       "      <th>13</th>\n",
       "      <td>0.718325</td>\n",
       "      <td>0.045511</td>\n",
       "      <td>0.001870</td>\n",
       "      <td>0.000129</td>\n",
       "      <td>0.1</td>\n",
       "      <td>(10, 10)</td>\n",
       "      <td>0.01</td>\n",
       "      <td>{'alpha': 0.1, 'hidden_layer_sizes': (10, 10),...</td>\n",
       "      <td>0.921365</td>\n",
       "      <td>0.943536</td>\n",
       "      <td>0.932451</td>\n",
       "      <td>0.011086</td>\n",
       "      <td>4</td>\n",
       "    </tr>\n",
       "    <tr>\n",
       "      <th>14</th>\n",
       "      <td>0.139564</td>\n",
       "      <td>0.041613</td>\n",
       "      <td>0.001719</td>\n",
       "      <td>0.000051</td>\n",
       "      <td>0.1</td>\n",
       "      <td>(10, 10)</td>\n",
       "      <td>0.1</td>\n",
       "      <td>{'alpha': 0.1, 'hidden_layer_sizes': (10, 10),...</td>\n",
       "      <td>0.102374</td>\n",
       "      <td>0.098068</td>\n",
       "      <td>0.100221</td>\n",
       "      <td>0.002153</td>\n",
       "      <td>18</td>\n",
       "    </tr>\n",
       "    <tr>\n",
       "      <th>15</th>\n",
       "      <td>0.889345</td>\n",
       "      <td>0.018804</td>\n",
       "      <td>0.002074</td>\n",
       "      <td>0.000114</td>\n",
       "      <td>0.1</td>\n",
       "      <td>(10, 5, 5)</td>\n",
       "      <td>0.001</td>\n",
       "      <td>{'alpha': 0.1, 'hidden_layer_sizes': (10, 5, 5...</td>\n",
       "      <td>0.851632</td>\n",
       "      <td>0.676077</td>\n",
       "      <td>0.763855</td>\n",
       "      <td>0.087777</td>\n",
       "      <td>10</td>\n",
       "    </tr>\n",
       "    <tr>\n",
       "      <th>16</th>\n",
       "      <td>0.775000</td>\n",
       "      <td>0.208933</td>\n",
       "      <td>0.002007</td>\n",
       "      <td>0.000144</td>\n",
       "      <td>0.1</td>\n",
       "      <td>(10, 5, 5)</td>\n",
       "      <td>0.01</td>\n",
       "      <td>{'alpha': 0.1, 'hidden_layer_sizes': (10, 5, 5...</td>\n",
       "      <td>0.875371</td>\n",
       "      <td>0.836553</td>\n",
       "      <td>0.855962</td>\n",
       "      <td>0.019409</td>\n",
       "      <td>8</td>\n",
       "    </tr>\n",
       "    <tr>\n",
       "      <th>17</th>\n",
       "      <td>0.645417</td>\n",
       "      <td>0.130357</td>\n",
       "      <td>0.001543</td>\n",
       "      <td>0.000302</td>\n",
       "      <td>0.1</td>\n",
       "      <td>(10, 5, 5)</td>\n",
       "      <td>0.1</td>\n",
       "      <td>{'alpha': 0.1, 'hidden_layer_sizes': (10, 5, 5...</td>\n",
       "      <td>0.100890</td>\n",
       "      <td>0.099554</td>\n",
       "      <td>0.100222</td>\n",
       "      <td>0.000668</td>\n",
       "      <td>17</td>\n",
       "    </tr>\n",
       "  </tbody>\n",
       "</table>\n",
       "</div>"
      ],
      "text/plain": [
       "    mean_fit_time  std_fit_time  mean_score_time  std_score_time param_alpha  \\\n",
       "0        0.655564      0.026068         0.002274        0.000325        0.05   \n",
       "1        0.485635      0.029545         0.001703        0.000016        0.05   \n",
       "2        0.207257      0.049581         0.001574        0.000021        0.05   \n",
       "3        0.751563      0.004329         0.002503        0.000407        0.05   \n",
       "4        0.616319      0.020566         0.001794        0.000014        0.05   \n",
       "5        0.413933      0.039281         0.057791        0.056066        0.05   \n",
       "6        0.931860      0.045915         0.002122        0.000088        0.05   \n",
       "7        0.894108      0.075525         0.001963        0.000068        0.05   \n",
       "8        0.465982      0.034944         0.001806        0.000014        0.05   \n",
       "9        0.713997      0.010929         0.001968        0.000188         0.1   \n",
       "10       0.595231      0.007283         0.001680        0.000010         0.1   \n",
       "11       0.187610      0.033090         0.001538        0.000011         0.1   \n",
       "12       0.773566      0.010379         0.001824        0.000247         0.1   \n",
       "13       0.718325      0.045511         0.001870        0.000129         0.1   \n",
       "14       0.139564      0.041613         0.001719        0.000051         0.1   \n",
       "15       0.889345      0.018804         0.002074        0.000114         0.1   \n",
       "16       0.775000      0.208933         0.002007        0.000144         0.1   \n",
       "17       0.645417      0.130357         0.001543        0.000302         0.1   \n",
       "\n",
       "   param_hidden_layer_sizes param_learning_rate_init  \\\n",
       "0                     (20,)                    0.001   \n",
       "1                     (20,)                     0.01   \n",
       "2                     (20,)                      0.1   \n",
       "3                  (10, 10)                    0.001   \n",
       "4                  (10, 10)                     0.01   \n",
       "5                  (10, 10)                      0.1   \n",
       "6                (10, 5, 5)                    0.001   \n",
       "7                (10, 5, 5)                     0.01   \n",
       "8                (10, 5, 5)                      0.1   \n",
       "9                     (20,)                    0.001   \n",
       "10                    (20,)                     0.01   \n",
       "11                    (20,)                      0.1   \n",
       "12                 (10, 10)                    0.001   \n",
       "13                 (10, 10)                     0.01   \n",
       "14                 (10, 10)                      0.1   \n",
       "15               (10, 5, 5)                    0.001   \n",
       "16               (10, 5, 5)                     0.01   \n",
       "17               (10, 5, 5)                      0.1   \n",
       "\n",
       "                                               params  split0_test_score  \\\n",
       "0   {'alpha': 0.05, 'hidden_layer_sizes': (20,), '...           0.931751   \n",
       "1   {'alpha': 0.05, 'hidden_layer_sizes': (20,), '...           0.961424   \n",
       "2   {'alpha': 0.05, 'hidden_layer_sizes': (20,), '...           0.206231   \n",
       "3   {'alpha': 0.05, 'hidden_layer_sizes': (10, 10)...           0.885757   \n",
       "4   {'alpha': 0.05, 'hidden_layer_sizes': (10, 10)...           0.816024   \n",
       "5   {'alpha': 0.05, 'hidden_layer_sizes': (10, 10)...           0.307122   \n",
       "6   {'alpha': 0.05, 'hidden_layer_sizes': (10, 5, ...           0.609792   \n",
       "7   {'alpha': 0.05, 'hidden_layer_sizes': (10, 5, ...           0.480712   \n",
       "8   {'alpha': 0.05, 'hidden_layer_sizes': (10, 5, ...           0.106825   \n",
       "9   {'alpha': 0.1, 'hidden_layer_sizes': (20,), 'l...           0.921365   \n",
       "10  {'alpha': 0.1, 'hidden_layer_sizes': (20,), 'l...           0.948071   \n",
       "11  {'alpha': 0.1, 'hidden_layer_sizes': (20,), 'l...           0.106825   \n",
       "12  {'alpha': 0.1, 'hidden_layer_sizes': (10, 10),...           0.830861   \n",
       "13  {'alpha': 0.1, 'hidden_layer_sizes': (10, 10),...           0.921365   \n",
       "14  {'alpha': 0.1, 'hidden_layer_sizes': (10, 10),...           0.102374   \n",
       "15  {'alpha': 0.1, 'hidden_layer_sizes': (10, 5, 5...           0.851632   \n",
       "16  {'alpha': 0.1, 'hidden_layer_sizes': (10, 5, 5...           0.875371   \n",
       "17  {'alpha': 0.1, 'hidden_layer_sizes': (10, 5, 5...           0.100890   \n",
       "\n",
       "    split1_test_score  mean_test_score  std_test_score  rank_test_score  \n",
       "0            0.936107         0.933929        0.002178                3  \n",
       "1            0.943536         0.952480        0.008944                1  \n",
       "2            0.197623         0.201927        0.004304               14  \n",
       "3            0.881129         0.883443        0.002314                6  \n",
       "4            0.860327         0.838175        0.022152                9  \n",
       "5            0.106984         0.207053        0.100069               13  \n",
       "6            0.736999         0.673395        0.063603               12  \n",
       "7            0.887073         0.683892        0.203180               11  \n",
       "8            0.106984         0.106904        0.000079               16  \n",
       "9            0.943536         0.932451        0.011086                4  \n",
       "10           0.943536         0.945804        0.002267                2  \n",
       "11           0.285290         0.196057        0.089232               15  \n",
       "12           0.919762         0.875311        0.044451                7  \n",
       "13           0.943536         0.932451        0.011086                4  \n",
       "14           0.098068         0.100221        0.002153               18  \n",
       "15           0.676077         0.763855        0.087777               10  \n",
       "16           0.836553         0.855962        0.019409                8  \n",
       "17           0.099554         0.100222        0.000668               17  "
      ]
     },
     "execution_count": 25,
     "metadata": {},
     "output_type": "execute_result"
    }
   ],
   "source": [
    "df = pd.DataFrame(grid.cv_results_)\n",
    "df"
   ]
  },
  {
   "cell_type": "code",
   "execution_count": 15,
   "metadata": {},
   "outputs": [
    {
     "data": {
      "text/html": [
       "<div>\n",
       "<style scoped>\n",
       "    .dataframe tbody tr th:only-of-type {\n",
       "        vertical-align: middle;\n",
       "    }\n",
       "\n",
       "    .dataframe tbody tr th {\n",
       "        vertical-align: top;\n",
       "    }\n",
       "\n",
       "    .dataframe thead th {\n",
       "        text-align: right;\n",
       "    }\n",
       "</style>\n",
       "<table border=\"1\" class=\"dataframe\">\n",
       "  <thead>\n",
       "    <tr style=\"text-align: right;\">\n",
       "      <th></th>\n",
       "      <th>mean_fit_time</th>\n",
       "      <th>std_fit_time</th>\n",
       "      <th>mean_score_time</th>\n",
       "      <th>std_score_time</th>\n",
       "      <th>param_alpha</th>\n",
       "      <th>param_hidden_layer_sizes</th>\n",
       "      <th>param_learning_rate_init</th>\n",
       "      <th>params</th>\n",
       "      <th>split0_test_score</th>\n",
       "      <th>split1_test_score</th>\n",
       "      <th>mean_test_score</th>\n",
       "      <th>std_test_score</th>\n",
       "      <th>rank_test_score</th>\n",
       "    </tr>\n",
       "  </thead>\n",
       "  <tbody>\n",
       "    <tr>\n",
       "      <th>1</th>\n",
       "      <td>0.356334</td>\n",
       "      <td>0.025611</td>\n",
       "      <td>0.001761</td>\n",
       "      <td>0.000051</td>\n",
       "      <td>0.05</td>\n",
       "      <td>(20,)</td>\n",
       "      <td>0.01</td>\n",
       "      <td>{'alpha': 0.05, 'hidden_layer_sizes': (20,), '...</td>\n",
       "      <td>0.968843</td>\n",
       "      <td>0.955423</td>\n",
       "      <td>0.962133</td>\n",
       "      <td>0.006710</td>\n",
       "      <td>1</td>\n",
       "    </tr>\n",
       "    <tr>\n",
       "      <th>10</th>\n",
       "      <td>0.451223</td>\n",
       "      <td>0.011498</td>\n",
       "      <td>0.001810</td>\n",
       "      <td>0.000088</td>\n",
       "      <td>0.1</td>\n",
       "      <td>(20,)</td>\n",
       "      <td>0.01</td>\n",
       "      <td>{'alpha': 0.1, 'hidden_layer_sizes': (20,), 'l...</td>\n",
       "      <td>0.955490</td>\n",
       "      <td>0.959881</td>\n",
       "      <td>0.957685</td>\n",
       "      <td>0.002196</td>\n",
       "      <td>2</td>\n",
       "    </tr>\n",
       "    <tr>\n",
       "      <th>0</th>\n",
       "      <td>0.658903</td>\n",
       "      <td>0.022093</td>\n",
       "      <td>0.002020</td>\n",
       "      <td>0.000182</td>\n",
       "      <td>0.05</td>\n",
       "      <td>(20,)</td>\n",
       "      <td>0.001</td>\n",
       "      <td>{'alpha': 0.05, 'hidden_layer_sizes': (20,), '...</td>\n",
       "      <td>0.948071</td>\n",
       "      <td>0.943536</td>\n",
       "      <td>0.945804</td>\n",
       "      <td>0.002267</td>\n",
       "      <td>3</td>\n",
       "    </tr>\n",
       "    <tr>\n",
       "      <th>9</th>\n",
       "      <td>0.689470</td>\n",
       "      <td>0.004162</td>\n",
       "      <td>0.001986</td>\n",
       "      <td>0.000024</td>\n",
       "      <td>0.1</td>\n",
       "      <td>(20,)</td>\n",
       "      <td>0.001</td>\n",
       "      <td>{'alpha': 0.1, 'hidden_layer_sizes': (20,), 'l...</td>\n",
       "      <td>0.924332</td>\n",
       "      <td>0.946508</td>\n",
       "      <td>0.935420</td>\n",
       "      <td>0.011088</td>\n",
       "      <td>4</td>\n",
       "    </tr>\n",
       "    <tr>\n",
       "      <th>12</th>\n",
       "      <td>0.795776</td>\n",
       "      <td>0.009247</td>\n",
       "      <td>0.002097</td>\n",
       "      <td>0.000073</td>\n",
       "      <td>0.1</td>\n",
       "      <td>(10, 10)</td>\n",
       "      <td>0.001</td>\n",
       "      <td>{'alpha': 0.1, 'hidden_layer_sizes': (10, 10),...</td>\n",
       "      <td>0.925816</td>\n",
       "      <td>0.878158</td>\n",
       "      <td>0.901987</td>\n",
       "      <td>0.023829</td>\n",
       "      <td>5</td>\n",
       "    </tr>\n",
       "  </tbody>\n",
       "</table>\n",
       "</div>"
      ],
      "text/plain": [
       "    mean_fit_time  std_fit_time  mean_score_time  std_score_time param_alpha  \\\n",
       "1        0.356334      0.025611         0.001761        0.000051        0.05   \n",
       "10       0.451223      0.011498         0.001810        0.000088         0.1   \n",
       "0        0.658903      0.022093         0.002020        0.000182        0.05   \n",
       "9        0.689470      0.004162         0.001986        0.000024         0.1   \n",
       "12       0.795776      0.009247         0.002097        0.000073         0.1   \n",
       "\n",
       "   param_hidden_layer_sizes param_learning_rate_init  \\\n",
       "1                     (20,)                     0.01   \n",
       "10                    (20,)                     0.01   \n",
       "0                     (20,)                    0.001   \n",
       "9                     (20,)                    0.001   \n",
       "12                 (10, 10)                    0.001   \n",
       "\n",
       "                                               params  split0_test_score  \\\n",
       "1   {'alpha': 0.05, 'hidden_layer_sizes': (20,), '...           0.968843   \n",
       "10  {'alpha': 0.1, 'hidden_layer_sizes': (20,), 'l...           0.955490   \n",
       "0   {'alpha': 0.05, 'hidden_layer_sizes': (20,), '...           0.948071   \n",
       "9   {'alpha': 0.1, 'hidden_layer_sizes': (20,), 'l...           0.924332   \n",
       "12  {'alpha': 0.1, 'hidden_layer_sizes': (10, 10),...           0.925816   \n",
       "\n",
       "    split1_test_score  mean_test_score  std_test_score  rank_test_score  \n",
       "1            0.955423         0.962133        0.006710                1  \n",
       "10           0.959881         0.957685        0.002196                2  \n",
       "0            0.943536         0.945804        0.002267                3  \n",
       "9            0.946508         0.935420        0.011088                4  \n",
       "12           0.878158         0.901987        0.023829                5  "
      ]
     },
     "execution_count": 15,
     "metadata": {},
     "output_type": "execute_result"
    }
   ],
   "source": [
    "df.sort_values(by='mean_test_score', ascending=False).head()"
   ]
  },
  {
   "cell_type": "code",
   "execution_count": 16,
   "metadata": {},
   "outputs": [
    {
     "data": {
      "text/html": [
       "<div>\n",
       "<style scoped>\n",
       "    .dataframe tbody tr th:only-of-type {\n",
       "        vertical-align: middle;\n",
       "    }\n",
       "\n",
       "    .dataframe tbody tr th {\n",
       "        vertical-align: top;\n",
       "    }\n",
       "\n",
       "    .dataframe thead th {\n",
       "        text-align: right;\n",
       "    }\n",
       "</style>\n",
       "<table border=\"1\" class=\"dataframe\">\n",
       "  <thead>\n",
       "    <tr style=\"text-align: right;\">\n",
       "      <th></th>\n",
       "      <th>mean_fit_time</th>\n",
       "      <th>std_fit_time</th>\n",
       "      <th>mean_score_time</th>\n",
       "      <th>std_score_time</th>\n",
       "      <th>split0_test_score</th>\n",
       "      <th>split1_test_score</th>\n",
       "      <th>mean_test_score</th>\n",
       "      <th>std_test_score</th>\n",
       "      <th>rank_test_score</th>\n",
       "    </tr>\n",
       "  </thead>\n",
       "  <tbody>\n",
       "    <tr>\n",
       "      <th>count</th>\n",
       "      <td>18.000000</td>\n",
       "      <td>18.000000</td>\n",
       "      <td>18.000000</td>\n",
       "      <td>1.800000e+01</td>\n",
       "      <td>18.000000</td>\n",
       "      <td>18.000000</td>\n",
       "      <td>18.000000</td>\n",
       "      <td>18.000000</td>\n",
       "      <td>18.000000</td>\n",
       "    </tr>\n",
       "    <tr>\n",
       "      <th>mean</th>\n",
       "      <td>0.560641</td>\n",
       "      <td>0.063787</td>\n",
       "      <td>0.001974</td>\n",
       "      <td>1.334614e-04</td>\n",
       "      <td>0.600561</td>\n",
       "      <td>0.613918</td>\n",
       "      <td>0.607239</td>\n",
       "      <td>0.030697</td>\n",
       "      <td>9.500000</td>\n",
       "    </tr>\n",
       "    <tr>\n",
       "      <th>std</th>\n",
       "      <td>0.234117</td>\n",
       "      <td>0.077961</td>\n",
       "      <td>0.000308</td>\n",
       "      <td>2.166169e-04</td>\n",
       "      <td>0.363876</td>\n",
       "      <td>0.377108</td>\n",
       "      <td>0.365929</td>\n",
       "      <td>0.049536</td>\n",
       "      <td>5.338539</td>\n",
       "    </tr>\n",
       "    <tr>\n",
       "      <th>min</th>\n",
       "      <td>0.138480</td>\n",
       "      <td>0.003014</td>\n",
       "      <td>0.001564</td>\n",
       "      <td>5.960464e-07</td>\n",
       "      <td>0.102374</td>\n",
       "      <td>0.098068</td>\n",
       "      <td>0.100221</td>\n",
       "      <td>0.000079</td>\n",
       "      <td>1.000000</td>\n",
       "    </tr>\n",
       "    <tr>\n",
       "      <th>25%</th>\n",
       "      <td>0.400904</td>\n",
       "      <td>0.013011</td>\n",
       "      <td>0.001767</td>\n",
       "      <td>1.591444e-05</td>\n",
       "      <td>0.193991</td>\n",
       "      <td>0.106984</td>\n",
       "      <td>0.147516</td>\n",
       "      <td>0.002452</td>\n",
       "      <td>5.250000</td>\n",
       "    </tr>\n",
       "    <tr>\n",
       "      <th>50%</th>\n",
       "      <td>0.589079</td>\n",
       "      <td>0.028774</td>\n",
       "      <td>0.001934</td>\n",
       "      <td>6.347895e-05</td>\n",
       "      <td>0.814540</td>\n",
       "      <td>0.836553</td>\n",
       "      <td>0.803253</td>\n",
       "      <td>0.009665</td>\n",
       "      <td>9.500000</td>\n",
       "    </tr>\n",
       "    <tr>\n",
       "      <th>75%</th>\n",
       "      <td>0.770717</td>\n",
       "      <td>0.094986</td>\n",
       "      <td>0.002086</td>\n",
       "      <td>1.327693e-04</td>\n",
       "      <td>0.912092</td>\n",
       "      <td>0.890416</td>\n",
       "      <td>0.897724</td>\n",
       "      <td>0.042199</td>\n",
       "      <td>13.750000</td>\n",
       "    </tr>\n",
       "    <tr>\n",
       "      <th>max</th>\n",
       "      <td>0.907367</td>\n",
       "      <td>0.304476</td>\n",
       "      <td>0.002682</td>\n",
       "      <td>8.713007e-04</td>\n",
       "      <td>0.968843</td>\n",
       "      <td>0.959881</td>\n",
       "      <td>0.962133</td>\n",
       "      <td>0.204625</td>\n",
       "      <td>18.000000</td>\n",
       "    </tr>\n",
       "  </tbody>\n",
       "</table>\n",
       "</div>"
      ],
      "text/plain": [
       "       mean_fit_time  std_fit_time  mean_score_time  std_score_time  \\\n",
       "count      18.000000     18.000000        18.000000    1.800000e+01   \n",
       "mean        0.560641      0.063787         0.001974    1.334614e-04   \n",
       "std         0.234117      0.077961         0.000308    2.166169e-04   \n",
       "min         0.138480      0.003014         0.001564    5.960464e-07   \n",
       "25%         0.400904      0.013011         0.001767    1.591444e-05   \n",
       "50%         0.589079      0.028774         0.001934    6.347895e-05   \n",
       "75%         0.770717      0.094986         0.002086    1.327693e-04   \n",
       "max         0.907367      0.304476         0.002682    8.713007e-04   \n",
       "\n",
       "       split0_test_score  split1_test_score  mean_test_score  std_test_score  \\\n",
       "count          18.000000          18.000000        18.000000       18.000000   \n",
       "mean            0.600561           0.613918         0.607239        0.030697   \n",
       "std             0.363876           0.377108         0.365929        0.049536   \n",
       "min             0.102374           0.098068         0.100221        0.000079   \n",
       "25%             0.193991           0.106984         0.147516        0.002452   \n",
       "50%             0.814540           0.836553         0.803253        0.009665   \n",
       "75%             0.912092           0.890416         0.897724        0.042199   \n",
       "max             0.968843           0.959881         0.962133        0.204625   \n",
       "\n",
       "       rank_test_score  \n",
       "count        18.000000  \n",
       "mean          9.500000  \n",
       "std           5.338539  \n",
       "min           1.000000  \n",
       "25%           5.250000  \n",
       "50%           9.500000  \n",
       "75%          13.750000  \n",
       "max          18.000000  "
      ]
     },
     "execution_count": 16,
     "metadata": {},
     "output_type": "execute_result"
    }
   ],
   "source": [
    "df.describe()"
   ]
  },
  {
   "cell_type": "markdown",
   "metadata": {},
   "source": [
    "- si può attivare una metrica custom (vedi scoring al costruttore della Grid)\n",
    " - di default è accuracy per i classificatori e r2 per i regresssori"
   ]
  },
  {
   "cell_type": "code",
   "execution_count": null,
   "metadata": {},
   "outputs": [],
   "source": []
  }
 ],
 "metadata": {
  "kernelspec": {
   "display_name": "Python 3",
   "language": "python",
   "name": "python3"
  },
  "language_info": {
   "codemirror_mode": {
    "name": "ipython",
    "version": 3
   },
   "file_extension": ".py",
   "mimetype": "text/x-python",
   "name": "python",
   "nbconvert_exporter": "python",
   "pygments_lexer": "ipython3",
   "version": "3.8.2"
  }
 },
 "nbformat": 4,
 "nbformat_minor": 4
}
