{
 "cells": [
  {
   "cell_type": "markdown",
   "metadata": {},
   "source": [
    "- separare in train e test set rivela i casi di overfitting\n",
    " - ma se faccio tanti esperimenti posso avere dei leak (perchè guardo continuamente le misure di test)\n",
    " - inoltre non so mai se un risultato è dovuto a una suddivisione fortunata più che alle mie scelte\n",
    "- posso separare in train, validation e test, ma:\n",
    " - i dati diminuiscono\n",
    " - devo cmq trovare il modo di ripetere l'esperimento con set diversi\n",
    "- k-fold ci salva dal problema!\n",
    " - usa tutti i dati di training, costruendo k modelli\n",
    " - ripete più volte l'esperimento e ho statistiche di performance\n",
    " - una volta trovato il modello e le opzioni ideali, addestro su tutto il training e verifico sul test\n",
    " \n",
    "[figure scikit](https://scikit-learn.org/stable/modules/cross_validation.html)"
   ]
  },
  {
   "cell_type": "code",
   "execution_count": 61,
   "metadata": {},
   "outputs": [],
   "source": [
    "from sklearn.model_selection import train_test_split, cross_validate\n",
    "from sklearn.datasets import load_digits\n",
    "from sklearn.tree import DecisionTreeClassifier\n",
    "import matplotlib.pyplot as plt\n",
    "import numpy as np\n",
    "import pandas as pd\n",
    "import seaborn as sns"
   ]
  },
  {
   "cell_type": "code",
   "execution_count": 62,
   "metadata": {},
   "outputs": [],
   "source": [
    "X, y = load_digits(return_X_y=True)\n",
    "X_train, X_test, y_train, y_test = train_test_split(X, y)"
   ]
  },
  {
   "cell_type": "code",
   "execution_count": 63,
   "metadata": {},
   "outputs": [],
   "source": [
    "tree_max_depth = 6\n",
    "model = DecisionTreeClassifier(max_depth=tree_max_depth)"
   ]
  },
  {
   "cell_type": "markdown",
   "metadata": {},
   "source": [
    "Qui posso lavorare sulle feature quanto voglio senza paura di leak"
   ]
  },
  {
   "cell_type": "code",
   "execution_count": 69,
   "metadata": {},
   "outputs": [],
   "source": [
    "\n",
    "kfold_scores = cross_validate(model, X_train, y_train, cv=10,\n",
    "                             scoring=['accuracy', 'precision_macro', 'recall_macro'], # macro per il multiclass\n",
    "                             return_train_score=True, # altrimenti misura solo il test\n",
    "                             #return_estimator=True   # restituisce i modelli addestrati\n",
    "                        )"
   ]
  },
  {
   "cell_type": "code",
   "execution_count": 70,
   "metadata": {},
   "outputs": [
    {
     "data": {
      "text/plain": [
       "{'fit_time': array([0.01528716, 0.01323199, 0.01226044, 0.01172781, 0.01136899,\n",
       "        0.01080394, 0.01071262, 0.01255679, 0.01076055, 0.01150298]),\n",
       " 'score_time': array([0.00512695, 0.00448203, 0.00227857, 0.00238657, 0.00271177,\n",
       "        0.00230718, 0.00198793, 0.0022068 , 0.00238347, 0.00237083]),\n",
       " 'test_accuracy': array([0.74814815, 0.79259259, 0.75555556, 0.72592593, 0.79259259,\n",
       "        0.84444444, 0.74814815, 0.78358209, 0.82089552, 0.76119403]),\n",
       " 'train_accuracy': array([0.80858086, 0.87376238, 0.81188119, 0.83333333, 0.86551155,\n",
       "        0.85561056, 0.80940594, 0.86644683, 0.82605111, 0.87139324]),\n",
       " 'test_precision_macro': array([0.76243321, 0.81907671, 0.81116883, 0.75160747, 0.82028888,\n",
       "        0.86299603, 0.81143665, 0.81732705, 0.83085317, 0.79246139]),\n",
       " 'train_precision_macro': array([0.85622852, 0.88447437, 0.85780535, 0.86061044, 0.88873137,\n",
       "        0.87091295, 0.85932515, 0.87986288, 0.85573648, 0.88821433]),\n",
       " 'test_recall_macro': array([0.74767399, 0.79622711, 0.75637363, 0.72750916, 0.79661172,\n",
       "        0.84765568, 0.75064103, 0.77868132, 0.82192308, 0.75655678]),\n",
       " 'train_recall_macro': array([0.81019748, 0.87474183, 0.81315389, 0.83637332, 0.86508823,\n",
       "        0.8542629 , 0.81027946, 0.86551727, 0.82762639, 0.86991584])}"
      ]
     },
     "execution_count": 70,
     "metadata": {},
     "output_type": "execute_result"
    }
   ],
   "source": [
    "kfold_scores"
   ]
  },
  {
   "cell_type": "code",
   "execution_count": 71,
   "metadata": {},
   "outputs": [
    {
     "data": {
      "text/html": [
       "<div>\n",
       "<style scoped>\n",
       "    .dataframe tbody tr th:only-of-type {\n",
       "        vertical-align: middle;\n",
       "    }\n",
       "\n",
       "    .dataframe tbody tr th {\n",
       "        vertical-align: top;\n",
       "    }\n",
       "\n",
       "    .dataframe thead th {\n",
       "        text-align: right;\n",
       "    }\n",
       "</style>\n",
       "<table border=\"1\" class=\"dataframe\">\n",
       "  <thead>\n",
       "    <tr style=\"text-align: right;\">\n",
       "      <th></th>\n",
       "      <th>fit_time</th>\n",
       "      <th>score_time</th>\n",
       "      <th>test_accuracy</th>\n",
       "      <th>train_accuracy</th>\n",
       "      <th>test_precision_macro</th>\n",
       "      <th>train_precision_macro</th>\n",
       "      <th>test_recall_macro</th>\n",
       "      <th>train_recall_macro</th>\n",
       "    </tr>\n",
       "  </thead>\n",
       "  <tbody>\n",
       "    <tr>\n",
       "      <th>0</th>\n",
       "      <td>0.015287</td>\n",
       "      <td>0.005127</td>\n",
       "      <td>0.748148</td>\n",
       "      <td>0.808581</td>\n",
       "      <td>0.762433</td>\n",
       "      <td>0.856229</td>\n",
       "      <td>0.747674</td>\n",
       "      <td>0.810197</td>\n",
       "    </tr>\n",
       "    <tr>\n",
       "      <th>1</th>\n",
       "      <td>0.013232</td>\n",
       "      <td>0.004482</td>\n",
       "      <td>0.792593</td>\n",
       "      <td>0.873762</td>\n",
       "      <td>0.819077</td>\n",
       "      <td>0.884474</td>\n",
       "      <td>0.796227</td>\n",
       "      <td>0.874742</td>\n",
       "    </tr>\n",
       "    <tr>\n",
       "      <th>2</th>\n",
       "      <td>0.012260</td>\n",
       "      <td>0.002279</td>\n",
       "      <td>0.755556</td>\n",
       "      <td>0.811881</td>\n",
       "      <td>0.811169</td>\n",
       "      <td>0.857805</td>\n",
       "      <td>0.756374</td>\n",
       "      <td>0.813154</td>\n",
       "    </tr>\n",
       "    <tr>\n",
       "      <th>3</th>\n",
       "      <td>0.011728</td>\n",
       "      <td>0.002387</td>\n",
       "      <td>0.725926</td>\n",
       "      <td>0.833333</td>\n",
       "      <td>0.751607</td>\n",
       "      <td>0.860610</td>\n",
       "      <td>0.727509</td>\n",
       "      <td>0.836373</td>\n",
       "    </tr>\n",
       "    <tr>\n",
       "      <th>4</th>\n",
       "      <td>0.011369</td>\n",
       "      <td>0.002712</td>\n",
       "      <td>0.792593</td>\n",
       "      <td>0.865512</td>\n",
       "      <td>0.820289</td>\n",
       "      <td>0.888731</td>\n",
       "      <td>0.796612</td>\n",
       "      <td>0.865088</td>\n",
       "    </tr>\n",
       "    <tr>\n",
       "      <th>5</th>\n",
       "      <td>0.010804</td>\n",
       "      <td>0.002307</td>\n",
       "      <td>0.844444</td>\n",
       "      <td>0.855611</td>\n",
       "      <td>0.862996</td>\n",
       "      <td>0.870913</td>\n",
       "      <td>0.847656</td>\n",
       "      <td>0.854263</td>\n",
       "    </tr>\n",
       "    <tr>\n",
       "      <th>6</th>\n",
       "      <td>0.010713</td>\n",
       "      <td>0.001988</td>\n",
       "      <td>0.748148</td>\n",
       "      <td>0.809406</td>\n",
       "      <td>0.811437</td>\n",
       "      <td>0.859325</td>\n",
       "      <td>0.750641</td>\n",
       "      <td>0.810279</td>\n",
       "    </tr>\n",
       "    <tr>\n",
       "      <th>7</th>\n",
       "      <td>0.012557</td>\n",
       "      <td>0.002207</td>\n",
       "      <td>0.783582</td>\n",
       "      <td>0.866447</td>\n",
       "      <td>0.817327</td>\n",
       "      <td>0.879863</td>\n",
       "      <td>0.778681</td>\n",
       "      <td>0.865517</td>\n",
       "    </tr>\n",
       "    <tr>\n",
       "      <th>8</th>\n",
       "      <td>0.010761</td>\n",
       "      <td>0.002383</td>\n",
       "      <td>0.820896</td>\n",
       "      <td>0.826051</td>\n",
       "      <td>0.830853</td>\n",
       "      <td>0.855736</td>\n",
       "      <td>0.821923</td>\n",
       "      <td>0.827626</td>\n",
       "    </tr>\n",
       "    <tr>\n",
       "      <th>9</th>\n",
       "      <td>0.011503</td>\n",
       "      <td>0.002371</td>\n",
       "      <td>0.761194</td>\n",
       "      <td>0.871393</td>\n",
       "      <td>0.792461</td>\n",
       "      <td>0.888214</td>\n",
       "      <td>0.756557</td>\n",
       "      <td>0.869916</td>\n",
       "    </tr>\n",
       "  </tbody>\n",
       "</table>\n",
       "</div>"
      ],
      "text/plain": [
       "   fit_time  score_time  test_accuracy  train_accuracy  test_precision_macro  \\\n",
       "0  0.015287    0.005127       0.748148        0.808581              0.762433   \n",
       "1  0.013232    0.004482       0.792593        0.873762              0.819077   \n",
       "2  0.012260    0.002279       0.755556        0.811881              0.811169   \n",
       "3  0.011728    0.002387       0.725926        0.833333              0.751607   \n",
       "4  0.011369    0.002712       0.792593        0.865512              0.820289   \n",
       "5  0.010804    0.002307       0.844444        0.855611              0.862996   \n",
       "6  0.010713    0.001988       0.748148        0.809406              0.811437   \n",
       "7  0.012557    0.002207       0.783582        0.866447              0.817327   \n",
       "8  0.010761    0.002383       0.820896        0.826051              0.830853   \n",
       "9  0.011503    0.002371       0.761194        0.871393              0.792461   \n",
       "\n",
       "   train_precision_macro  test_recall_macro  train_recall_macro  \n",
       "0               0.856229           0.747674            0.810197  \n",
       "1               0.884474           0.796227            0.874742  \n",
       "2               0.857805           0.756374            0.813154  \n",
       "3               0.860610           0.727509            0.836373  \n",
       "4               0.888731           0.796612            0.865088  \n",
       "5               0.870913           0.847656            0.854263  \n",
       "6               0.859325           0.750641            0.810279  \n",
       "7               0.879863           0.778681            0.865517  \n",
       "8               0.855736           0.821923            0.827626  \n",
       "9               0.888214           0.756557            0.869916  "
      ]
     },
     "execution_count": 71,
     "metadata": {},
     "output_type": "execute_result"
    }
   ],
   "source": [
    "df = pd.DataFrame(kfold_scores)\n",
    "df"
   ]
  },
  {
   "cell_type": "code",
   "execution_count": 72,
   "metadata": {},
   "outputs": [
    {
     "data": {
      "text/plain": [
       "<matplotlib.axes._subplots.AxesSubplot at 0x7f9cd1719250>"
      ]
     },
     "execution_count": 72,
     "metadata": {},
     "output_type": "execute_result"
    },
    {
     "data": {
      "image/png": "[encoded data removed]",
      "text/plain": [
       "<Figure size 432x288 with 1 Axes>"
      ]
     },
     "metadata": {
      "needs_background": "light"
     },
     "output_type": "display_data"
    }
   ],
   "source": [
    "metrics = ['train_accuracy', 'test_accuracy', 'test_precision_macro']\n",
    "df[ metrics ].plot.bar()"
   ]
  },
  {
   "cell_type": "code",
   "execution_count": 59,
   "metadata": {},
   "outputs": [
    {
     "data": {
      "text/plain": [
       "<matplotlib.axes._subplots.AxesSubplot at 0x7f9cd156df10>"
      ]
     },
     "execution_count": 59,
     "metadata": {},
     "output_type": "execute_result"
    },
    {
     "data": {
      "image/png": "[encoded data removed]",
      "text/plain": [
       "<Figure size 432x288 with 1 Axes>"
      ]
     },
     "metadata": {
      "needs_background": "light"
     },
     "output_type": "display_data"
    }
   ],
   "source": [
    "df['id'] = df.index\n",
    "df_melted = df.melt(id_vars=['id'], value_vars=metrics)\n",
    "#df_melted\n",
    "sns.barplot(data=df_melted, x='id', y='value', hue='variable')"
   ]
  },
  {
   "cell_type": "code",
   "execution_count": 60,
   "metadata": {},
   "outputs": [
    {
     "data": {
      "text/html": [
       "<div>\n",
       "<style scoped>\n",
       "    .dataframe tbody tr th:only-of-type {\n",
       "        vertical-align: middle;\n",
       "    }\n",
       "\n",
       "    .dataframe tbody tr th {\n",
       "        vertical-align: top;\n",
       "    }\n",
       "\n",
       "    .dataframe thead th {\n",
       "        text-align: right;\n",
       "    }\n",
       "</style>\n",
       "<table border=\"1\" class=\"dataframe\">\n",
       "  <thead>\n",
       "    <tr style=\"text-align: right;\">\n",
       "      <th></th>\n",
       "      <th>fit_time</th>\n",
       "      <th>score_time</th>\n",
       "      <th>test_accuracy</th>\n",
       "      <th>train_accuracy</th>\n",
       "      <th>test_precision_macro</th>\n",
       "      <th>train_precision_macro</th>\n",
       "      <th>test_recall_macro</th>\n",
       "      <th>train_recall_macro</th>\n",
       "      <th>id</th>\n",
       "    </tr>\n",
       "  </thead>\n",
       "  <tbody>\n",
       "    <tr>\n",
       "      <th>count</th>\n",
       "      <td>10.000000</td>\n",
       "      <td>10.000000</td>\n",
       "      <td>10.000000</td>\n",
       "      <td>10.000000</td>\n",
       "      <td>10.000000</td>\n",
       "      <td>10.000000</td>\n",
       "      <td>10.000000</td>\n",
       "      <td>10.000000</td>\n",
       "      <td>10.00000</td>\n",
       "    </tr>\n",
       "    <tr>\n",
       "      <th>mean</th>\n",
       "      <td>0.011691</td>\n",
       "      <td>0.002252</td>\n",
       "      <td>0.766130</td>\n",
       "      <td>0.830240</td>\n",
       "      <td>0.790677</td>\n",
       "      <td>0.849586</td>\n",
       "      <td>0.767810</td>\n",
       "      <td>0.831302</td>\n",
       "      <td>4.50000</td>\n",
       "    </tr>\n",
       "    <tr>\n",
       "      <th>std</th>\n",
       "      <td>0.001327</td>\n",
       "      <td>0.000372</td>\n",
       "      <td>0.026589</td>\n",
       "      <td>0.013086</td>\n",
       "      <td>0.021475</td>\n",
       "      <td>0.004643</td>\n",
       "      <td>0.025898</td>\n",
       "      <td>0.013025</td>\n",
       "      <td>3.02765</td>\n",
       "    </tr>\n",
       "    <tr>\n",
       "      <th>min</th>\n",
       "      <td>0.010491</td>\n",
       "      <td>0.001964</td>\n",
       "      <td>0.718519</td>\n",
       "      <td>0.795380</td>\n",
       "      <td>0.759632</td>\n",
       "      <td>0.842455</td>\n",
       "      <td>0.720586</td>\n",
       "      <td>0.796059</td>\n",
       "      <td>0.00000</td>\n",
       "    </tr>\n",
       "    <tr>\n",
       "      <th>25%</th>\n",
       "      <td>0.010598</td>\n",
       "      <td>0.001978</td>\n",
       "      <td>0.748134</td>\n",
       "      <td>0.833643</td>\n",
       "      <td>0.775631</td>\n",
       "      <td>0.846193</td>\n",
       "      <td>0.750160</td>\n",
       "      <td>0.834617</td>\n",
       "      <td>2.25000</td>\n",
       "    </tr>\n",
       "    <tr>\n",
       "      <th>50%</th>\n",
       "      <td>0.011087</td>\n",
       "      <td>0.002060</td>\n",
       "      <td>0.770370</td>\n",
       "      <td>0.834158</td>\n",
       "      <td>0.795295</td>\n",
       "      <td>0.848835</td>\n",
       "      <td>0.772738</td>\n",
       "      <td>0.835307</td>\n",
       "      <td>4.50000</td>\n",
       "    </tr>\n",
       "    <tr>\n",
       "      <th>75%</th>\n",
       "      <td>0.012846</td>\n",
       "      <td>0.002447</td>\n",
       "      <td>0.782919</td>\n",
       "      <td>0.836735</td>\n",
       "      <td>0.805431</td>\n",
       "      <td>0.853388</td>\n",
       "      <td>0.782720</td>\n",
       "      <td>0.837653</td>\n",
       "      <td>6.75000</td>\n",
       "    </tr>\n",
       "    <tr>\n",
       "      <th>max</th>\n",
       "      <td>0.014106</td>\n",
       "      <td>0.003093</td>\n",
       "      <td>0.807407</td>\n",
       "      <td>0.838284</td>\n",
       "      <td>0.825318</td>\n",
       "      <td>0.857315</td>\n",
       "      <td>0.808718</td>\n",
       "      <td>0.838821</td>\n",
       "      <td>9.00000</td>\n",
       "    </tr>\n",
       "  </tbody>\n",
       "</table>\n",
       "</div>"
      ],
      "text/plain": [
       "        fit_time  score_time  test_accuracy  train_accuracy  \\\n",
       "count  10.000000   10.000000      10.000000       10.000000   \n",
       "mean    0.011691    0.002252       0.766130        0.830240   \n",
       "std     0.001327    0.000372       0.026589        0.013086   \n",
       "min     0.010491    0.001964       0.718519        0.795380   \n",
       "25%     0.010598    0.001978       0.748134        0.833643   \n",
       "50%     0.011087    0.002060       0.770370        0.834158   \n",
       "75%     0.012846    0.002447       0.782919        0.836735   \n",
       "max     0.014106    0.003093       0.807407        0.838284   \n",
       "\n",
       "       test_precision_macro  train_precision_macro  test_recall_macro  \\\n",
       "count             10.000000              10.000000          10.000000   \n",
       "mean               0.790677               0.849586           0.767810   \n",
       "std                0.021475               0.004643           0.025898   \n",
       "min                0.759632               0.842455           0.720586   \n",
       "25%                0.775631               0.846193           0.750160   \n",
       "50%                0.795295               0.848835           0.772738   \n",
       "75%                0.805431               0.853388           0.782720   \n",
       "max                0.825318               0.857315           0.808718   \n",
       "\n",
       "       train_recall_macro        id  \n",
       "count           10.000000  10.00000  \n",
       "mean             0.831302   4.50000  \n",
       "std              0.013025   3.02765  \n",
       "min              0.796059   0.00000  \n",
       "25%              0.834617   2.25000  \n",
       "50%              0.835307   4.50000  \n",
       "75%              0.837653   6.75000  \n",
       "max              0.838821   9.00000  "
      ]
     },
     "execution_count": 60,
     "metadata": {},
     "output_type": "execute_result"
    }
   ],
   "source": [
    "df.describe()"
   ]
  },
  {
   "cell_type": "markdown",
   "metadata": {},
   "source": [
    "- Adesso posso cambiare gli iperparametri dell'albero di decisione senza aver paura che ci siano leak\n",
    "- più in là vedremo come trovare i valori degli iperparametri con la *grid search*"
   ]
  },
  {
   "cell_type": "code",
   "execution_count": 77,
   "metadata": {},
   "outputs": [
    {
     "data": {
      "text/plain": [
       "0.7888888888888889"
      ]
     },
     "execution_count": 77,
     "metadata": {},
     "output_type": "execute_result"
    }
   ],
   "source": [
    "model = DecisionTreeClassifier(max_depth=tree_max_depth)\n",
    "\n",
    "model.fit(X_train, y_train)\n",
    "model.score(X_test, y_test) # .score da introdurre"
   ]
  },
  {
   "cell_type": "markdown",
   "metadata": {},
   "source": [
    "Questo punteggio è ottenuto utilizzando in modo appropriato la validazione"
   ]
  },
  {
   "cell_type": "code",
   "execution_count": null,
   "metadata": {},
   "outputs": [],
   "source": []
  }
 ],
 "metadata": {
  "kernelspec": {
   "display_name": "Python 3",
   "language": "python",
   "name": "python3"
  },
  "language_info": {
   "codemirror_mode": {
    "name": "ipython",
    "version": 3
   },
   "file_extension": ".py",
   "mimetype": "text/x-python",
   "name": "python",
   "nbconvert_exporter": "python",
   "pygments_lexer": "ipython3",
   "version": "3.8.2"
  }
 },
 "nbformat": 4,
 "nbformat_minor": 4
}
