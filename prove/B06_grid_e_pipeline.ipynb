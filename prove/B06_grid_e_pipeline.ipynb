{
 "cells": [
  {
   "cell_type": "markdown",
   "metadata": {},
   "source": [
    "- come combinare la grid search con la pipeline (e in automatico cross validation)\n",
    "- esempio sentiment analysis\n",
    "- settare gli iperparametri degli step della pipeline\n",
    "- skippare o includere gli step della pipeline"
   ]
  },
  {
   "cell_type": "code",
   "execution_count": 1,
   "metadata": {},
   "outputs": [],
   "source": [
    "import pandas as pd\n",
    "import seaborn as sns\n",
    "\n",
    "from sklearn.datasets import fetch_california_housing\n",
    "\n",
    "from sklearn.pipeline import Pipeline\n",
    "from sklearn.preprocessing import MinMaxScaler, Normalizer\n",
    "\n",
    "from sklearn.model_selection import train_test_split\n",
    "from sklearn.model_selection import GridSearchCV\n",
    "from sklearn.neighbors import KNeighborsRegressor\n",
    "\n",
    "from sklearn import set_config\n",
    "set_config(display='diagram')"
   ]
  },
  {
   "cell_type": "code",
   "execution_count": 2,
   "metadata": {},
   "outputs": [],
   "source": [
    "X, y = fetch_california_housing(return_X_y=True)"
   ]
  },
  {
   "cell_type": "code",
   "execution_count": 3,
   "metadata": {},
   "outputs": [],
   "source": [
    "X_train, X_test, y_train, y_test = train_test_split(X, y)"
   ]
  },
  {
   "cell_type": "code",
   "execution_count": 4,
   "metadata": {},
   "outputs": [],
   "source": [
    "steps = [\n",
    "    ( 'scaler', MinMaxScaler() ),\n",
    "    ( 'normalizer', Normalizer() ),\n",
    "    ( 'model', KNeighborsRegressor() )\n",
    "]"
   ]
  },
  {
   "cell_type": "code",
   "execution_count": 5,
   "metadata": {},
   "outputs": [],
   "source": [
    "pipeline = Pipeline(steps)"
   ]
  },
  {
   "cell_type": "code",
   "execution_count": 6,
   "metadata": {},
   "outputs": [
    {
     "data": {
      "text/html": [
       "<style>div.sk-top-container {color: black;background-color: white;}div.sk-toggleable {background-color: white;}label.sk-toggleable__label {cursor: pointer;display: block;width: 100%;margin-bottom: 0;padding: 0.2em 0.3em;box-sizing: border-box;text-align: center;}div.sk-toggleable__content {max-height: 0;max-width: 0;overflow: hidden;text-align: left;background-color: #f0f8ff;}div.sk-toggleable__content pre {margin: 0.2em;color: black;border-radius: 0.25em;background-color: #f0f8ff;}input.sk-toggleable__control:checked~div.sk-toggleable__content {max-height: 200px;max-width: 100%;overflow: auto;}div.sk-estimator input.sk-toggleable__control:checked~label.sk-toggleable__label {background-color: #d4ebff;}div.sk-label input.sk-toggleable__control:checked~label.sk-toggleable__label {background-color: #d4ebff;}input.sk-hidden--visually {border: 0;clip: rect(1px 1px 1px 1px);clip: rect(1px, 1px, 1px, 1px);height: 1px;margin: -1px;overflow: hidden;padding: 0;position: absolute;width: 1px;}div.sk-estimator {font-family: monospace;background-color: #f0f8ff;margin: 0.25em 0.25em;border: 1px dotted black;border-radius: 0.25em;box-sizing: border-box;}div.sk-estimator:hover {background-color: #d4ebff;}div.sk-parallel-item::after {content: \"\";width: 100%;border-bottom: 1px solid gray;flex-grow: 1;}div.sk-label:hover label.sk-toggleable__label {background-color: #d4ebff;}div.sk-serial::before {content: \"\";position: absolute;border-left: 1px solid gray;box-sizing: border-box;top: 2em;bottom: 0;left: 50%;}div.sk-serial {display: flex;flex-direction: column;align-items: center;background-color: white;}div.sk-item {z-index: 1;}div.sk-parallel {display: flex;align-items: stretch;justify-content: center;background-color: white;}div.sk-parallel-item {display: flex;flex-direction: column;position: relative;background-color: white;}div.sk-parallel-item:first-child::after {align-self: flex-end;width: 50%;}div.sk-parallel-item:last-child::after {align-self: flex-start;width: 50%;}div.sk-parallel-item:only-child::after {width: 0;}div.sk-dashed-wrapped {border: 1px dashed gray;margin: 0.2em;box-sizing: border-box;padding-bottom: 0.1em;background-color: white;position: relative;}div.sk-label label {font-family: monospace;font-weight: bold;background-color: white;display: inline-block;line-height: 1.2em;}div.sk-label-container {position: relative;z-index: 2;text-align: center;}div.sk-container {display: inline-block;position: relative;}</style><div class=\"sk-top-container\"><div class=\"sk-container\"><div class=\"sk-item sk-dashed-wrapped\"><div class=\"sk-label-container\"><div class=\"sk-label sk-toggleable\"><input class=\"sk-toggleable__control sk-hidden--visually\" id=\"c46c7035-b20a-44e7-94ee-74ddbfd43ae8\" type=\"checkbox\" ><label class=\"sk-toggleable__label\" for=\"c46c7035-b20a-44e7-94ee-74ddbfd43ae8\">Pipeline</label><div class=\"sk-toggleable__content\"><pre>Pipeline(steps=[('scaler', MinMaxScaler()), ('normalizer', Normalizer()),\n",
       "                ('model', KNeighborsRegressor())])</pre></div></div></div><div class=\"sk-serial\"><div class=\"sk-item\"><div class=\"sk-estimator sk-toggleable\"><input class=\"sk-toggleable__control sk-hidden--visually\" id=\"9d9a730d-9e5a-4f6d-a9a1-60410271a7ca\" type=\"checkbox\" ><label class=\"sk-toggleable__label\" for=\"9d9a730d-9e5a-4f6d-a9a1-60410271a7ca\">MinMaxScaler</label><div class=\"sk-toggleable__content\"><pre>MinMaxScaler()</pre></div></div></div><div class=\"sk-item\"><div class=\"sk-estimator sk-toggleable\"><input class=\"sk-toggleable__control sk-hidden--visually\" id=\"92ab2953-9bf0-42bd-99d4-39d932025fd7\" type=\"checkbox\" ><label class=\"sk-toggleable__label\" for=\"92ab2953-9bf0-42bd-99d4-39d932025fd7\">Normalizer</label><div class=\"sk-toggleable__content\"><pre>Normalizer()</pre></div></div></div><div class=\"sk-item\"><div class=\"sk-estimator sk-toggleable\"><input class=\"sk-toggleable__control sk-hidden--visually\" id=\"1183c05e-21bd-408f-9117-a990fdae1787\" type=\"checkbox\" ><label class=\"sk-toggleable__label\" for=\"1183c05e-21bd-408f-9117-a990fdae1787\">KNeighborsRegressor</label><div class=\"sk-toggleable__content\"><pre>KNeighborsRegressor()</pre></div></div></div></div></div></div></div>"
      ],
      "text/plain": [
       "Pipeline(steps=[('scaler', MinMaxScaler()), ('normalizer', Normalizer()),\n",
       "                ('model', KNeighborsRegressor())])"
      ]
     },
     "execution_count": 6,
     "metadata": {},
     "output_type": "execute_result"
    }
   ],
   "source": [
    "pipeline"
   ]
  },
  {
   "cell_type": "markdown",
   "metadata": {},
   "source": [
    "non fittiamo la pipeline, prepariamo la grid"
   ]
  },
  {
   "cell_type": "code",
   "execution_count": 7,
   "metadata": {},
   "outputs": [
    {
     "data": {
      "text/plain": [
       "{'copy': True, 'feature_range': (0, 1)}"
      ]
     },
     "execution_count": 7,
     "metadata": {},
     "output_type": "execute_result"
    }
   ],
   "source": [
    "pipeline['scaler'].get_params()"
   ]
  },
  {
   "cell_type": "code",
   "execution_count": 8,
   "metadata": {},
   "outputs": [
    {
     "data": {
      "text/plain": [
       "{'copy': True, 'norm': 'l2'}"
      ]
     },
     "execution_count": 8,
     "metadata": {},
     "output_type": "execute_result"
    }
   ],
   "source": [
    "pipeline['normalizer'].get_params()"
   ]
  },
  {
   "cell_type": "code",
   "execution_count": 9,
   "metadata": {},
   "outputs": [
    {
     "data": {
      "text/plain": [
       "{'algorithm': 'auto',\n",
       " 'leaf_size': 30,\n",
       " 'metric': 'minkowski',\n",
       " 'metric_params': None,\n",
       " 'n_jobs': None,\n",
       " 'n_neighbors': 5,\n",
       " 'p': 2,\n",
       " 'weights': 'uniform'}"
      ]
     },
     "execution_count": 9,
     "metadata": {},
     "output_type": "execute_result"
    }
   ],
   "source": [
    "pipeline['model'].get_params()"
   ]
  },
  {
   "cell_type": "code",
   "execution_count": 10,
   "metadata": {},
   "outputs": [],
   "source": [
    "params_space = {\n",
    "    # '<step>__<param>'\n",
    "    'scaler__feature_range': [(0,1), (-1,1)],\n",
    "    'normalizer': [ Normalizer(), None ], # toggle transformer altogether\n",
    "    'model__n_neighbors': [2, 4, 6, 8, 10]\n",
    "}"
   ]
  },
  {
   "cell_type": "code",
   "execution_count": 11,
   "metadata": {},
   "outputs": [],
   "source": [
    "grid = GridSearchCV(pipeline, param_grid=params_space, cv=5, verbose=1)"
   ]
  },
  {
   "cell_type": "code",
   "execution_count": 12,
   "metadata": {},
   "outputs": [
    {
     "name": "stdout",
     "output_type": "stream",
     "text": [
      "Fitting 5 folds for each of 20 candidates, totalling 100 fits\n"
     ]
    },
    {
     "name": "stderr",
     "output_type": "stream",
     "text": [
      "[Parallel(n_jobs=1)]: Using backend SequentialBackend with 1 concurrent workers.\n",
      "[Parallel(n_jobs=1)]: Done 100 out of 100 | elapsed:   10.4s finished\n"
     ]
    },
    {
     "data": {
      "text/html": [
       "<style>div.sk-top-container {color: black;background-color: white;}div.sk-toggleable {background-color: white;}label.sk-toggleable__label {cursor: pointer;display: block;width: 100%;margin-bottom: 0;padding: 0.2em 0.3em;box-sizing: border-box;text-align: center;}div.sk-toggleable__content {max-height: 0;max-width: 0;overflow: hidden;text-align: left;background-color: #f0f8ff;}div.sk-toggleable__content pre {margin: 0.2em;color: black;border-radius: 0.25em;background-color: #f0f8ff;}input.sk-toggleable__control:checked~div.sk-toggleable__content {max-height: 200px;max-width: 100%;overflow: auto;}div.sk-estimator input.sk-toggleable__control:checked~label.sk-toggleable__label {background-color: #d4ebff;}div.sk-label input.sk-toggleable__control:checked~label.sk-toggleable__label {background-color: #d4ebff;}input.sk-hidden--visually {border: 0;clip: rect(1px 1px 1px 1px);clip: rect(1px, 1px, 1px, 1px);height: 1px;margin: -1px;overflow: hidden;padding: 0;position: absolute;width: 1px;}div.sk-estimator {font-family: monospace;background-color: #f0f8ff;margin: 0.25em 0.25em;border: 1px dotted black;border-radius: 0.25em;box-sizing: border-box;}div.sk-estimator:hover {background-color: #d4ebff;}div.sk-parallel-item::after {content: \"\";width: 100%;border-bottom: 1px solid gray;flex-grow: 1;}div.sk-label:hover label.sk-toggleable__label {background-color: #d4ebff;}div.sk-serial::before {content: \"\";position: absolute;border-left: 1px solid gray;box-sizing: border-box;top: 2em;bottom: 0;left: 50%;}div.sk-serial {display: flex;flex-direction: column;align-items: center;background-color: white;}div.sk-item {z-index: 1;}div.sk-parallel {display: flex;align-items: stretch;justify-content: center;background-color: white;}div.sk-parallel-item {display: flex;flex-direction: column;position: relative;background-color: white;}div.sk-parallel-item:first-child::after {align-self: flex-end;width: 50%;}div.sk-parallel-item:last-child::after {align-self: flex-start;width: 50%;}div.sk-parallel-item:only-child::after {width: 0;}div.sk-dashed-wrapped {border: 1px dashed gray;margin: 0.2em;box-sizing: border-box;padding-bottom: 0.1em;background-color: white;position: relative;}div.sk-label label {font-family: monospace;font-weight: bold;background-color: white;display: inline-block;line-height: 1.2em;}div.sk-label-container {position: relative;z-index: 2;text-align: center;}div.sk-container {display: inline-block;position: relative;}</style><div class=\"sk-top-container\"><div class=\"sk-container\"><div class=\"sk-item sk-dashed-wrapped\"><div class=\"sk-label-container\"><div class=\"sk-label sk-toggleable\"><input class=\"sk-toggleable__control sk-hidden--visually\" id=\"89d356e1-4bd5-43fd-916c-7127e168c670\" type=\"checkbox\" ><label class=\"sk-toggleable__label\" for=\"89d356e1-4bd5-43fd-916c-7127e168c670\">GridSearchCV</label><div class=\"sk-toggleable__content\"><pre>GridSearchCV(cv=5,\n",
       "             estimator=Pipeline(steps=[('scaler', MinMaxScaler()),\n",
       "                                       ('normalizer', Normalizer()),\n",
       "                                       ('model', KNeighborsRegressor())]),\n",
       "             param_grid={'model__n_neighbors': [2, 4, 6, 8, 10],\n",
       "                         'normalizer': [Normalizer(), None],\n",
       "                         'scaler__feature_range': [(0, 1), (-1, 1)]},\n",
       "             verbose=1)</pre></div></div></div><div class=\"sk-parallel\"><div class=\"sk-parallel-item\"><div class=\"sk-item\"><div class=\"sk-serial\"><div class=\"sk-item\"><div class=\"sk-serial\"><div class=\"sk-item\"><div class=\"sk-estimator sk-toggleable\"><input class=\"sk-toggleable__control sk-hidden--visually\" id=\"b203a5be-1492-46b6-8eef-96a6f1eadcef\" type=\"checkbox\" ><label class=\"sk-toggleable__label\" for=\"b203a5be-1492-46b6-8eef-96a6f1eadcef\">MinMaxScaler</label><div class=\"sk-toggleable__content\"><pre>MinMaxScaler()</pre></div></div></div><div class=\"sk-item\"><div class=\"sk-estimator sk-toggleable\"><input class=\"sk-toggleable__control sk-hidden--visually\" id=\"3cbe4193-5444-46a1-aa3b-47e85aefac9c\" type=\"checkbox\" ><label class=\"sk-toggleable__label\" for=\"3cbe4193-5444-46a1-aa3b-47e85aefac9c\">Normalizer</label><div class=\"sk-toggleable__content\"><pre>Normalizer()</pre></div></div></div><div class=\"sk-item\"><div class=\"sk-estimator sk-toggleable\"><input class=\"sk-toggleable__control sk-hidden--visually\" id=\"307251db-9cc2-4af9-a9a0-74c1c5b39f7c\" type=\"checkbox\" ><label class=\"sk-toggleable__label\" for=\"307251db-9cc2-4af9-a9a0-74c1c5b39f7c\">KNeighborsRegressor</label><div class=\"sk-toggleable__content\"><pre>KNeighborsRegressor()</pre></div></div></div></div></div></div></div></div></div></div></div></div>"
      ],
      "text/plain": [
       "GridSearchCV(cv=5,\n",
       "             estimator=Pipeline(steps=[('scaler', MinMaxScaler()),\n",
       "                                       ('normalizer', Normalizer()),\n",
       "                                       ('model', KNeighborsRegressor())]),\n",
       "             param_grid={'model__n_neighbors': [2, 4, 6, 8, 10],\n",
       "                         'normalizer': [Normalizer(), None],\n",
       "                         'scaler__feature_range': [(0, 1), (-1, 1)]},\n",
       "             verbose=1)"
      ]
     },
     "execution_count": 12,
     "metadata": {},
     "output_type": "execute_result"
    }
   ],
   "source": [
    "grid.fit(X_train, y_train)"
   ]
  },
  {
   "cell_type": "code",
   "execution_count": 13,
   "metadata": {},
   "outputs": [
    {
     "data": {
      "text/plain": [
       "{'model__n_neighbors': 10, 'normalizer': None, 'scaler__feature_range': (0, 1)}"
      ]
     },
     "execution_count": 13,
     "metadata": {},
     "output_type": "execute_result"
    }
   ],
   "source": [
    "grid.best_params_"
   ]
  },
  {
   "cell_type": "code",
   "execution_count": 14,
   "metadata": {},
   "outputs": [],
   "source": [
    "results = pd.DataFrame(grid.cv_results_)"
   ]
  },
  {
   "cell_type": "code",
   "execution_count": 15,
   "metadata": {},
   "outputs": [
    {
     "data": {
      "text/html": [
       "<div>\n",
       "<style scoped>\n",
       "    .dataframe tbody tr th:only-of-type {\n",
       "        vertical-align: middle;\n",
       "    }\n",
       "\n",
       "    .dataframe tbody tr th {\n",
       "        vertical-align: top;\n",
       "    }\n",
       "\n",
       "    .dataframe thead th {\n",
       "        text-align: right;\n",
       "    }\n",
       "</style>\n",
       "<table border=\"1\" class=\"dataframe\">\n",
       "  <thead>\n",
       "    <tr style=\"text-align: right;\">\n",
       "      <th></th>\n",
       "      <th>mean_fit_time</th>\n",
       "      <th>std_fit_time</th>\n",
       "      <th>mean_score_time</th>\n",
       "      <th>std_score_time</th>\n",
       "      <th>param_model__n_neighbors</th>\n",
       "      <th>param_normalizer</th>\n",
       "      <th>param_scaler__feature_range</th>\n",
       "      <th>params</th>\n",
       "      <th>split0_test_score</th>\n",
       "      <th>split1_test_score</th>\n",
       "      <th>split2_test_score</th>\n",
       "      <th>split3_test_score</th>\n",
       "      <th>split4_test_score</th>\n",
       "      <th>mean_test_score</th>\n",
       "      <th>std_test_score</th>\n",
       "      <th>rank_test_score</th>\n",
       "    </tr>\n",
       "  </thead>\n",
       "  <tbody>\n",
       "    <tr>\n",
       "      <th>0</th>\n",
       "      <td>0.018310</td>\n",
       "      <td>0.001403</td>\n",
       "      <td>0.038033</td>\n",
       "      <td>0.004467</td>\n",
       "      <td>2</td>\n",
       "      <td>Normalizer()</td>\n",
       "      <td>(0, 1)</td>\n",
       "      <td>{'model__n_neighbors': 2, 'normalizer': Normal...</td>\n",
       "      <td>0.553436</td>\n",
       "      <td>0.608841</td>\n",
       "      <td>0.597779</td>\n",
       "      <td>0.537051</td>\n",
       "      <td>0.566389</td>\n",
       "      <td>0.572699</td>\n",
       "      <td>0.026896</td>\n",
       "      <td>20</td>\n",
       "    </tr>\n",
       "    <tr>\n",
       "      <th>1</th>\n",
       "      <td>0.017294</td>\n",
       "      <td>0.000093</td>\n",
       "      <td>0.076745</td>\n",
       "      <td>0.007403</td>\n",
       "      <td>2</td>\n",
       "      <td>Normalizer()</td>\n",
       "      <td>(-1, 1)</td>\n",
       "      <td>{'model__n_neighbors': 2, 'normalizer': Normal...</td>\n",
       "      <td>0.635815</td>\n",
       "      <td>0.647700</td>\n",
       "      <td>0.676509</td>\n",
       "      <td>0.640096</td>\n",
       "      <td>0.639331</td>\n",
       "      <td>0.647890</td>\n",
       "      <td>0.014825</td>\n",
       "      <td>16</td>\n",
       "    </tr>\n",
       "    <tr>\n",
       "      <th>2</th>\n",
       "      <td>0.015201</td>\n",
       "      <td>0.000308</td>\n",
       "      <td>0.075883</td>\n",
       "      <td>0.016325</td>\n",
       "      <td>2</td>\n",
       "      <td>None</td>\n",
       "      <td>(0, 1)</td>\n",
       "      <td>{'model__n_neighbors': 2, 'normalizer': None, ...</td>\n",
       "      <td>0.630555</td>\n",
       "      <td>0.657882</td>\n",
       "      <td>0.667888</td>\n",
       "      <td>0.627792</td>\n",
       "      <td>0.646962</td>\n",
       "      <td>0.646216</td>\n",
       "      <td>0.015434</td>\n",
       "      <td>17</td>\n",
       "    </tr>\n",
       "    <tr>\n",
       "      <th>3</th>\n",
       "      <td>0.015112</td>\n",
       "      <td>0.000223</td>\n",
       "      <td>0.075884</td>\n",
       "      <td>0.016884</td>\n",
       "      <td>2</td>\n",
       "      <td>None</td>\n",
       "      <td>(-1, 1)</td>\n",
       "      <td>{'model__n_neighbors': 2, 'normalizer': None, ...</td>\n",
       "      <td>0.630555</td>\n",
       "      <td>0.657882</td>\n",
       "      <td>0.667888</td>\n",
       "      <td>0.627792</td>\n",
       "      <td>0.646962</td>\n",
       "      <td>0.646216</td>\n",
       "      <td>0.015434</td>\n",
       "      <td>17</td>\n",
       "    </tr>\n",
       "    <tr>\n",
       "      <th>4</th>\n",
       "      <td>0.017622</td>\n",
       "      <td>0.001022</td>\n",
       "      <td>0.044704</td>\n",
       "      <td>0.003550</td>\n",
       "      <td>4</td>\n",
       "      <td>Normalizer()</td>\n",
       "      <td>(0, 1)</td>\n",
       "      <td>{'model__n_neighbors': 4, 'normalizer': Normal...</td>\n",
       "      <td>0.618786</td>\n",
       "      <td>0.660243</td>\n",
       "      <td>0.648251</td>\n",
       "      <td>0.613309</td>\n",
       "      <td>0.623208</td>\n",
       "      <td>0.632760</td>\n",
       "      <td>0.018222</td>\n",
       "      <td>19</td>\n",
       "    </tr>\n",
       "  </tbody>\n",
       "</table>\n",
       "</div>"
      ],
      "text/plain": [
       "   mean_fit_time  std_fit_time  mean_score_time  std_score_time  \\\n",
       "0       0.018310      0.001403         0.038033        0.004467   \n",
       "1       0.017294      0.000093         0.076745        0.007403   \n",
       "2       0.015201      0.000308         0.075883        0.016325   \n",
       "3       0.015112      0.000223         0.075884        0.016884   \n",
       "4       0.017622      0.001022         0.044704        0.003550   \n",
       "\n",
       "  param_model__n_neighbors param_normalizer param_scaler__feature_range  \\\n",
       "0                        2     Normalizer()                      (0, 1)   \n",
       "1                        2     Normalizer()                     (-1, 1)   \n",
       "2                        2             None                      (0, 1)   \n",
       "3                        2             None                     (-1, 1)   \n",
       "4                        4     Normalizer()                      (0, 1)   \n",
       "\n",
       "                                              params  split0_test_score  \\\n",
       "0  {'model__n_neighbors': 2, 'normalizer': Normal...           0.553436   \n",
       "1  {'model__n_neighbors': 2, 'normalizer': Normal...           0.635815   \n",
       "2  {'model__n_neighbors': 2, 'normalizer': None, ...           0.630555   \n",
       "3  {'model__n_neighbors': 2, 'normalizer': None, ...           0.630555   \n",
       "4  {'model__n_neighbors': 4, 'normalizer': Normal...           0.618786   \n",
       "\n",
       "   split1_test_score  split2_test_score  split3_test_score  split4_test_score  \\\n",
       "0           0.608841           0.597779           0.537051           0.566389   \n",
       "1           0.647700           0.676509           0.640096           0.639331   \n",
       "2           0.657882           0.667888           0.627792           0.646962   \n",
       "3           0.657882           0.667888           0.627792           0.646962   \n",
       "4           0.660243           0.648251           0.613309           0.623208   \n",
       "\n",
       "   mean_test_score  std_test_score  rank_test_score  \n",
       "0         0.572699        0.026896               20  \n",
       "1         0.647890        0.014825               16  \n",
       "2         0.646216        0.015434               17  \n",
       "3         0.646216        0.015434               17  \n",
       "4         0.632760        0.018222               19  "
      ]
     },
     "execution_count": 15,
     "metadata": {},
     "output_type": "execute_result"
    }
   ],
   "source": [
    "results.head()"
   ]
  },
  {
   "cell_type": "code",
   "execution_count": 16,
   "metadata": {},
   "outputs": [
    {
     "data": {
      "text/plain": [
       "<matplotlib.axes._subplots.AxesSubplot at 0x7f46feb08b50>"
      ]
     },
     "execution_count": 16,
     "metadata": {},
     "output_type": "execute_result"
    },
    {
     "data": {
      "image/png": "[encoded data removed]",
      "text/plain": [
       "<Figure size 432x288 with 1 Axes>"
      ]
     },
     "metadata": {
      "needs_background": "light"
     },
     "output_type": "display_data"
    }
   ],
   "source": [
    "results['param_normalizer'].fillna('no', inplace=True)\n",
    "sns.barplot(data=results, x='param_normalizer', y='mean_test_score')"
   ]
  },
  {
   "cell_type": "markdown",
   "metadata": {},
   "source": [
    "Esercizio: usare altri modelli (es. rete neurale)"
   ]
  },
  {
   "cell_type": "code",
   "execution_count": null,
   "metadata": {},
   "outputs": [],
   "source": []
  }
 ],
 "metadata": {
  "kernelspec": {
   "display_name": "Python 3",
   "language": "python",
   "name": "python3"
  },
  "language_info": {
   "codemirror_mode": {
    "name": "ipython",
    "version": 3
   },
   "file_extension": ".py",
   "mimetype": "text/x-python",
   "name": "python",
   "nbconvert_exporter": "python",
   "pygments_lexer": "ipython3",
   "version": "3.8.2"
  }
 },
 "nbformat": 4,
 "nbformat_minor": 4
}
