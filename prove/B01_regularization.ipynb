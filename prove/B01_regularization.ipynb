{
 "cells": [
  {
   "cell_type": "markdown",
   "metadata": {},
   "source": [
    "Abbiamo parlato nel corso base di underfitting e overfitting (fai vedere schema)\n",
    "- underfitting vuol dire che il modello non apprende a sufficienza (basso train, basso test)\n",
    "- overfitting vuol dire che il modello apprende troppo senza generalizzare (alto train, basso test)\n",
    "\n",
    "La regolarizzazione è un'insieme di tecniche che permette di prevenire l'overfitting\n",
    "\n",
    "Vediamo come farlo in particolare per 2 tecniche che sono potentissime ma tendono all'overfitting: alberi e reti neurali."
   ]
  },
  {
   "cell_type": "code",
   "execution_count": 55,
   "metadata": {},
   "outputs": [
    {
     "name": "stderr",
     "output_type": "stream",
     "text": [
      "C:\\Users\\Piero\\Anaconda3\\lib\\importlib\\_bootstrap.py:219: RuntimeWarning: numpy.ufunc size changed, may indicate binary incompatibility. Expected 192 from C header, got 216 from PyObject\n",
      "  return f(*args, **kwds)\n"
     ]
    }
   ],
   "source": [
    "import pandas as pd\n",
    "import matplotlib.pyplot as plt\n",
    "import seaborn as sns\n",
    "\n",
    "from sklearn.datasets import fetch_california_housing\n",
    "from sklearn.model_selection import train_test_split\n",
    "from sklearn.tree import DecisionTreeClassifier, DecisionTreeRegressor\n",
    "from sklearn.ensemble import RandomForestClassifier, RandomForestRegressor\n",
    "from sklearn.neural_network import MLPClassifier, MLPRegressor"
   ]
  },
  {
   "cell_type": "code",
   "execution_count": 47,
   "metadata": {},
   "outputs": [],
   "source": [
    "X, y = fetch_california_housing(return_X_y=True, as_frame=True)"
   ]
  },
  {
   "cell_type": "code",
   "execution_count": 48,
   "metadata": {},
   "outputs": [
    {
     "data": {
      "text/html": [
       "<div>\n",
       "<style scoped>\n",
       "    .dataframe tbody tr th:only-of-type {\n",
       "        vertical-align: middle;\n",
       "    }\n",
       "\n",
       "    .dataframe tbody tr th {\n",
       "        vertical-align: top;\n",
       "    }\n",
       "\n",
       "    .dataframe thead th {\n",
       "        text-align: right;\n",
       "    }\n",
       "</style>\n",
       "<table border=\"1\" class=\"dataframe\">\n",
       "  <thead>\n",
       "    <tr style=\"text-align: right;\">\n",
       "      <th></th>\n",
       "      <th>MedInc</th>\n",
       "      <th>HouseAge</th>\n",
       "      <th>AveRooms</th>\n",
       "      <th>AveBedrms</th>\n",
       "      <th>Population</th>\n",
       "      <th>AveOccup</th>\n",
       "      <th>Latitude</th>\n",
       "      <th>Longitude</th>\n",
       "    </tr>\n",
       "  </thead>\n",
       "  <tbody>\n",
       "    <tr>\n",
       "      <td>0</td>\n",
       "      <td>8.3252</td>\n",
       "      <td>41.0</td>\n",
       "      <td>6.984127</td>\n",
       "      <td>1.023810</td>\n",
       "      <td>322.0</td>\n",
       "      <td>2.555556</td>\n",
       "      <td>37.88</td>\n",
       "      <td>-122.23</td>\n",
       "    </tr>\n",
       "    <tr>\n",
       "      <td>1</td>\n",
       "      <td>8.3014</td>\n",
       "      <td>21.0</td>\n",
       "      <td>6.238137</td>\n",
       "      <td>0.971880</td>\n",
       "      <td>2401.0</td>\n",
       "      <td>2.109842</td>\n",
       "      <td>37.86</td>\n",
       "      <td>-122.22</td>\n",
       "    </tr>\n",
       "    <tr>\n",
       "      <td>2</td>\n",
       "      <td>7.2574</td>\n",
       "      <td>52.0</td>\n",
       "      <td>8.288136</td>\n",
       "      <td>1.073446</td>\n",
       "      <td>496.0</td>\n",
       "      <td>2.802260</td>\n",
       "      <td>37.85</td>\n",
       "      <td>-122.24</td>\n",
       "    </tr>\n",
       "    <tr>\n",
       "      <td>3</td>\n",
       "      <td>5.6431</td>\n",
       "      <td>52.0</td>\n",
       "      <td>5.817352</td>\n",
       "      <td>1.073059</td>\n",
       "      <td>558.0</td>\n",
       "      <td>2.547945</td>\n",
       "      <td>37.85</td>\n",
       "      <td>-122.25</td>\n",
       "    </tr>\n",
       "    <tr>\n",
       "      <td>4</td>\n",
       "      <td>3.8462</td>\n",
       "      <td>52.0</td>\n",
       "      <td>6.281853</td>\n",
       "      <td>1.081081</td>\n",
       "      <td>565.0</td>\n",
       "      <td>2.181467</td>\n",
       "      <td>37.85</td>\n",
       "      <td>-122.25</td>\n",
       "    </tr>\n",
       "  </tbody>\n",
       "</table>\n",
       "</div>"
      ],
      "text/plain": [
       "   MedInc  HouseAge  AveRooms  AveBedrms  Population  AveOccup  Latitude  \\\n",
       "0  8.3252      41.0  6.984127   1.023810       322.0  2.555556     37.88   \n",
       "1  8.3014      21.0  6.238137   0.971880      2401.0  2.109842     37.86   \n",
       "2  7.2574      52.0  8.288136   1.073446       496.0  2.802260     37.85   \n",
       "3  5.6431      52.0  5.817352   1.073059       558.0  2.547945     37.85   \n",
       "4  3.8462      52.0  6.281853   1.081081       565.0  2.181467     37.85   \n",
       "\n",
       "   Longitude  \n",
       "0    -122.23  \n",
       "1    -122.22  \n",
       "2    -122.24  \n",
       "3    -122.25  \n",
       "4    -122.25  "
      ]
     },
     "execution_count": 48,
     "metadata": {},
     "output_type": "execute_result"
    }
   ],
   "source": [
    "X.head()"
   ]
  },
  {
   "cell_type": "code",
   "execution_count": 49,
   "metadata": {},
   "outputs": [
    {
     "data": {
      "text/plain": [
       "0    4.526\n",
       "1    3.585\n",
       "2    3.521\n",
       "3    3.413\n",
       "4    3.422\n",
       "Name: MedHouseVal, dtype: float64"
      ]
     },
     "execution_count": 49,
     "metadata": {},
     "output_type": "execute_result"
    }
   ],
   "source": [
    "y.head()"
   ]
  },
  {
   "cell_type": "code",
   "execution_count": 33,
   "metadata": {},
   "outputs": [],
   "source": [
    "X_train, X_test, y_train, y_test = train_test_split(X, y)"
   ]
  },
  {
   "cell_type": "markdown",
   "metadata": {},
   "source": [
    "# Tree"
   ]
  },
  {
   "cell_type": "markdown",
   "metadata": {},
   "source": [
    "### Profondità dell'albero\n",
    "Approfondiremo questo aspetto nei video successivi\n",
    "- sia aper fare più esperimenti con gli stessi iperparametri (cross_validation)\n",
    "- sia per esplorare gli iperparametri (grid_search)\n",
    "- nel frattempo una demo veloce"
   ]
  },
  {
   "cell_type": "code",
   "execution_count": 34,
   "metadata": {},
   "outputs": [
    {
     "data": {
      "text/plain": [
       "(1.0, 0.6106695054464031)"
      ]
     },
     "execution_count": 34,
     "metadata": {},
     "output_type": "execute_result"
    }
   ],
   "source": [
    "model_overfitted = DecisionTreeRegressor(max_depth=1000)\n",
    "model_overfitted.fit(X_train, y_train)\n",
    "\n",
    "train_acc = model_overfitted.score(X_train, y_train)\n",
    "test_acc = model_overfitted.score(X_test, y_test)\n",
    "\n",
    "train_acc, test_acc"
   ]
  },
  {
   "cell_type": "code",
   "execution_count": 38,
   "metadata": {},
   "outputs": [
    {
     "data": {
      "text/plain": [
       "[{'train': 0.309677707160087, 'test': 0.309842432855323},\n",
       " {'train': 0.44802094552686444, 'test': 0.4426626299601194},\n",
       " {'train': 0.5354150348931558, 'test': 0.5233644576485253},\n",
       " {'train': 0.5860781469464467, 'test': 0.5792724676105434},\n",
       " {'train': 0.6397297408632434, 'test': 0.6299580439397111},\n",
       " {'train': 0.6860629765551634, 'test': 0.668392555239836},\n",
       " {'train': 0.7264427836509177, 'test': 0.6948741606425981},\n",
       " {'train': 0.7716382839246155, 'test': 0.7073845595747859},\n",
       " {'train': 0.8092385645340466, 'test': 0.7060321807165284},\n",
       " {'train': 0.8437509509863241, 'test': 0.6966435704524983},\n",
       " {'train': 0.8777769414830772, 'test': 0.7005801173362287},\n",
       " {'train': 0.9056297151862847, 'test': 0.6777518327244534},\n",
       " {'train': 0.9297491566967448, 'test': 0.6708067347386271},\n",
       " {'train': 0.9499872698453266, 'test': 0.6577495893135494},\n",
       " {'train': 0.9646521051314702, 'test': 0.6468011482221099},\n",
       " {'train': 0.9759209546417565, 'test': 0.6369521014842249},\n",
       " {'train': 0.983964406680594, 'test': 0.6328974587721237},\n",
       " {'train': 0.989479523348921, 'test': 0.614010662263075},\n",
       " {'train': 0.9935112865321916, 'test': 0.6178656378277806},\n",
       " {'train': 0.9959533278827339, 'test': 0.6122058251755513},\n",
       " {'train': 0.9974935910424861, 'test': 0.6221216247723882},\n",
       " {'train': 0.9985215911191109, 'test': 0.6141147694973004},\n",
       " {'train': 0.999222297034177, 'test': 0.6172458551399491},\n",
       " {'train': 0.999624148199487, 'test': 0.6124365472991118},\n",
       " {'train': 0.9998204103785561, 'test': 0.6203309749837145},\n",
       " {'train': 0.9999126317149861, 'test': 0.6234926834305392},\n",
       " {'train': 0.9999700937922255, 'test': 0.6105781302397857},\n",
       " {'train': 0.9999873643890536, 'test': 0.6281647116991843},\n",
       " {'train': 0.9999928800565651, 'test': 0.6074505828474988}]"
      ]
     },
     "execution_count": 38,
     "metadata": {},
     "output_type": "execute_result"
    }
   ],
   "source": [
    "# per adesso a mano, più in là nel corso con la grid search\n",
    "\n",
    "results = []\n",
    "\n",
    "for depth in range(1, 30):\n",
    "    model = DecisionTreeRegressor(max_depth=depth)\n",
    "    model.fit(X_train, y_train)\n",
    "    \n",
    "    results.append({\n",
    "        'train': model.score(X_train, y_train),\n",
    "        'test' : model.score(X_test, y_test)\n",
    "    })\n",
    "\n",
    "results"
   ]
  },
  {
   "cell_type": "code",
   "execution_count": 40,
   "metadata": {},
   "outputs": [
    {
     "data": {
      "text/plain": [
       "<matplotlib.axes._subplots.AxesSubplot at 0x2111f048648>"
      ]
     },
     "execution_count": 40,
     "metadata": {},
     "output_type": "execute_result"
    },
    {
     "data": {
      "image/png": "[encoded data removed]",
      "text/plain": [
       "<Figure size 432x288 with 1 Axes>"
      ]
     },
     "metadata": {
      "needs_background": "light"
     },
     "output_type": "display_data"
    }
   ],
   "source": [
    "pd.DataFrame(results).plot()"
   ]
  },
  {
   "cell_type": "markdown",
   "metadata": {},
   "source": [
    "### Ensembling\n",
    "\n",
    "- un modo di tenere a bada l'overfitting dell'albero è metterne diversi a votazione\n",
    "- approfondiremo con una sezione tutta sull'ensembling"
   ]
  },
  {
   "cell_type": "code",
   "execution_count": 43,
   "metadata": {},
   "outputs": [
    {
     "data": {
      "text/plain": [
       "(0.9569824650577888, 0.8041666416027987)"
      ]
     },
     "execution_count": 43,
     "metadata": {},
     "output_type": "execute_result"
    }
   ],
   "source": [
    "forest = RandomForestRegressor(n_estimators=100, max_depth=15)\n",
    "forest.fit(X_train, y_train)\n",
    "\n",
    "acc_train = forest.score(X_train, y_train)\n",
    "acc_test = forest.score(X_test, y_test)\n",
    "\n",
    "acc_train, acc_test\n",
    "\n",
    "# esercizio: trova il numero di alberi e la profondità ottimale (rifallo con la grid)"
   ]
  },
  {
   "cell_type": "markdown",
   "metadata": {},
   "source": [
    "# Neural Net\n",
    "\n",
    "- **Early stopping**\n",
    "    Fermiamo l'apprendimento prima che la rete possa overfittare\n",
    "- **L1 e L2**\n",
    "    Facciamo in modo che i pesi della rete rimangano bassi, penalizzando pesi alti\n",
    "-  **dropout** Spegniamo a caso dei neuroni durante la fase di apprendimento per fare in modo che nessuno si specializzi su un certo record\n",
    "- non ci sono regole, bisogna fare esperimenti!"
   ]
  },
  {
   "cell_type": "code",
   "execution_count": 69,
   "metadata": {},
   "outputs": [
    {
     "name": "stdout",
     "output_type": "stream",
     "text": [
      "Architecture [20]\n",
      "Architecture [50]\n",
      "Architecture [100]\n"
     ]
    },
    {
     "data": {
      "text/plain": [
       "[{'train': 0.3691135757431462,\n",
       "  'test': 0.3876812388780758,\n",
       "  'architecture': '[20]',\n",
       "  'name': 'default'},\n",
       " {'train': 0.38199272693283526,\n",
       "  'test': 0.37939728492821834,\n",
       "  'architecture': '[20]',\n",
       "  'name': 'early_stop'},\n",
       " {'train': 0.48018853732682076,\n",
       "  'test': 0.5047521816353941,\n",
       "  'architecture': '[20]',\n",
       "  'name': 'L2'},\n",
       " {'train': 0.5355459898164465,\n",
       "  'test': 0.5256379126644336,\n",
       "  'architecture': '[50]',\n",
       "  'name': 'default'},\n",
       " {'train': 0.5790293885878988,\n",
       "  'test': 0.5746879975669654,\n",
       "  'architecture': '[50]',\n",
       "  'name': 'early_stop'},\n",
       " {'train': 0.08509614387061881,\n",
       "  'test': 0.07552285498659561,\n",
       "  'architecture': '[50]',\n",
       "  'name': 'L2'},\n",
       " {'train': 0.5278087717439128,\n",
       "  'test': 0.5202403408384233,\n",
       "  'architecture': '[100]',\n",
       "  'name': 'default'},\n",
       " {'train': 0.26612201527361434,\n",
       "  'test': 0.2599590695509265,\n",
       "  'architecture': '[100]',\n",
       "  'name': 'early_stop'},\n",
       " {'train': -0.39279874480024746,\n",
       "  'test': -0.38905363688525885,\n",
       "  'architecture': '[100]',\n",
       "  'name': 'L2'}]"
      ]
     },
     "execution_count": 69,
     "metadata": {},
     "output_type": "execute_result"
    }
   ],
   "source": [
    "results = []\n",
    "\n",
    "for architecture in [ [20], [50], [100] ]:\n",
    "    \n",
    "    print(f'Architecture {architecture}')\n",
    "    \n",
    "    models = {\n",
    "        'default'    : MLPRegressor(hidden_layer_sizes=architecture, max_iter=10000),\n",
    "        'early_stop' : MLPRegressor(hidden_layer_sizes=architecture, max_iter=1000),\n",
    "        'L2'         : MLPRegressor(hidden_layer_sizes=architecture, alpha=0.03),\n",
    "    }\n",
    "    \n",
    "    for name, net in models.items():\n",
    "        net.fit(X_train, y_train)\n",
    "        \n",
    "        results.append({\n",
    "            'train': net.score(X_train, y_train),\n",
    "            'test' : net.score(X_test, y_test),\n",
    "            'architecture': str(architecture),\n",
    "            'name' : name\n",
    "        })\n",
    "    \n",
    "results"
   ]
  },
  {
   "cell_type": "code",
   "execution_count": 74,
   "metadata": {},
   "outputs": [
    {
     "data": {
      "text/html": [
       "<div>\n",
       "<style scoped>\n",
       "    .dataframe tbody tr th:only-of-type {\n",
       "        vertical-align: middle;\n",
       "    }\n",
       "\n",
       "    .dataframe tbody tr th {\n",
       "        vertical-align: top;\n",
       "    }\n",
       "\n",
       "    .dataframe thead th {\n",
       "        text-align: right;\n",
       "    }\n",
       "</style>\n",
       "<table border=\"1\" class=\"dataframe\">\n",
       "  <thead>\n",
       "    <tr style=\"text-align: right;\">\n",
       "      <th></th>\n",
       "      <th>train</th>\n",
       "      <th>test</th>\n",
       "      <th>architecture</th>\n",
       "      <th>name</th>\n",
       "    </tr>\n",
       "  </thead>\n",
       "  <tbody>\n",
       "    <tr>\n",
       "      <td>0</td>\n",
       "      <td>0.369114</td>\n",
       "      <td>0.387681</td>\n",
       "      <td>[20]</td>\n",
       "      <td>default</td>\n",
       "    </tr>\n",
       "    <tr>\n",
       "      <td>1</td>\n",
       "      <td>0.381993</td>\n",
       "      <td>0.379397</td>\n",
       "      <td>[20]</td>\n",
       "      <td>early_stop</td>\n",
       "    </tr>\n",
       "    <tr>\n",
       "      <td>2</td>\n",
       "      <td>0.480189</td>\n",
       "      <td>0.504752</td>\n",
       "      <td>[20]</td>\n",
       "      <td>L2</td>\n",
       "    </tr>\n",
       "    <tr>\n",
       "      <td>3</td>\n",
       "      <td>0.535546</td>\n",
       "      <td>0.525638</td>\n",
       "      <td>[50]</td>\n",
       "      <td>default</td>\n",
       "    </tr>\n",
       "    <tr>\n",
       "      <td>4</td>\n",
       "      <td>0.579029</td>\n",
       "      <td>0.574688</td>\n",
       "      <td>[50]</td>\n",
       "      <td>early_stop</td>\n",
       "    </tr>\n",
       "    <tr>\n",
       "      <td>5</td>\n",
       "      <td>0.085096</td>\n",
       "      <td>0.075523</td>\n",
       "      <td>[50]</td>\n",
       "      <td>L2</td>\n",
       "    </tr>\n",
       "    <tr>\n",
       "      <td>6</td>\n",
       "      <td>0.527809</td>\n",
       "      <td>0.520240</td>\n",
       "      <td>[100]</td>\n",
       "      <td>default</td>\n",
       "    </tr>\n",
       "    <tr>\n",
       "      <td>7</td>\n",
       "      <td>0.266122</td>\n",
       "      <td>0.259959</td>\n",
       "      <td>[100]</td>\n",
       "      <td>early_stop</td>\n",
       "    </tr>\n",
       "    <tr>\n",
       "      <td>8</td>\n",
       "      <td>-0.392799</td>\n",
       "      <td>-0.389054</td>\n",
       "      <td>[100]</td>\n",
       "      <td>L2</td>\n",
       "    </tr>\n",
       "  </tbody>\n",
       "</table>\n",
       "</div>"
      ],
      "text/plain": [
       "      train      test architecture        name\n",
       "0  0.369114  0.387681         [20]     default\n",
       "1  0.381993  0.379397         [20]  early_stop\n",
       "2  0.480189  0.504752         [20]          L2\n",
       "3  0.535546  0.525638         [50]     default\n",
       "4  0.579029  0.574688         [50]  early_stop\n",
       "5  0.085096  0.075523         [50]          L2\n",
       "6  0.527809  0.520240        [100]     default\n",
       "7  0.266122  0.259959        [100]  early_stop\n",
       "8 -0.392799 -0.389054        [100]          L2"
      ]
     },
     "execution_count": 74,
     "metadata": {},
     "output_type": "execute_result"
    }
   ],
   "source": [
    "df = pd.DataFrame(results)\n",
    "df"
   ]
  },
  {
   "cell_type": "code",
   "execution_count": 75,
   "metadata": {},
   "outputs": [
    {
     "data": {
      "text/plain": [
       "<matplotlib.axes._subplots.AxesSubplot at 0x21120fd4c48>"
      ]
     },
     "execution_count": 75,
     "metadata": {},
     "output_type": "execute_result"
    },
    {
     "data": {
      "image/png": "[encoded data removed]",
      "text/plain": [
       "<Figure size 432x288 with 1 Axes>"
      ]
     },
     "metadata": {
      "needs_background": "light"
     },
     "output_type": "display_data"
    }
   ],
   "source": [
    "sns.barplot(data=df, x='name', y='test', hue='architecture')"
   ]
  },
  {
   "cell_type": "code",
   "execution_count": null,
   "metadata": {},
   "outputs": [],
   "source": []
  }
 ],
 "metadata": {
  "kernelspec": {
   "display_name": "Python 3",
   "language": "python",
   "name": "python3"
  },
  "language_info": {
   "codemirror_mode": {
    "name": "ipython",
    "version": 3
   },
   "file_extension": ".py",
   "mimetype": "text/x-python",
   "name": "python",
   "nbconvert_exporter": "python",
   "pygments_lexer": "ipython3",
   "version": "3.7.4"
  }
 },
 "nbformat": 4,
 "nbformat_minor": 4
}
