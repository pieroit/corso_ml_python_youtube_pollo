{
 "cells": [
  {
   "cell_type": "markdown",
   "metadata": {},
   "source": [
    "Abbiamo parlato nel corso base di underfitting e overfitting (fai vedere schema)\n",
    "- underfitting vuol dire che il modello non apprende a sufficienza (basso train, basso test)\n",
    "- overfitting vuol dire che il modello apprende troppo senza generalizzare (alto train, basso test)\n",
    "\n",
    "La regolarizzazione è un'insieme di tecniche che permette di prevenire l'overfitting\n",
    "\n",
    "Vediamo come farlo in particolare per 2 tecniche che sono potentissime ma tendono all'overfitting: alberi e reti neurali."
   ]
  },
  {
   "cell_type": "code",
   "execution_count": 1,
   "metadata": {},
   "outputs": [],
   "source": [
    "import numpy as np\n",
    "import matplotlib.pyplot as plt\n",
    "from sklearn.datasets import fetch_olivetti_faces\n",
    "from sklearn.model_selection import train_test_split\n",
    "from sklearn.tree import DecisionTreeClassifier\n",
    "from sklearn.ensemble import RandomForestClassifier\n",
    "from sklearn.neural_network import MLPClassifier"
   ]
  },
  {
   "cell_type": "code",
   "execution_count": 2,
   "metadata": {},
   "outputs": [],
   "source": [
    "X, y = fetch_olivetti_faces(return_X_y=True)"
   ]
  },
  {
   "cell_type": "code",
   "execution_count": 3,
   "metadata": {},
   "outputs": [],
   "source": [
    "X_train, X_test, y_train, y_test = train_test_split(X, y)"
   ]
  },
  {
   "cell_type": "markdown",
   "metadata": {},
   "source": [
    "# Tree"
   ]
  },
  {
   "cell_type": "markdown",
   "metadata": {},
   "source": [
    "### Profondità dell'albero\n",
    "Approfondiremo questo aspetto nei video successivi, nel frattempo una demo veloce"
   ]
  },
  {
   "cell_type": "code",
   "execution_count": 4,
   "metadata": {},
   "outputs": [
    {
     "data": {
      "text/plain": [
       "(1.0, 0.55)"
      ]
     },
     "execution_count": 4,
     "metadata": {},
     "output_type": "execute_result"
    }
   ],
   "source": [
    "model_overfitted = DecisionTreeClassifier(max_depth=1000)\n",
    "model_overfitted.fit(X_train, y_train)\n",
    "\n",
    "train_acc = model_overfitted.score(X_train, y_train)\n",
    "test_acc = model_overfitted.score(X_test, y_test)\n",
    "\n",
    "train_acc, test_acc"
   ]
  },
  {
   "cell_type": "code",
   "execution_count": 5,
   "metadata": {},
   "outputs": [
    {
     "name": "stdout",
     "output_type": "stream",
     "text": [
      "Depth 1: 0.06333333333333334, 0.0\n",
      "Depth 3: 0.12333333333333334, 0.01\n",
      "Depth 5: 0.20333333333333334, 0.05\n",
      "Depth 7: 0.29333333333333333, 0.1\n",
      "Depth 9: 0.37, 0.19\n",
      "Depth 11: 0.42, 0.19\n",
      "Depth 13: 0.4766666666666667, 0.22\n",
      "Depth 15: 0.55, 0.28\n",
      "Depth 17: 0.6033333333333334, 0.32\n",
      "Depth 19: 0.6433333333333333, 0.35\n",
      "Depth 21: 0.69, 0.4\n",
      "Depth 23: 0.74, 0.43\n",
      "Depth 25: 0.79, 0.45\n",
      "Depth 27: 0.84, 0.52\n",
      "Depth 29: 0.9033333333333333, 0.47\n",
      "Depth 31: 0.9533333333333334, 0.48\n",
      "Depth 33: 0.9833333333333333, 0.52\n",
      "Depth 35: 0.9966666666666667, 0.52\n",
      "Depth 37: 1.0, 0.47\n",
      "Depth 39: 1.0, 0.55\n",
      "Depth 41: 1.0, 0.58\n",
      "Depth 43: 1.0, 0.58\n",
      "Depth 45: 1.0, 0.55\n",
      "Depth 47: 1.0, 0.55\n",
      "Depth 49: 1.0, 0.5\n"
     ]
    }
   ],
   "source": [
    "for depth in range(1, 50, 2):\n",
    "    model = DecisionTreeClassifier(max_depth=depth)\n",
    "    model.fit(X_train, y_train)\n",
    "\n",
    "    train_acc = model.score(X_train, y_train)\n",
    "    test_acc = model.score(X_test, y_test)\n",
    "\n",
    "    print(f'Depth {depth}: {train_acc}, {test_acc}')"
   ]
  },
  {
   "cell_type": "markdown",
   "metadata": {},
   "source": [
    "### Ensembling"
   ]
  },
  {
   "cell_type": "code",
   "execution_count": 6,
   "metadata": {},
   "outputs": [
    {
     "data": {
      "text/plain": [
       "(1.0, 0.88)"
      ]
     },
     "execution_count": 6,
     "metadata": {},
     "output_type": "execute_result"
    }
   ],
   "source": [
    "forest = RandomForestClassifier(n_estimators=100, max_depth=15)\n",
    "forest.fit(X_train, y_train)\n",
    "\n",
    "acc_train = forest.score(X_train, y_train)\n",
    "acc_test = forest.score(X_test, y_test)\n",
    "\n",
    "acc_train, acc_test"
   ]
  },
  {
   "cell_type": "markdown",
   "metadata": {},
   "source": [
    "# Neural Net\n",
    "\n",
    "- **Early stopping**\n",
    "    Fermiamo l'apprendimento prima che la rete possa overfittare\n",
    "- **L1 e L2**\n",
    "    Facciamo in modo che i pesi della rete rimangano bassi, penalizzando pesi alti\n",
    "-  **dropout** Spegniamo a caso dei neuroni durante la fase di apprendimento per fare in modo che nessuno si specializzi su un certo record"
   ]
  },
  {
   "cell_type": "code",
   "execution_count": 8,
   "metadata": {},
   "outputs": [
    {
     "name": "stdout",
     "output_type": "stream",
     "text": [
      "Architecture [30, 30]\n",
      "   default: 0.11666666666666667, 0.03\n",
      "   early_stop: 0.5733333333333334, 0.22\n",
      "Architecture [50, 50]\n",
      "   default: 0.5566666666666666, 0.41\n",
      "   early_stop: 0.49333333333333335, 0.23\n",
      "Architecture [60, 60]\n",
      "   default: 1.0, 0.91\n",
      "   early_stop: 0.84, 0.43\n",
      "Architecture [70, 70]\n",
      "   default: 1.0, 0.93\n",
      "   early_stop: 1.0, 0.93\n",
      "Architecture [80, 80]\n",
      "   default: 1.0, 0.88\n",
      "   early_stop: 1.0, 0.89\n"
     ]
    }
   ],
   "source": [
    "architecture = [20]\n",
    "\n",
    "for architecture in [ [30, 30], [50,50], [60, 60], [70, 70], [80,80]  ]:\n",
    "    models = {\n",
    "        'default'    : MLPClassifier(hidden_layer_sizes=architecture, max_iter=10000),\n",
    "        'early_stop' : MLPClassifier(hidden_layer_sizes=architecture, max_iter=1000),\n",
    "        #'L2'         : MLPRegressor(hidden_layer_sizes=[100, 100], alpha=0.03),\n",
    "        #'dropout'    : NON C'E' in SCIKIT\n",
    "    }\n",
    "    \n",
    "    print(f'Architecture {architecture}')\n",
    "    for name, net in models.items():\n",
    "        net.fit(X_train, y_train)\n",
    "        acc_train = net.score(X_train, y_train)\n",
    "        acc_test  = net.score(X_test, y_test)\n",
    "        print(f'   {name}: {acc_train}, {acc_test}')"
   ]
  },
  {
   "cell_type": "code",
   "execution_count": null,
   "metadata": {},
   "outputs": [],
   "source": []
  },
  {
   "cell_type": "code",
   "execution_count": null,
   "metadata": {},
   "outputs": [],
   "source": []
  }
 ],
 "metadata": {
  "kernelspec": {
   "display_name": "Python 3",
   "language": "python",
   "name": "python3"
  },
  "language_info": {
   "codemirror_mode": {
    "name": "ipython",
    "version": 3
   },
   "file_extension": ".py",
   "mimetype": "text/x-python",
   "name": "python",
   "nbconvert_exporter": "python",
   "pygments_lexer": "ipython3",
   "version": "3.7.4"
  }
 },
 "nbformat": 4,
 "nbformat_minor": 4
}
